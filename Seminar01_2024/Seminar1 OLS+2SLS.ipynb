{
 "cells": [
  {
   "cell_type": "markdown",
   "metadata": {
    "slideshow": {
     "slide_type": "-"
    }
   },
   "source": [
    "# Seminar 1: Instrumental Variables\n",
    "### Applied Econometrics\n",
    "### IES FSV UK\n",
    "\n",
    "Lenka Nechvátalová\n",
    "\n",
    "lenka.nechvatalova@fsv.cuni.cz\n",
    "\n",
    "---\n",
    "## Outline\n",
    "\n",
    "- Why might an explanatory variable be correlated with the error term?\n",
    "- Estimation with instrumental variables: 2SLS\n",
    "- Examples in R\n",
    "\n",
    "---\n",
    "### Resources:\n",
    "- textbook Wooldridge, Introductory Econometrics: a Modern Approach\n",
    "- textbook Greene, Econometric analysis\n",
    "- Ben Lambert videos (e.g. [Endogeneity and Instrumental Variables](https://www.youtube.com/watch?v=lLI-0pK9MD8), [Instrumental Variables intuition - part 1](https://www.youtube.com/watch?v=OWHCbEP56ms&t=4s) and others)\n",
    "\n",
    "---\n",
    "## Why might $x$ be correlated with the error term?\n",
    "\n",
    "Consider a simple linear regression model:\n",
    "\n",
    "$$y_i = \\beta_0 + \\beta_1 x_i + u_i$$\n",
    "\n",
    "Key assumption of the OLS estimator:\n",
    "\n",
    "$$E(u|x) = 0 \\Rightarrow \\big[Cov(x,u) = 0 \\text{ and } E(u)=0\\big] \\Rightarrow E(x u) = 0,$$\n",
    "\n",
    "or in general: $E(\\mathbf{X}'\\mathbf{u})=\\boldsymbol{0}$ for a multiple linear regression model under matrix notation. This implies OLS is an unbiased and consistent estimator.\n",
    "\n",
    "If $E(x u) \\neq 0$, we face the endogeneity issue and such explanatory variables are called endogenous variables.\n",
    "\n",
    "#### Reasons for endogeneity\n",
    "\n",
    "- omitted variables\n",
    "- simultaneity (e.g. price and quantity) or reverse causality\n",
    "- measurement error, problematic proxy variable\n",
    "\n",
    "---\n",
    "## Example 1: Labour economics\n",
    "\n",
    "Suppose we are interested in the returns to education, i.e. in the effect of education on wages:\n",
    "\n",
    "$$wage_i = \\beta_0 + \\beta_1 education_i + u_i$$\n",
    "\n",
    "We are surely omitting other important variables, such as measurable (work experience, regional impact) or unobservable (personal motivation, inherent abilities). Moreover, the model's functional form is too simple and thus likely incorrect.\n",
    "\n",
    "Suppose 'motivation' has a positive effect on wages. And what if motivation also affects education (which is very likely)? Then, the effect of education is overestimated.\n",
    "\n",
    "Economic intuition: OLS tries to fit the wage level using the included variables; if a variable with positive influence is omitted, the effect of included variables with positive influence is overestimated (to the extent they are correlated) to compensate for the omitted one.\n",
    "\n",
    "---\n",
    "## Example 2 (bonus - not mandatory): Consumption and savings\n",
    "\n",
    "An individual's income is split between consumption $c_i$ and savings $s_i$. According to the mainstream theories of consumption (Permanent income hypothesis), consumption, as well as savings, should depend on permanent income $y_i^*$:\n",
    "\n",
    "$$c_i = \\beta_0 + \\beta_1 y_i^* + u_i$$\n",
    "\n",
    "The size of permanent income, however, is unknown. Therefore, permanent income is typically proxied by current income $y_i$. However, as $y_i$ and $y_i^*$ are only imperfectly related, we experience the problematic proxy variable issue:\n",
    "\n",
    "$$y_i=y_i^*+v_i$$\n",
    "\n",
    "\n",
    "The original equation becomes:\n",
    "\\begin{eqnarray}\n",
    "c_i &=& \\beta_0 + \\beta_1 (y_i-v_i) + u_i \\\\\n",
    "    &=& \\beta_0 + \\beta_1 y_i \\underbrace{- \\beta_1 v_i + u_i}_{e_i}\n",
    "\\end{eqnarray}\n",
    "\n",
    "Is now the assumption $E(y e)=0$ fulfilled?\n",
    "\n",
    "$$E(y e) = E\\big((y^* + v)(- \\beta_1 v + u)\\big) = E(-\\beta_1 v^2) \\neq 0$$\n",
    "\n",
    "$\\Rightarrow$ OLS estimation of the savings equation with current income is biased and inconsistent.\n",
    "\n",
    "---\n",
    "## Instrumental variables (IV) estimation\n",
    "\n",
    "If we suspect endogeneity and are interested in causality, IV estimation is used instead of OLS. What makes a good instrument?\n",
    "\n",
    "The instrument should be a variable $z$ such that:\n",
    "\n",
    "- $z$ is uncorrelated with the error term. i.e. it is exogenous: $Cov(z,u) = 0$\n",
    "- $z$ is correlated with endogenous variable: $Cov(z,x) \\neq 0$\n",
    "\n",
    "The exogeneity assumption cannot be typically tested; we need to provide economic arguments. On the other hand, we can simply test if the instrument is well-correlated, i.e. is not weak.\n",
    "\n",
    "In **theory**, we prefer IV if:\n",
    "\n",
    "$$Corr(x,u) > \\frac {Corr(z,u)}{Corr(z,x)}$$\n",
    "\n",
    "$$\\text{because plim } \\widehat{\\beta}^{OLS} = \\beta + Corr(x,u) \\cdot \\frac{\\sigma_u}{\\sigma_x} \\text{ and plim } \\widehat{\\beta}^{IV} = \\beta + \\frac{Corr(z,u)}{Corr(z,x)} \\cdot \\frac{\\sigma_u}{\\sigma_x}$$\n",
    "\n",
    "---\n",
    "## IV estimation: 2SLS (or TSLS)\n",
    "\n",
    "Consider a multiple linear regression model in which $x_1$ is endogenous but other regressors are exogenous:\n",
    "\n",
    "$$y_i = \\beta_0 + \\beta_1 x_{1i} + \\beta_2 x_{2i} + \\ldots + u_i$$\n",
    "\n",
    "2SLS consists of two stages:\n",
    "\n",
    "1. regress endogenous variable on the instrument(s) and exogenous variables to obtain fitted values $\\widehat{x}_{1i}$:\n",
    "$$x_{1i} = \\gamma_0 + \\gamma_1 z_i + \\gamma_2 x_{2i} + \\ldots + v_i$$\n",
    "\n",
    "2. replace endogenous variable with fitted values from the first step to obtain (causal) effect of $x_1$ on $y$:\n",
    "$$y_i= \\beta_0 + \\beta_1 \\widehat{x}_{1i} + \\beta_2 x_{2i} + \\ldots + u_i$$\n",
    "\n",
    "Alternatively, you can obtain fitted residuals from the first step and add them to the original equation as an additional regressor (IV estimator is appropriate if the coefficient $\\delta$ is statistically significant):\n",
    "\n",
    "$$ y_i= \\beta_0 + \\beta_1x_{1i} + \\beta_2 x_{2i} + \\ldots + \\delta \\widehat{v}_i + u_i$$"
   ]
  },
  {
   "cell_type": "markdown",
   "metadata": {},
   "source": [
    "---\n",
    "## Example using simulated data\n",
    "\n",
    "This example illustrates the differences between OLS and 2SLS and the 'equivalence' of the two 2SLS methods mentioned above.\n",
    "\n",
    "We also recap how to check violations of the Classical assumptions of the OLS.\n",
    "\n",
    "First, we clear the current workspace, set the working directory, import the data from Seminar_01_simulated_data.csv, briefly check the structure of the data, and make some visualizations."
   ]
  },
  {
   "cell_type": "code",
   "execution_count": 1,
   "metadata": {},
   "outputs": [
    {
     "name": "stdout",
     "output_type": "stream",
     "text": [
      "'data.frame':\t100 obs. of  6 variables:\n",
      " $ observation: int  1 2 3 4 5 6 7 8 9 10 ...\n",
      " $ x1         : num  -0.682 2.482 0.149 0.473 -1.084 ...\n",
      " $ y          : num  -0.553 4.747 1.531 1.834 -0.472 ...\n",
      " $ z1         : num  0.662 0.802 -1.956 -0.876 -0.355 ...\n",
      " $ z2         : num  -1.034 1.31 -1.129 0.445 -0.526 ...\n",
      " $ z3         : num  -1.698 2.443 0.909 0.39 0.348 ...\n"
     ]
    },
    {
     "data": {
      "text/html": [
       "0"
      ],
      "text/latex": [
       "0"
      ],
      "text/markdown": [
       "0"
      ],
      "text/plain": [
       "[1] 0"
      ]
     },
     "metadata": {},
     "output_type": "display_data"
    },
    {
     "data": {
      "text/html": [
       "<style>\n",
       ".dl-inline {width: auto; margin:0; padding: 0}\n",
       ".dl-inline>dt, .dl-inline>dd {float: none; width: auto; display: inline-block}\n",
       ".dl-inline>dt::after {content: \":\\0020\"; padding-right: .5ex}\n",
       ".dl-inline>dt:not(:first-of-type) {padding-left: .5ex}\n",
       "</style><dl class=dl-inline><dt>observation</dt><dd>0</dd><dt>x1</dt><dd>0</dd><dt>y</dt><dd>0</dd><dt>z1</dt><dd>0</dd><dt>z2</dt><dd>0</dd><dt>z3</dt><dd>0</dd></dl>\n"
      ],
      "text/latex": [
       "\\begin{description*}\n",
       "\\item[observation] 0\n",
       "\\item[x1] 0\n",
       "\\item[y] 0\n",
       "\\item[z1] 0\n",
       "\\item[z2] 0\n",
       "\\item[z3] 0\n",
       "\\end{description*}\n"
      ],
      "text/markdown": [
       "observation\n",
       ":   0x1\n",
       ":   0y\n",
       ":   0z1\n",
       ":   0z2\n",
       ":   0z3\n",
       ":   0\n",
       "\n"
      ],
      "text/plain": [
       "observation          x1           y          z1          z2          z3 \n",
       "          0           0           0           0           0           0 "
      ]
     },
     "metadata": {},
     "output_type": "display_data"
    },
    {
     "data": {
      "text/html": [
       "<table class=\"dataframe\">\n",
       "<caption>A data.frame: 5 × 6</caption>\n",
       "<thead>\n",
       "\t<tr><th></th><th scope=col>observation</th><th scope=col>x1</th><th scope=col>y</th><th scope=col>z1</th><th scope=col>z2</th><th scope=col>z3</th></tr>\n",
       "\t<tr><th></th><th scope=col>&lt;int&gt;</th><th scope=col>&lt;dbl&gt;</th><th scope=col>&lt;dbl&gt;</th><th scope=col>&lt;dbl&gt;</th><th scope=col>&lt;dbl&gt;</th><th scope=col>&lt;dbl&gt;</th></tr>\n",
       "</thead>\n",
       "<tbody>\n",
       "\t<tr><th scope=row>1</th><td>1</td><td>-0.68243</td><td>-0.55321</td><td> 0.66175</td><td>-1.03449</td><td>-1.69849</td></tr>\n",
       "\t<tr><th scope=row>2</th><td>2</td><td> 2.48220</td><td> 4.74720</td><td> 0.80179</td><td> 1.31019</td><td> 2.44266</td></tr>\n",
       "\t<tr><th scope=row>3</th><td>3</td><td> 0.14934</td><td> 1.53093</td><td>-1.95637</td><td>-1.12870</td><td> 0.90907</td></tr>\n",
       "\t<tr><th scope=row>4</th><td>4</td><td> 0.47290</td><td> 1.83448</td><td>-0.87638</td><td> 0.44545</td><td> 0.38953</td></tr>\n",
       "\t<tr><th scope=row>5</th><td>5</td><td>-1.08409</td><td>-0.47212</td><td>-0.35530</td><td>-0.52620</td><td> 0.34793</td></tr>\n",
       "</tbody>\n",
       "</table>\n"
      ],
      "text/latex": [
       "A data.frame: 5 × 6\n",
       "\\begin{tabular}{r|llllll}\n",
       "  & observation & x1 & y & z1 & z2 & z3\\\\\n",
       "  & <int> & <dbl> & <dbl> & <dbl> & <dbl> & <dbl>\\\\\n",
       "\\hline\n",
       "\t1 & 1 & -0.68243 & -0.55321 &  0.66175 & -1.03449 & -1.69849\\\\\n",
       "\t2 & 2 &  2.48220 &  4.74720 &  0.80179 &  1.31019 &  2.44266\\\\\n",
       "\t3 & 3 &  0.14934 &  1.53093 & -1.95637 & -1.12870 &  0.90907\\\\\n",
       "\t4 & 4 &  0.47290 &  1.83448 & -0.87638 &  0.44545 &  0.38953\\\\\n",
       "\t5 & 5 & -1.08409 & -0.47212 & -0.35530 & -0.52620 &  0.34793\\\\\n",
       "\\end{tabular}\n"
      ],
      "text/markdown": [
       "\n",
       "A data.frame: 5 × 6\n",
       "\n",
       "| <!--/--> | observation &lt;int&gt; | x1 &lt;dbl&gt; | y &lt;dbl&gt; | z1 &lt;dbl&gt; | z2 &lt;dbl&gt; | z3 &lt;dbl&gt; |\n",
       "|---|---|---|---|---|---|---|\n",
       "| 1 | 1 | -0.68243 | -0.55321 |  0.66175 | -1.03449 | -1.69849 |\n",
       "| 2 | 2 |  2.48220 |  4.74720 |  0.80179 |  1.31019 |  2.44266 |\n",
       "| 3 | 3 |  0.14934 |  1.53093 | -1.95637 | -1.12870 |  0.90907 |\n",
       "| 4 | 4 |  0.47290 |  1.83448 | -0.87638 |  0.44545 |  0.38953 |\n",
       "| 5 | 5 | -1.08409 | -0.47212 | -0.35530 | -0.52620 |  0.34793 |\n",
       "\n"
      ],
      "text/plain": [
       "  observation x1       y        z1       z2       z3      \n",
       "1 1           -0.68243 -0.55321  0.66175 -1.03449 -1.69849\n",
       "2 2            2.48220  4.74720  0.80179  1.31019  2.44266\n",
       "3 3            0.14934  1.53093 -1.95637 -1.12870  0.90907\n",
       "4 4            0.47290  1.83448 -0.87638  0.44545  0.38953\n",
       "5 5           -1.08409 -0.47212 -0.35530 -0.52620  0.34793"
      ]
     },
     "metadata": {},
     "output_type": "display_data"
    },
    {
     "data": {
      "text/html": [
       "<table class=\"dataframe\">\n",
       "<caption>A data.frame: 5 × 6</caption>\n",
       "<thead>\n",
       "\t<tr><th></th><th scope=col>observation</th><th scope=col>x1</th><th scope=col>y</th><th scope=col>z1</th><th scope=col>z2</th><th scope=col>z3</th></tr>\n",
       "\t<tr><th></th><th scope=col>&lt;int&gt;</th><th scope=col>&lt;dbl&gt;</th><th scope=col>&lt;dbl&gt;</th><th scope=col>&lt;dbl&gt;</th><th scope=col>&lt;dbl&gt;</th><th scope=col>&lt;dbl&gt;</th></tr>\n",
       "</thead>\n",
       "<tbody>\n",
       "\t<tr><th scope=row>96</th><td> 96</td><td>0.10453</td><td>-0.31775</td><td>-0.57665</td><td>-0.53542</td><td>1.16018</td></tr>\n",
       "\t<tr><th scope=row>97</th><td> 97</td><td>1.85165</td><td> 4.85765</td><td> 1.00541</td><td>-1.02318</td><td>1.83442</td></tr>\n",
       "\t<tr><th scope=row>98</th><td> 98</td><td>2.10035</td><td> 4.98663</td><td> 0.91488</td><td> 0.88494</td><td>0.80060</td></tr>\n",
       "\t<tr><th scope=row>99</th><td> 99</td><td>0.22201</td><td> 2.94346</td><td>-1.22895</td><td>-0.50382</td><td>1.55264</td></tr>\n",
       "\t<tr><th scope=row>100</th><td>100</td><td>1.43606</td><td> 1.81309</td><td> 1.49798</td><td> 1.64691</td><td>0.90433</td></tr>\n",
       "</tbody>\n",
       "</table>\n"
      ],
      "text/latex": [
       "A data.frame: 5 × 6\n",
       "\\begin{tabular}{r|llllll}\n",
       "  & observation & x1 & y & z1 & z2 & z3\\\\\n",
       "  & <int> & <dbl> & <dbl> & <dbl> & <dbl> & <dbl>\\\\\n",
       "\\hline\n",
       "\t96 &  96 & 0.10453 & -0.31775 & -0.57665 & -0.53542 & 1.16018\\\\\n",
       "\t97 &  97 & 1.85165 &  4.85765 &  1.00541 & -1.02318 & 1.83442\\\\\n",
       "\t98 &  98 & 2.10035 &  4.98663 &  0.91488 &  0.88494 & 0.80060\\\\\n",
       "\t99 &  99 & 0.22201 &  2.94346 & -1.22895 & -0.50382 & 1.55264\\\\\n",
       "\t100 & 100 & 1.43606 &  1.81309 &  1.49798 &  1.64691 & 0.90433\\\\\n",
       "\\end{tabular}\n"
      ],
      "text/markdown": [
       "\n",
       "A data.frame: 5 × 6\n",
       "\n",
       "| <!--/--> | observation &lt;int&gt; | x1 &lt;dbl&gt; | y &lt;dbl&gt; | z1 &lt;dbl&gt; | z2 &lt;dbl&gt; | z3 &lt;dbl&gt; |\n",
       "|---|---|---|---|---|---|---|\n",
       "| 96 |  96 | 0.10453 | -0.31775 | -0.57665 | -0.53542 | 1.16018 |\n",
       "| 97 |  97 | 1.85165 |  4.85765 |  1.00541 | -1.02318 | 1.83442 |\n",
       "| 98 |  98 | 2.10035 |  4.98663 |  0.91488 |  0.88494 | 0.80060 |\n",
       "| 99 |  99 | 0.22201 |  2.94346 | -1.22895 | -0.50382 | 1.55264 |\n",
       "| 100 | 100 | 1.43606 |  1.81309 |  1.49798 |  1.64691 | 0.90433 |\n",
       "\n"
      ],
      "text/plain": [
       "    observation x1      y        z1       z2       z3     \n",
       "96   96         0.10453 -0.31775 -0.57665 -0.53542 1.16018\n",
       "97   97         1.85165  4.85765  1.00541 -1.02318 1.83442\n",
       "98   98         2.10035  4.98663  0.91488  0.88494 0.80060\n",
       "99   99         0.22201  2.94346 -1.22895 -0.50382 1.55264\n",
       "100 100         1.43606  1.81309  1.49798  1.64691 0.90433"
      ]
     },
     "metadata": {},
     "output_type": "display_data"
    }
   ],
   "source": [
    "rm(list = ls())\n",
    "\n",
    "dataset <- read.csv('Seminar_01_simulated_data.csv', header = TRUE)\n",
    "str(dataset)\n",
    "sum(is.na(dataset))\n",
    "sapply(dataset, function(x1) sum(is.na(x1)))\n",
    "       \n",
    "head(dataset,5)\n",
    "tail(dataset,5)"
   ]
  },
  {
   "cell_type": "code",
   "execution_count": 2,
   "metadata": {},
   "outputs": [
    {
     "data": {
      "text/plain": [
       "  observation           x1                y                  z1          \n",
       " Min.   :  1.00   Min.   :-1.6484   Min.   :-2.96671   Min.   :-2.61576  \n",
       " 1st Qu.: 25.75   1st Qu.:-0.4590   1st Qu.: 0.08655   1st Qu.:-0.56403  \n",
       " Median : 50.50   Median : 0.2029   Median : 1.30943   Median :-0.08421  \n",
       " Mean   : 50.50   Mean   : 0.2392   Mean   : 1.38629   Mean   : 0.03421  \n",
       " 3rd Qu.: 75.25   3rd Qu.: 0.7192   3rd Qu.: 2.50779   3rd Qu.: 0.65917  \n",
       " Max.   :100.00   Max.   : 2.7663   Max.   : 6.72735   Max.   : 2.09323  \n",
       "       z2                z3          \n",
       " Min.   :-2.2994   Min.   :-2.98265  \n",
       " 1st Qu.:-0.6081   1st Qu.:-0.70899  \n",
       " Median : 0.1685   Median : 0.16218  \n",
       " Mean   : 0.1206   Mean   : 0.06219  \n",
       " 3rd Qu.: 0.9619   3rd Qu.: 0.78765  \n",
       " Max.   : 2.1090   Max.   : 3.14570  "
      ]
     },
     "metadata": {},
     "output_type": "display_data"
    },
    {
     "data": {
      "image/png": "[encoded data removed]",
      "text/plain": [
       "Plot with title \"Histogram of dataset$y\""
      ]
     },
     "metadata": {
      "image/png": {
       "height": 240,
       "width": 480
      }
     },
     "output_type": "display_data"
    }
   ],
   "source": [
    "summary(dataset)\n",
    "\n",
    "options(repr.plot.width = 8, repr.plot.height = 4)\n",
    "par(mfrow = c(1,2))\n",
    "hist(dataset$x1, n = 10, probability = FALSE)\n",
    "hist(dataset$y, n = 10, probability = FALSE)"
   ]
  },
  {
   "cell_type": "code",
   "execution_count": 3,
   "metadata": {},
   "outputs": [
    {
     "data": {
      "text/html": [
       "<table class=\"dataframe\">\n",
       "<caption>A matrix: 5 × 5 of type dbl</caption>\n",
       "<thead>\n",
       "\t<tr><th></th><th scope=col>x1</th><th scope=col>y</th><th scope=col>z1</th><th scope=col>z2</th><th scope=col>z3</th></tr>\n",
       "</thead>\n",
       "<tbody>\n",
       "\t<tr><th scope=row>x1</th><td>1.0000000</td><td>0.8862192</td><td>0.533152714</td><td> 0.224616700</td><td> 0.52353112</td></tr>\n",
       "\t<tr><th scope=row>y</th><td>0.8862192</td><td>1.0000000</td><td>0.330755084</td><td> 0.020140503</td><td> 0.48092751</td></tr>\n",
       "\t<tr><th scope=row>z1</th><td>0.5331527</td><td>0.3307551</td><td>1.000000000</td><td> 0.004667249</td><td> 0.05694113</td></tr>\n",
       "\t<tr><th scope=row>z2</th><td>0.2246167</td><td>0.0201405</td><td>0.004667249</td><td> 1.000000000</td><td>-0.05752523</td></tr>\n",
       "\t<tr><th scope=row>z3</th><td>0.5235311</td><td>0.4809275</td><td>0.056941132</td><td>-0.057525232</td><td> 1.00000000</td></tr>\n",
       "</tbody>\n",
       "</table>\n"
      ],
      "text/latex": [
       "A matrix: 5 × 5 of type dbl\n",
       "\\begin{tabular}{r|lllll}\n",
       "  & x1 & y & z1 & z2 & z3\\\\\n",
       "\\hline\n",
       "\tx1 & 1.0000000 & 0.8862192 & 0.533152714 &  0.224616700 &  0.52353112\\\\\n",
       "\ty & 0.8862192 & 1.0000000 & 0.330755084 &  0.020140503 &  0.48092751\\\\\n",
       "\tz1 & 0.5331527 & 0.3307551 & 1.000000000 &  0.004667249 &  0.05694113\\\\\n",
       "\tz2 & 0.2246167 & 0.0201405 & 0.004667249 &  1.000000000 & -0.05752523\\\\\n",
       "\tz3 & 0.5235311 & 0.4809275 & 0.056941132 & -0.057525232 &  1.00000000\\\\\n",
       "\\end{tabular}\n"
      ],
      "text/markdown": [
       "\n",
       "A matrix: 5 × 5 of type dbl\n",
       "\n",
       "| <!--/--> | x1 | y | z1 | z2 | z3 |\n",
       "|---|---|---|---|---|---|\n",
       "| x1 | 1.0000000 | 0.8862192 | 0.533152714 |  0.224616700 |  0.52353112 |\n",
       "| y | 0.8862192 | 1.0000000 | 0.330755084 |  0.020140503 |  0.48092751 |\n",
       "| z1 | 0.5331527 | 0.3307551 | 1.000000000 |  0.004667249 |  0.05694113 |\n",
       "| z2 | 0.2246167 | 0.0201405 | 0.004667249 |  1.000000000 | -0.05752523 |\n",
       "| z3 | 0.5235311 | 0.4809275 | 0.056941132 | -0.057525232 |  1.00000000 |\n",
       "\n"
      ],
      "text/plain": [
       "   x1        y         z1          z2           z3         \n",
       "x1 1.0000000 0.8862192 0.533152714  0.224616700  0.52353112\n",
       "y  0.8862192 1.0000000 0.330755084  0.020140503  0.48092751\n",
       "z1 0.5331527 0.3307551 1.000000000  0.004667249  0.05694113\n",
       "z2 0.2246167 0.0201405 0.004667249  1.000000000 -0.05752523\n",
       "z3 0.5235311 0.4809275 0.056941132 -0.057525232  1.00000000"
      ]
     },
     "metadata": {},
     "output_type": "display_data"
    },
    {
     "data": {
      "image/png": "[encoded data removed]",
      "text/plain": [
       "plot without title"
      ]
     },
     "metadata": {
      "image/png": {
       "height": 240,
       "width": 480
      }
     },
     "output_type": "display_data"
    }
   ],
   "source": [
    "cor(dataset[,2:6])\n",
    "\n",
    "options(repr.plot.width = 8, repr.plot.height = 4)\n",
    "par(mfrow = c(1,2))\n",
    "plot(dataset$x1, dataset$y, type = 'p')\n",
    "plot(dataset$z1, dataset$x1, type = 'p')"
   ]
  },
  {
   "cell_type": "markdown",
   "metadata": {},
   "source": [
    "---\n",
    "### OLS results vs. 2SLS results\n",
    "\n",
    "Now, we compare the OLS estimation results with those of the  'manual' 2SLS, the 'alternative' 2SLS, and the standard  2SLS in which effect of $x_1$ on $y$ is estimated using $z_1$ as an instrument. For a simple LRM, the first stage regression also serves as the Weak instrument test. We finish with the Hausman test."
   ]
  },
  {
   "cell_type": "code",
   "execution_count": 27,
   "metadata": {},
   "outputs": [],
   "source": [
    "library('car')\n",
    "library('lmtest')\n",
    "library('AER')\n",
    "library('systemfit')"
   ]
  },
  {
   "cell_type": "markdown",
   "metadata": {},
   "source": [
    "---\n",
    "#### OLS\n",
    "\n",
    "$$y_i = \\beta_0 + \\beta_1 x_{1i} + u_i$$"
   ]
  },
  {
   "cell_type": "code",
   "execution_count": 5,
   "metadata": {},
   "outputs": [
    {
     "data": {
      "text/plain": [
       "\n",
       "Call:\n",
       "lm(formula = y ~ x1, data = dataset)\n",
       "\n",
       "Residuals:\n",
       "    Min      1Q  Median      3Q     Max \n",
       "-2.0114 -0.4503  0.0513  0.5717  2.0530 \n",
       "\n",
       "Coefficients:\n",
       "            Estimate Std. Error t value Pr(>|t|)    \n",
       "(Intercept)  0.97889    0.08828   11.09   <2e-16 ***\n",
       "x1           1.70343    0.08995   18.94   <2e-16 ***\n",
       "---\n",
       "Signif. codes:  0 '***' 0.001 '**' 0.01 '*' 0.05 '.' 0.1 ' ' 1\n",
       "\n",
       "Residual standard error: 0.8562 on 98 degrees of freedom\n",
       "Multiple R-squared:  0.7854,\tAdjusted R-squared:  0.7832 \n",
       "F-statistic: 358.6 on 1 and 98 DF,  p-value: < 2.2e-16\n"
      ]
     },
     "metadata": {},
     "output_type": "display_data"
    }
   ],
   "source": [
    "model.OLS <- lm(y ~ x1, data = dataset)\n",
    "summary(model.OLS)"
   ]
  },
  {
   "cell_type": "markdown",
   "metadata": {
    "jp-MarkdownHeadingCollapsed": true
   },
   "source": [
    "### Some OLS issues (recap, will be covered only very briefly, code for your advantage):\n",
    "\n",
    "We now very briefly repeat/demonstrate how to check violations of the Classical assumptions of the OLS discussed in the lecture.\n",
    "\n",
    "#### Multicollinearity:\n",
    "\n",
    "Correlation matrix of regressors, VIF\n",
    "\n",
    "To demonstrate the impact of strong multicollinearity, we first draw two random samples of uniformly distributed noises/errors."
   ]
  },
  {
   "cell_type": "code",
   "execution_count": 6,
   "metadata": {},
   "outputs": [
    {
     "data": {
      "image/png": "[encoded data removed]",
      "text/plain": [
       "Plot with title \"Histogram of errorB\""
      ]
     },
     "metadata": {
      "image/png": {
       "height": 240,
       "width": 480
      }
     },
     "output_type": "display_data"
    }
   ],
   "source": [
    "set.seed(1234)\n",
    "errorA <- runif(length(dataset$x1), min = 0, max = 0.5)\n",
    "errorB <- runif(length(dataset$x1), min = 0, max = 0.5)\n",
    "\n",
    "options(repr.plot.width = 8, repr.plot.height = 4)\n",
    "par(mfrow = c(1,2))\n",
    "hist(errorA, n = 10, probability = FALSE)\n",
    "hist(errorB, n = 10, probability = FALSE)"
   ]
  },
  {
   "cell_type": "markdown",
   "metadata": {},
   "source": [
    "We add these two noises to the x1 variable. This creates two slightly different but essentially similar, i.e., strongly correlated variables. We then estimate the model with both used as explanatory variables via OLS. While x1 was strongly significant in the previous regression, x1A, and x1B are insignificant at the 5% significance level. The original impact of x1 (1.7, see above) is roughly equally split between the two."
   ]
  },
  {
   "cell_type": "code",
   "execution_count": 7,
   "metadata": {},
   "outputs": [
    {
     "data": {
      "image/png": "[encoded data removed]",
      "text/plain": [
       "plot without title"
      ]
     },
     "metadata": {
      "image/png": {
       "height": 240,
       "width": 480
      }
     },
     "output_type": "display_data"
    }
   ],
   "source": [
    "x1A <- dataset$x1 + errorA\n",
    "x1B <- dataset$x1 - errorB\n",
    "\n",
    "options(repr.plot.width = 8, repr.plot.height = 4)\n",
    "par(mfrow = c(1,2))\n",
    "plot(dataset$x1, x1B, type = 'p')\n",
    "plot(x1A, x1B, type = 'p')"
   ]
  },
  {
   "cell_type": "code",
   "execution_count": 8,
   "metadata": {},
   "outputs": [
    {
     "data": {
      "text/plain": [
       "\n",
       "Call:\n",
       "lm(formula = dataset$y ~ x1A + x1B)\n",
       "\n",
       "Residuals:\n",
       "     Min       1Q   Median       3Q      Max \n",
       "-1.99411 -0.39854  0.04887  0.47596  2.15270 \n",
       "\n",
       "Coefficients:\n",
       "            Estimate Std. Error t value Pr(>|t|)    \n",
       "(Intercept)   1.0033     0.2394   4.191 6.12e-05 ***\n",
       "x1A           0.8822     0.4590   1.922   0.0576 .  \n",
       "x1B           0.8261     0.4662   1.772   0.0795 .  \n",
       "---\n",
       "Signif. codes:  0 '***' 0.001 '**' 0.01 '*' 0.05 '.' 0.1 ' ' 1\n",
       "\n",
       "Residual standard error: 0.9001 on 97 degrees of freedom\n",
       "Multiple R-squared:  0.7652,\tAdjusted R-squared:  0.7604 \n",
       "F-statistic: 158.1 on 2 and 97 DF,  p-value: < 2.2e-16\n"
      ]
     },
     "metadata": {},
     "output_type": "display_data"
    }
   ],
   "source": [
    "model.OLS.multicoll <- lm(dataset$y ~ x1A + x1B)\n",
    "summary(model.OLS.multicoll)"
   ]
  },
  {
   "cell_type": "markdown",
   "metadata": {},
   "source": [
    "We finally verify that the correlation between x1A and x1B (> 80%) and the resulting VIF of x1A (> 5) are both large. This suggests a strong multicollinearity issue."
   ]
  },
  {
   "cell_type": "code",
   "execution_count": 9,
   "metadata": {},
   "outputs": [
    {
     "name": "stdout",
     "output_type": "stream",
     "text": [
      "[1] 0.9784243\n"
     ]
    },
    {
     "data": {
      "text/plain": [
       "\n",
       "Call:\n",
       "lm(formula = x1A ~ x1B)\n",
       "\n",
       "Residuals:\n",
       "     Min       1Q   Median       3Q      Max \n",
       "-0.41295 -0.14286  0.00342  0.13568  0.46117 \n",
       "\n",
       "Coefficients:\n",
       "            Estimate Std. Error t value Pr(>|t|)    \n",
       "(Intercept)  0.48313    0.01981   24.38   <2e-16 ***\n",
       "x1B          0.99371    0.02120   46.88   <2e-16 ***\n",
       "---\n",
       "Signif. codes:  0 '***' 0.001 '**' 0.01 '*' 0.05 '.' 0.1 ' ' 1\n",
       "\n",
       "Residual standard error: 0.1981 on 98 degrees of freedom\n",
       "Multiple R-squared:  0.9573,\tAdjusted R-squared:  0.9569 \n",
       "F-statistic:  2198 on 1 and 98 DF,  p-value: < 2.2e-16\n"
      ]
     },
     "metadata": {},
     "output_type": "display_data"
    },
    {
     "name": "stdout",
     "output_type": "stream",
     "text": [
      "[1] 23.427\n"
     ]
    },
    {
     "data": {
      "text/html": [
       "<style>\n",
       ".dl-inline {width: auto; margin:0; padding: 0}\n",
       ".dl-inline>dt, .dl-inline>dd {float: none; width: auto; display: inline-block}\n",
       ".dl-inline>dt::after {content: \":\\0020\"; padding-right: .5ex}\n",
       ".dl-inline>dt:not(:first-of-type) {padding-left: .5ex}\n",
       "</style><dl class=dl-inline><dt>x1A</dt><dd>23.4269989929909</dd><dt>x1B</dt><dd>23.4269989929909</dd></dl>\n"
      ],
      "text/latex": [
       "\\begin{description*}\n",
       "\\item[x1A] 23.4269989929909\n",
       "\\item[x1B] 23.4269989929909\n",
       "\\end{description*}\n"
      ],
      "text/markdown": [
       "x1A\n",
       ":   23.4269989929909x1B\n",
       ":   23.4269989929909\n",
       "\n"
      ],
      "text/plain": [
       "   x1A    x1B \n",
       "23.427 23.427 "
      ]
     },
     "metadata": {},
     "output_type": "display_data"
    }
   ],
   "source": [
    "library(car)\n",
    "\n",
    "print(cor(x1A, x1B))\n",
    "\n",
    "model.OLS.VIF <- lm(x1A ~ x1B)\n",
    "summary(model.OLS.VIF)\n",
    "VIF <- 1/(1-summary(model.OLS.VIF)$r.squared) # Variance Inflation Factor manual\n",
    "print(VIF)\n",
    "\n",
    "vif(model.OLS.multicoll) # Variance Inflation Factor automated"
   ]
  },
  {
   "cell_type": "markdown",
   "metadata": {},
   "source": [
    "#### Ramsey RESET test\n",
    "\n",
    "The null hypothesis: model specification is correct"
   ]
  },
  {
   "cell_type": "code",
   "execution_count": 10,
   "metadata": {},
   "outputs": [
    {
     "data": {
      "text/plain": [
       "\n",
       "\tRESET test\n",
       "\n",
       "data:  model.OLS\n",
       "RESET = 0.082092, df1 = 2, df2 = 96, p-value = 0.9213\n"
      ]
     },
     "metadata": {},
     "output_type": "display_data"
    }
   ],
   "source": [
    "library(lmtest)\n",
    "\n",
    "resettest(model.OLS, power = 2:3)"
   ]
  },
  {
   "cell_type": "markdown",
   "metadata": {},
   "source": [
    "#### Heteroskedasticity:\n",
    "\n",
    "Breusch-Pagan test (Koenker studentized version), White test\n",
    "\n",
    "- for both, the null hypothesis: no heteroskedasticity\n",
    "\n",
    "White robust standard errors"
   ]
  },
  {
   "cell_type": "code",
   "execution_count": 11,
   "metadata": {},
   "outputs": [
    {
     "data": {
      "image/png": "[encoded data removed]",
      "text/plain": [
       "plot without title"
      ]
     },
     "metadata": {
      "image/png": {
       "height": 240,
       "width": 240
      }
     },
     "output_type": "display_data"
    }
   ],
   "source": [
    "options(repr.plot.width = 4, repr.plot.height = 4)\n",
    "plot(dataset$x1, resid(model.OLS), type = 'p')"
   ]
  },
  {
   "cell_type": "code",
   "execution_count": 12,
   "metadata": {},
   "outputs": [
    {
     "data": {
      "text/plain": [
       "\n",
       "\tstudentized Breusch-Pagan test\n",
       "\n",
       "data:  model.OLS\n",
       "BP = 0.0010122, df = 1, p-value = 0.9746\n"
      ]
     },
     "metadata": {},
     "output_type": "display_data"
    },
    {
     "data": {
      "text/plain": [
       "\n",
       "\tstudentized Breusch-Pagan test\n",
       "\n",
       "data:  model.OLS\n",
       "BP = 0.62215, df = 2, p-value = 0.7327\n"
      ]
     },
     "metadata": {},
     "output_type": "display_data"
    },
    {
     "name": "stdout",
     "output_type": "stream",
     "text": [
      "\n",
      "t test of coefficients:\n",
      "\n",
      "            Estimate Std. Error t value  Pr(>|t|)    \n",
      "(Intercept) 0.978893   0.089536  10.933 < 2.2e-16 ***\n",
      "x1          1.703431   0.099699  17.086 < 2.2e-16 ***\n",
      "---\n",
      "Signif. codes:  0 '***' 0.001 '**' 0.01 '*' 0.05 '.' 0.1 ' ' 1\n",
      "\n"
     ]
    }
   ],
   "source": [
    "library(AER)\n",
    "\n",
    "bptest(model.OLS) #Breusch-Pagan/Koenker test\n",
    "bptest(model.OLS, ~ x1 + I(x1^2), data = dataset) #White test\n",
    "\n",
    "het.robust.OLS <- coeftest(model.OLS, vcov = vcovHC(model.OLS)) #gives White heteroscedasticity robust standard errors\n",
    "print(het.robust.OLS)"
   ]
  },
  {
   "cell_type": "markdown",
   "metadata": {},
   "source": [
    "#### Autocorrelation:\n",
    "\n",
    "Durbin-Watson test, Breusch-Godfrey test\n",
    "\n",
    "- for both, the null hypothesis: no autocorrelation\n",
    "\n",
    "Newey-West robust standard errors"
   ]
  },
  {
   "cell_type": "code",
   "execution_count": 13,
   "metadata": {},
   "outputs": [
    {
     "data": {
      "text/plain": [
       "\n",
       "\tDurbin-Watson test\n",
       "\n",
       "data:  model.OLS\n",
       "DW = 2.1036, p-value = 0.6974\n",
       "alternative hypothesis: true autocorrelation is greater than 0\n"
      ]
     },
     "metadata": {},
     "output_type": "display_data"
    },
    {
     "data": {
      "text/plain": [
       "\n",
       "\tBreusch-Godfrey test for serial correlation of order up to 2\n",
       "\n",
       "data:  model.OLS\n",
       "LM test = 1.3185, df = 2, p-value = 0.5172\n"
      ]
     },
     "metadata": {},
     "output_type": "display_data"
    },
    {
     "name": "stdout",
     "output_type": "stream",
     "text": [
      "\n",
      "t test of coefficients:\n",
      "\n",
      "            Estimate Std. Error t value  Pr(>|t|)    \n",
      "(Intercept) 0.978893   0.087517  11.185 < 2.2e-16 ***\n",
      "x1          1.703431   0.095357  17.864 < 2.2e-16 ***\n",
      "---\n",
      "Signif. codes:  0 '***' 0.001 '**' 0.01 '*' 0.05 '.' 0.1 ' ' 1\n",
      "\n"
     ]
    }
   ],
   "source": [
    "dwtest(model.OLS)\n",
    "bgtest(model.OLS, order = 2)\n",
    "\n",
    "hac.robust.OLS <- coeftest(model.OLS, vcovHAC) #gives Newey-West heteroskedasticity and autocorrelation robust standard errors\n",
    "print(hac.robust.OLS)"
   ]
  },
  {
   "cell_type": "markdown",
   "metadata": {},
   "source": [
    "#### Normality:\n",
    "\n",
    "Many tests, e.g. the Shapiro-Wilk test of normality with the null hypothesis: sample comes from a normally distributed population."
   ]
  },
  {
   "cell_type": "code",
   "execution_count": 14,
   "metadata": {},
   "outputs": [
    {
     "data": {
      "text/plain": [
       "\n",
       "\tShapiro-Wilk normality test\n",
       "\n",
       "data:  resid(model.OLS)\n",
       "W = 0.97771, p-value = 0.08803\n"
      ]
     },
     "metadata": {},
     "output_type": "display_data"
    },
    {
     "data": {
      "image/png": "[encoded data removed]",
      "text/plain": [
       "Plot with title \"Histogram of resid(model.OLS)\""
      ]
     },
     "metadata": {
      "image/png": {
       "height": 240,
       "width": 240
      }
     },
     "output_type": "display_data"
    }
   ],
   "source": [
    "options(repr.plot.width = 4, repr.plot.height = 4)\n",
    "hist(resid(model.OLS), n = 10, probability = FALSE)\n",
    "\n",
    "shapiro.test(resid(model.OLS))"
   ]
  },
  {
   "cell_type": "markdown",
   "metadata": {},
   "source": [
    "---\n",
    "### Back to 2SLS\n",
    "\n",
    "#### 1. stage\n",
    "\n",
    "Regress endogenous variable on the instrument(s) and exogenous variables to obtain fitted values $\\widehat{x}_{1i}$:\n",
    "$$x_{1i} = \\gamma_0 + \\gamma_1 z_{1i} + \\ldots + v_i$$"
   ]
  },
  {
   "cell_type": "code",
   "execution_count": 15,
   "metadata": {},
   "outputs": [
    {
     "data": {
      "text/plain": [
       "\n",
       "Call:\n",
       "lm(formula = x1 ~ z1, data = dataset)\n",
       "\n",
       "Residuals:\n",
       "     Min       1Q   Median       3Q      Max \n",
       "-1.52884 -0.56537 -0.02344  0.47179  2.15291 \n",
       "\n",
       "Coefficients:\n",
       "            Estimate Std. Error t value Pr(>|t|)    \n",
       "(Intercept)  0.21963    0.08141   2.698  0.00822 ** \n",
       "z1           0.57109    0.09154   6.239 1.13e-08 ***\n",
       "---\n",
       "Signif. codes:  0 '***' 0.001 '**' 0.01 '*' 0.05 '.' 0.1 ' ' 1\n",
       "\n",
       "Residual standard error: 0.8135 on 98 degrees of freedom\n",
       "Multiple R-squared:  0.2843,\tAdjusted R-squared:  0.2769 \n",
       "F-statistic: 38.92 on 1 and 98 DF,  p-value: 1.125e-08\n"
      ]
     },
     "metadata": {},
     "output_type": "display_data"
    }
   ],
   "source": [
    "model.1.stage <- lm(x1 ~ z1, data = dataset)\n",
    "summary(model.1.stage)"
   ]
  },
  {
   "cell_type": "markdown",
   "metadata": {},
   "source": [
    "---\n",
    "#### 2. stage\n",
    "\n",
    "Replace endogenous variable by fitted values from the first step to obtain (causal) effect of $x_1$ on $y$:\n",
    "$$y_i= \\beta_0 + \\beta_1 \\widehat{x}_{1i} + u_i$$"
   ]
  },
  {
   "cell_type": "code",
   "execution_count": 16,
   "metadata": {},
   "outputs": [
    {
     "data": {
      "text/html": [
       "<style>\n",
       ".dl-inline {width: auto; margin:0; padding: 0}\n",
       ".dl-inline>dt, .dl-inline>dd {float: none; width: auto; display: inline-block}\n",
       ".dl-inline>dt::after {content: \":\\0020\"; padding-right: .5ex}\n",
       ".dl-inline>dt:not(:first-of-type) {padding-left: .5ex}\n",
       "</style><dl class=dl-inline><dt>(Intercept)</dt><dd>1.10110109937496</dd><dt>fitted(model.1.stage)</dt><dd>1.192445082428</dd></dl>\n"
      ],
      "text/latex": [
       "\\begin{description*}\n",
       "\\item[(Intercept)] 1.10110109937496\n",
       "\\item[fitted(model.1.stage)] 1.192445082428\n",
       "\\end{description*}\n"
      ],
      "text/markdown": [
       "(Intercept)\n",
       ":   1.10110109937496fitted(model.1.stage)\n",
       ":   1.192445082428\n",
       "\n"
      ],
      "text/plain": [
       "          (Intercept) fitted(model.1.stage) \n",
       "             1.101101              1.192445 "
      ]
     },
     "metadata": {},
     "output_type": "display_data"
    }
   ],
   "source": [
    "# using OLS in 2nd stage to get the coefficients. \n",
    "# WARNING: The standard errors you would get from this regression are incorrect, \n",
    "# as we have to adjust because we are using fitted values in the second stage. \n",
    "# We can get the errors either manually (we know the variance of the 2SLS estimator) or using ivreg function from AER package.\n",
    "# see Wooldridge textbook for further explanation.\n",
    "model.2.stage <- lm(y ~ fitted(model.1.stage), data = dataset)\n",
    "model.2.stage$coefficients"
   ]
  },
  {
   "cell_type": "markdown",
   "metadata": {},
   "source": [
    "### 2SLS using ivreg function from AER package:\n",
    "- we specify dependent variable, independent variables and exogenous variables (our instruments and exogenous independent variables)\n",
    "- performs the 2SLS estimation, gives us coefficients with standard errors, and diagnostic tests."
   ]
  },
  {
   "cell_type": "code",
   "execution_count": 17,
   "metadata": {},
   "outputs": [
    {
     "data": {
      "text/plain": [
       "\n",
       "Call:\n",
       "ivreg(formula = y ~ x1 | z1, data = dataset)\n",
       "\n",
       "Residuals:\n",
       "      Min        1Q    Median        3Q       Max \n",
       "-2.556494 -0.597637 -0.001231  0.687072  2.405226 \n",
       "\n",
       "Coefficients:\n",
       "            Estimate Std. Error t value Pr(>|t|)    \n",
       "(Intercept)   1.1011     0.1091   10.09  < 2e-16 ***\n",
       "x1            1.1924     0.1945    6.13 1.84e-08 ***\n",
       "\n",
       "Diagnostic tests:\n",
       "                 df1 df2 statistic  p-value    \n",
       "Weak instruments   1  98     38.92 1.13e-08 ***\n",
       "Wu-Hausman         1  97     14.59 0.000235 ***\n",
       "Sargan             0  NA        NA       NA    \n",
       "---\n",
       "Signif. codes:  0 '***' 0.001 '**' 0.01 '*' 0.05 '.' 0.1 ' ' 1\n",
       "\n",
       "Residual standard error: 0.9872 on 98 degrees of freedom\n",
       "Multiple R-Squared: 0.7147,\tAdjusted R-squared: 0.7118 \n",
       "Wald test: 37.58 on 1 and 98 DF,  p-value: 1.844e-08 \n"
      ]
     },
     "metadata": {},
     "output_type": "display_data"
    }
   ],
   "source": [
    "# using function ivreg from AER package, performs\n",
    "model.2SLS.1 <- ivreg(y ~ x1 | z1 , data = dataset)\n",
    "summary(model.2SLS.1, diagnostics = TRUE)"
   ]
  },
  {
   "cell_type": "markdown",
   "metadata": {},
   "source": [
    "---\n",
    "## Diagnostic tests\n",
    "\n",
    "**Weak instrument(s) test:**\n",
    "- null hypothesis: all instruments are weak (joint insignificance of all instruments in the 1. stage regression)\n",
    "- test statistic: $F$\n",
    "\n",
    "**Wu-Hausman test:**\n",
    "- null hypothesis: no endogeneity (OLS estimator is consistent)\n",
    "- test statistic: $Wald$\n",
    "- asymptotic distribution: $\\chi^2$\n",
    "\n",
    "**Sargan over-identification test:**\n",
    "- null hypothesis: all instruments are valid\n",
    "- test statistic: $LM$\n",
    "- asymptotic distribution: $\\chi^2$"
   ]
  },
  {
   "cell_type": "markdown",
   "metadata": {},
   "source": [
    "---\n",
    "#### Hausman test considering all coefficients (i.e. also the intercept)"
   ]
  },
  {
   "cell_type": "code",
   "execution_count": 18,
   "metadata": {},
   "outputs": [
    {
     "data": {
      "text/plain": [
       "\n",
       "\tHausman specification test for consistency of the 3SLS estimation\n",
       "\n",
       "data:  dataset\n",
       "Hausman = 8.7778, df = 2, p-value = 0.01241\n"
      ]
     },
     "metadata": {},
     "output_type": "display_data"
    }
   ],
   "source": [
    "library(systemfit)\n",
    "\n",
    "ols <- systemfit(y ~ x1, data = dataset, method = 'OLS')\n",
    "iv <- systemfit(y ~ x1, data = dataset, method = '2SLS', inst = ~ z1)\n",
    "\n",
    "hausman.systemfit(iv, ols)"
   ]
  },
  {
   "cell_type": "markdown",
   "metadata": {},
   "source": [
    "#### Sargan test\n",
    "- only if we have more instruments than endogenous variables"
   ]
  },
  {
   "cell_type": "code",
   "execution_count": 19,
   "metadata": {},
   "outputs": [
    {
     "data": {
      "text/plain": [
       "\n",
       "Call:\n",
       "ivreg(formula = y ~ x1 | z1 + z3, data = dataset)\n",
       "\n",
       "Residuals:\n",
       "      Min        1Q    Median        3Q       Max \n",
       "-2.248297 -0.430795 -0.005084  0.540930  2.211455 \n",
       "\n",
       "Coefficients:\n",
       "            Estimate Std. Error t value Pr(>|t|)    \n",
       "(Intercept)  1.03387    0.09356   11.05   <2e-16 ***\n",
       "x1           1.47355    0.12782   11.53   <2e-16 ***\n",
       "\n",
       "Diagnostic tests:\n",
       "                 df1 df2 statistic p-value    \n",
       "Weak instruments   2  97    54.311 < 2e-16 ***\n",
       "Wu-Hausman         1  97     7.824 0.00622 ** \n",
       "Sargan             1  NA     5.749 0.01649 *  \n",
       "---\n",
       "Signif. codes:  0 '***' 0.001 '**' 0.01 '*' 0.05 '.' 0.1 ' ' 1\n",
       "\n",
       "Residual standard error: 0.8843 on 98 degrees of freedom\n",
       "Multiple R-Squared: 0.7711,\tAdjusted R-squared: 0.7687 \n",
       "Wald test: 132.9 on 1 and 98 DF,  p-value: < 2.2e-16 \n"
      ]
     },
     "metadata": {},
     "output_type": "display_data"
    }
   ],
   "source": [
    "### available in the summary diagnostics:\n",
    "model.2SLS.2 <- ivreg(y ~ x1 | z1 + z3, data = dataset)\n",
    "summary(model.2SLS.2, diagnostics = TRUE)"
   ]
  },
  {
   "cell_type": "code",
   "execution_count": 20,
   "metadata": {},
   "outputs": [
    {
     "data": {
      "text/plain": [
       "\n",
       "Call:\n",
       "lm(formula = resid(model.2SLS.2) ~ z1 + z3, data = dataset)\n",
       "\n",
       "Residuals:\n",
       "     Min       1Q   Median       3Q      Max \n",
       "-2.16017 -0.47401  0.02251  0.63618  2.26404 \n",
       "\n",
       "Coefficients:\n",
       "             Estimate Std. Error t value Pr(>|t|)  \n",
       "(Intercept) -0.002933   0.086482  -0.034   0.9730  \n",
       "z1          -0.170415   0.097261  -1.752   0.0829 .\n",
       "z3           0.140897   0.078963   1.784   0.0775 .\n",
       "---\n",
       "Signif. codes:  0 '***' 0.001 '**' 0.01 '*' 0.05 '.' 0.1 ' ' 1\n",
       "\n",
       "Residual standard error: 0.8629 on 97 degrees of freedom\n",
       "Multiple R-squared:  0.05749,\tAdjusted R-squared:  0.03806 \n",
       "F-statistic: 2.959 on 2 and 97 DF,  p-value: 0.0566\n"
      ]
     },
     "metadata": {},
     "output_type": "display_data"
    },
    {
     "name": "stdout",
     "output_type": "stream",
     "text": [
      "[1] 5.749333\n",
      "[1] 3.841459\n",
      "[1] 0.01649491\n"
     ]
    }
   ],
   "source": [
    "# Sargan test calculated manually:\n",
    "model.2SLS.2 <- ivreg(y ~ x1 | z1 + z3, data = dataset)\n",
    "\n",
    "regression <- lm(resid(model.2SLS.2) ~ z1 + z3, data = dataset)\n",
    "summary(regression)\n",
    "LM <- summary(regression)$r.squared * length(dataset$y)\n",
    "print(LM)\n",
    "print(qchisq(0.95, df = 1))\n",
    "print(1 - pchisq(LM, df = 1))"
   ]
  },
  {
   "cell_type": "code",
   "execution_count": null,
   "metadata": {},
   "outputs": [],
   "source": []
  },
  {
   "cell_type": "markdown",
   "metadata": {},
   "source": [
    "---\n",
    "## Example using labour data\n",
    "\n",
    "Does education affect wages?\n",
    "\n",
    "$$log(wage_i) = \\beta_0 + \\beta_1 educ_i + \\beta_2 exper_1 + \\beta_{3} exper_i^2 + u_i$$\n",
    "\n",
    "We suspect education endogenous, so we need some good instruments. Ideally, correlated with education, uncorrelated with $u$ and not having a direct effect on wages. Prospective candidates: mother's and father's education.\n",
    "\n",
    "Import the data from ```mroz.csv```.\n",
    "\n",
    "This example is motivated by: Mroz, T. A. (1987). The sensitivity of an empirical model of a married woman's hours of work to economic and statistical assumptions. *Econometrica*, 55, 765-800."
   ]
  },
  {
   "cell_type": "code",
   "execution_count": 21,
   "metadata": {},
   "outputs": [
    {
     "name": "stdout",
     "output_type": "stream",
     "text": [
      "'data.frame':\t753 obs. of  20 variables:\n",
      " $ inlf    : int  1 1 1 1 1 1 1 1 1 1 ...\n",
      " $ hours   : int  1610 1656 1980 456 1568 2032 1440 1020 1458 1600 ...\n",
      " $ kidslt6 : int  1 0 1 0 1 0 0 0 0 0 ...\n",
      " $ kidsge6 : int  0 2 3 3 2 0 2 0 2 2 ...\n",
      " $ age     : int  32 30 35 34 31 54 37 54 48 39 ...\n",
      " $ educ    : int  12 12 12 12 14 12 16 12 12 12 ...\n",
      " $ wage    : num  3.35 1.39 4.55 1.1 4.59 ...\n",
      " $ repwage : num  2.65 2.65 4.04 3.25 3.6 4.7 5.95 9.98 0 4.15 ...\n",
      " $ hushrs  : int  2708 2310 3072 1920 2000 1040 2670 4120 1995 2100 ...\n",
      " $ husage  : int  34 30 40 53 32 57 37 53 52 43 ...\n",
      " $ huseduc : int  12 9 12 10 12 11 12 8 4 12 ...\n",
      " $ huswage : num  4.03 8.44 3.58 3.54 10 ...\n",
      " $ faminc  : int  16310 21800 21040 7300 27300 19495 21152 18900 20405 20425 ...\n",
      " $ mtr     : num  0.722 0.661 0.692 0.781 0.622 ...\n",
      " $ motheduc: int  12 7 12 7 12 14 14 3 7 7 ...\n",
      " $ fatheduc: int  7 7 7 7 14 7 7 3 7 7 ...\n",
      " $ unem    : num  5 11 5 5 9.5 7.5 5 5 3 5 ...\n",
      " $ city    : int  0 1 0 0 1 1 0 0 0 0 ...\n",
      " $ exper   : int  14 5 15 6 7 33 11 35 24 21 ...\n",
      " $ nwifeinc: num  10.9 19.5 12 6.8 20.1 ...\n"
     ]
    },
    {
     "data": {
      "text/html": [
       "<style>\n",
       ".dl-inline {width: auto; margin:0; padding: 0}\n",
       ".dl-inline>dt, .dl-inline>dd {float: none; width: auto; display: inline-block}\n",
       ".dl-inline>dt::after {content: \":\\0020\"; padding-right: .5ex}\n",
       ".dl-inline>dt:not(:first-of-type) {padding-left: .5ex}\n",
       "</style><dl class=dl-inline><dt>inlf</dt><dd>0</dd><dt>hours</dt><dd>0</dd><dt>kidslt6</dt><dd>0</dd><dt>kidsge6</dt><dd>0</dd><dt>age</dt><dd>0</dd><dt>educ</dt><dd>0</dd><dt>wage</dt><dd>0</dd><dt>repwage</dt><dd>0</dd><dt>hushrs</dt><dd>0</dd><dt>husage</dt><dd>0</dd><dt>huseduc</dt><dd>0</dd><dt>huswage</dt><dd>0</dd><dt>faminc</dt><dd>0</dd><dt>mtr</dt><dd>0</dd><dt>motheduc</dt><dd>0</dd><dt>fatheduc</dt><dd>0</dd><dt>unem</dt><dd>0</dd><dt>city</dt><dd>0</dd><dt>exper</dt><dd>0</dd><dt>nwifeinc</dt><dd>0</dd></dl>\n"
      ],
      "text/latex": [
       "\\begin{description*}\n",
       "\\item[inlf] 0\n",
       "\\item[hours] 0\n",
       "\\item[kidslt6] 0\n",
       "\\item[kidsge6] 0\n",
       "\\item[age] 0\n",
       "\\item[educ] 0\n",
       "\\item[wage] 0\n",
       "\\item[repwage] 0\n",
       "\\item[hushrs] 0\n",
       "\\item[husage] 0\n",
       "\\item[huseduc] 0\n",
       "\\item[huswage] 0\n",
       "\\item[faminc] 0\n",
       "\\item[mtr] 0\n",
       "\\item[motheduc] 0\n",
       "\\item[fatheduc] 0\n",
       "\\item[unem] 0\n",
       "\\item[city] 0\n",
       "\\item[exper] 0\n",
       "\\item[nwifeinc] 0\n",
       "\\end{description*}\n"
      ],
      "text/markdown": [
       "inlf\n",
       ":   0hours\n",
       ":   0kidslt6\n",
       ":   0kidsge6\n",
       ":   0age\n",
       ":   0educ\n",
       ":   0wage\n",
       ":   0repwage\n",
       ":   0hushrs\n",
       ":   0husage\n",
       ":   0huseduc\n",
       ":   0huswage\n",
       ":   0faminc\n",
       ":   0mtr\n",
       ":   0motheduc\n",
       ":   0fatheduc\n",
       ":   0unem\n",
       ":   0city\n",
       ":   0exper\n",
       ":   0nwifeinc\n",
       ":   0\n",
       "\n"
      ],
      "text/plain": [
       "    inlf    hours  kidslt6  kidsge6      age     educ     wage  repwage \n",
       "       0        0        0        0        0        0        0        0 \n",
       "  hushrs   husage  huseduc  huswage   faminc      mtr motheduc fatheduc \n",
       "       0        0        0        0        0        0        0        0 \n",
       "    unem     city    exper nwifeinc \n",
       "       0        0        0        0 "
      ]
     },
     "metadata": {},
     "output_type": "display_data"
    },
    {
     "data": {
      "text/html": [
       "<table class=\"dataframe\">\n",
       "<caption>A data.frame: 5 × 20</caption>\n",
       "<thead>\n",
       "\t<tr><th></th><th scope=col>inlf</th><th scope=col>hours</th><th scope=col>kidslt6</th><th scope=col>kidsge6</th><th scope=col>age</th><th scope=col>educ</th><th scope=col>wage</th><th scope=col>repwage</th><th scope=col>hushrs</th><th scope=col>husage</th><th scope=col>huseduc</th><th scope=col>huswage</th><th scope=col>faminc</th><th scope=col>mtr</th><th scope=col>motheduc</th><th scope=col>fatheduc</th><th scope=col>unem</th><th scope=col>city</th><th scope=col>exper</th><th scope=col>nwifeinc</th></tr>\n",
       "\t<tr><th></th><th scope=col>&lt;int&gt;</th><th scope=col>&lt;int&gt;</th><th scope=col>&lt;int&gt;</th><th scope=col>&lt;int&gt;</th><th scope=col>&lt;int&gt;</th><th scope=col>&lt;int&gt;</th><th scope=col>&lt;dbl&gt;</th><th scope=col>&lt;dbl&gt;</th><th scope=col>&lt;int&gt;</th><th scope=col>&lt;int&gt;</th><th scope=col>&lt;int&gt;</th><th scope=col>&lt;dbl&gt;</th><th scope=col>&lt;int&gt;</th><th scope=col>&lt;dbl&gt;</th><th scope=col>&lt;int&gt;</th><th scope=col>&lt;int&gt;</th><th scope=col>&lt;dbl&gt;</th><th scope=col>&lt;int&gt;</th><th scope=col>&lt;int&gt;</th><th scope=col>&lt;dbl&gt;</th></tr>\n",
       "</thead>\n",
       "<tbody>\n",
       "\t<tr><th scope=row>1</th><td>1</td><td>1610</td><td>1</td><td>0</td><td>32</td><td>12</td><td>3.3540</td><td>2.65</td><td>2708</td><td>34</td><td>12</td><td> 4.0288</td><td>16310</td><td>0.7215</td><td>12</td><td> 7</td><td> 5.0</td><td>0</td><td>14</td><td>10.910060</td></tr>\n",
       "\t<tr><th scope=row>2</th><td>1</td><td>1656</td><td>0</td><td>2</td><td>30</td><td>12</td><td>1.3889</td><td>2.65</td><td>2310</td><td>30</td><td> 9</td><td> 8.4416</td><td>21800</td><td>0.6615</td><td> 7</td><td> 7</td><td>11.0</td><td>1</td><td> 5</td><td>19.499980</td></tr>\n",
       "\t<tr><th scope=row>3</th><td>1</td><td>1980</td><td>1</td><td>3</td><td>35</td><td>12</td><td>4.5455</td><td>4.04</td><td>3072</td><td>40</td><td>12</td><td> 3.5807</td><td>21040</td><td>0.6915</td><td>12</td><td> 7</td><td> 5.0</td><td>0</td><td>15</td><td>12.039910</td></tr>\n",
       "\t<tr><th scope=row>4</th><td>1</td><td> 456</td><td>0</td><td>3</td><td>34</td><td>12</td><td>1.0965</td><td>3.25</td><td>1920</td><td>53</td><td>10</td><td> 3.5417</td><td> 7300</td><td>0.7815</td><td> 7</td><td> 7</td><td> 5.0</td><td>0</td><td> 6</td><td> 6.799996</td></tr>\n",
       "\t<tr><th scope=row>5</th><td>1</td><td>1568</td><td>1</td><td>2</td><td>31</td><td>14</td><td>4.5918</td><td>3.60</td><td>2000</td><td>32</td><td>12</td><td>10.0000</td><td>27300</td><td>0.6215</td><td>12</td><td>14</td><td> 9.5</td><td>1</td><td> 7</td><td>20.100060</td></tr>\n",
       "</tbody>\n",
       "</table>\n"
      ],
      "text/latex": [
       "A data.frame: 5 × 20\n",
       "\\begin{tabular}{r|llllllllllllllllllll}\n",
       "  & inlf & hours & kidslt6 & kidsge6 & age & educ & wage & repwage & hushrs & husage & huseduc & huswage & faminc & mtr & motheduc & fatheduc & unem & city & exper & nwifeinc\\\\\n",
       "  & <int> & <int> & <int> & <int> & <int> & <int> & <dbl> & <dbl> & <int> & <int> & <int> & <dbl> & <int> & <dbl> & <int> & <int> & <dbl> & <int> & <int> & <dbl>\\\\\n",
       "\\hline\n",
       "\t1 & 1 & 1610 & 1 & 0 & 32 & 12 & 3.3540 & 2.65 & 2708 & 34 & 12 &  4.0288 & 16310 & 0.7215 & 12 &  7 &  5.0 & 0 & 14 & 10.910060\\\\\n",
       "\t2 & 1 & 1656 & 0 & 2 & 30 & 12 & 1.3889 & 2.65 & 2310 & 30 &  9 &  8.4416 & 21800 & 0.6615 &  7 &  7 & 11.0 & 1 &  5 & 19.499980\\\\\n",
       "\t3 & 1 & 1980 & 1 & 3 & 35 & 12 & 4.5455 & 4.04 & 3072 & 40 & 12 &  3.5807 & 21040 & 0.6915 & 12 &  7 &  5.0 & 0 & 15 & 12.039910\\\\\n",
       "\t4 & 1 &  456 & 0 & 3 & 34 & 12 & 1.0965 & 3.25 & 1920 & 53 & 10 &  3.5417 &  7300 & 0.7815 &  7 &  7 &  5.0 & 0 &  6 &  6.799996\\\\\n",
       "\t5 & 1 & 1568 & 1 & 2 & 31 & 14 & 4.5918 & 3.60 & 2000 & 32 & 12 & 10.0000 & 27300 & 0.6215 & 12 & 14 &  9.5 & 1 &  7 & 20.100060\\\\\n",
       "\\end{tabular}\n"
      ],
      "text/markdown": [
       "\n",
       "A data.frame: 5 × 20\n",
       "\n",
       "| <!--/--> | inlf &lt;int&gt; | hours &lt;int&gt; | kidslt6 &lt;int&gt; | kidsge6 &lt;int&gt; | age &lt;int&gt; | educ &lt;int&gt; | wage &lt;dbl&gt; | repwage &lt;dbl&gt; | hushrs &lt;int&gt; | husage &lt;int&gt; | huseduc &lt;int&gt; | huswage &lt;dbl&gt; | faminc &lt;int&gt; | mtr &lt;dbl&gt; | motheduc &lt;int&gt; | fatheduc &lt;int&gt; | unem &lt;dbl&gt; | city &lt;int&gt; | exper &lt;int&gt; | nwifeinc &lt;dbl&gt; |\n",
       "|---|---|---|---|---|---|---|---|---|---|---|---|---|---|---|---|---|---|---|---|---|\n",
       "| 1 | 1 | 1610 | 1 | 0 | 32 | 12 | 3.3540 | 2.65 | 2708 | 34 | 12 |  4.0288 | 16310 | 0.7215 | 12 |  7 |  5.0 | 0 | 14 | 10.910060 |\n",
       "| 2 | 1 | 1656 | 0 | 2 | 30 | 12 | 1.3889 | 2.65 | 2310 | 30 |  9 |  8.4416 | 21800 | 0.6615 |  7 |  7 | 11.0 | 1 |  5 | 19.499980 |\n",
       "| 3 | 1 | 1980 | 1 | 3 | 35 | 12 | 4.5455 | 4.04 | 3072 | 40 | 12 |  3.5807 | 21040 | 0.6915 | 12 |  7 |  5.0 | 0 | 15 | 12.039910 |\n",
       "| 4 | 1 |  456 | 0 | 3 | 34 | 12 | 1.0965 | 3.25 | 1920 | 53 | 10 |  3.5417 |  7300 | 0.7815 |  7 |  7 |  5.0 | 0 |  6 |  6.799996 |\n",
       "| 5 | 1 | 1568 | 1 | 2 | 31 | 14 | 4.5918 | 3.60 | 2000 | 32 | 12 | 10.0000 | 27300 | 0.6215 | 12 | 14 |  9.5 | 1 |  7 | 20.100060 |\n",
       "\n"
      ],
      "text/plain": [
       "  inlf hours kidslt6 kidsge6 age educ wage   repwage hushrs husage huseduc\n",
       "1 1    1610  1       0       32  12   3.3540 2.65    2708   34     12     \n",
       "2 1    1656  0       2       30  12   1.3889 2.65    2310   30      9     \n",
       "3 1    1980  1       3       35  12   4.5455 4.04    3072   40     12     \n",
       "4 1     456  0       3       34  12   1.0965 3.25    1920   53     10     \n",
       "5 1    1568  1       2       31  14   4.5918 3.60    2000   32     12     \n",
       "  huswage faminc mtr    motheduc fatheduc unem city exper nwifeinc \n",
       "1  4.0288 16310  0.7215 12        7        5.0 0    14    10.910060\n",
       "2  8.4416 21800  0.6615  7        7       11.0 1     5    19.499980\n",
       "3  3.5807 21040  0.6915 12        7        5.0 0    15    12.039910\n",
       "4  3.5417  7300  0.7815  7        7        5.0 0     6     6.799996\n",
       "5 10.0000 27300  0.6215 12       14        9.5 1     7    20.100060"
      ]
     },
     "metadata": {},
     "output_type": "display_data"
    },
    {
     "data": {
      "text/html": [
       "<table class=\"dataframe\">\n",
       "<caption>A data.frame: 5 × 20</caption>\n",
       "<thead>\n",
       "\t<tr><th></th><th scope=col>inlf</th><th scope=col>hours</th><th scope=col>kidslt6</th><th scope=col>kidsge6</th><th scope=col>age</th><th scope=col>educ</th><th scope=col>wage</th><th scope=col>repwage</th><th scope=col>hushrs</th><th scope=col>husage</th><th scope=col>huseduc</th><th scope=col>huswage</th><th scope=col>faminc</th><th scope=col>mtr</th><th scope=col>motheduc</th><th scope=col>fatheduc</th><th scope=col>unem</th><th scope=col>city</th><th scope=col>exper</th><th scope=col>nwifeinc</th></tr>\n",
       "\t<tr><th></th><th scope=col>&lt;int&gt;</th><th scope=col>&lt;int&gt;</th><th scope=col>&lt;int&gt;</th><th scope=col>&lt;int&gt;</th><th scope=col>&lt;int&gt;</th><th scope=col>&lt;int&gt;</th><th scope=col>&lt;dbl&gt;</th><th scope=col>&lt;dbl&gt;</th><th scope=col>&lt;int&gt;</th><th scope=col>&lt;int&gt;</th><th scope=col>&lt;int&gt;</th><th scope=col>&lt;dbl&gt;</th><th scope=col>&lt;int&gt;</th><th scope=col>&lt;dbl&gt;</th><th scope=col>&lt;int&gt;</th><th scope=col>&lt;int&gt;</th><th scope=col>&lt;dbl&gt;</th><th scope=col>&lt;int&gt;</th><th scope=col>&lt;int&gt;</th><th scope=col>&lt;dbl&gt;</th></tr>\n",
       "</thead>\n",
       "<tbody>\n",
       "\t<tr><th scope=row>749</th><td>0</td><td>0</td><td>0</td><td>2</td><td>40</td><td>13</td><td>0</td><td>0</td><td>3020</td><td>43</td><td>16</td><td> 9.2715</td><td>28200</td><td>0.6215</td><td>10</td><td>10</td><td> 9.5</td><td>1</td><td> 5</td><td>28.200</td></tr>\n",
       "\t<tr><th scope=row>750</th><td>0</td><td>0</td><td>2</td><td>3</td><td>31</td><td>12</td><td>0</td><td>0</td><td>2056</td><td>33</td><td>12</td><td> 4.8638</td><td>10000</td><td>0.7715</td><td>12</td><td>12</td><td> 7.5</td><td>0</td><td>14</td><td>10.000</td></tr>\n",
       "\t<tr><th scope=row>751</th><td>0</td><td>0</td><td>0</td><td>0</td><td>43</td><td>12</td><td>0</td><td>0</td><td>2383</td><td>43</td><td>12</td><td> 1.0898</td><td> 9952</td><td>0.7515</td><td>10</td><td> 3</td><td> 7.5</td><td>0</td><td> 4</td><td> 9.952</td></tr>\n",
       "\t<tr><th scope=row>752</th><td>0</td><td>0</td><td>0</td><td>0</td><td>60</td><td>12</td><td>0</td><td>0</td><td>1705</td><td>55</td><td> 8</td><td>12.4400</td><td>24984</td><td>0.6215</td><td>12</td><td>12</td><td>14.0</td><td>1</td><td>15</td><td>24.984</td></tr>\n",
       "\t<tr><th scope=row>753</th><td>0</td><td>0</td><td>0</td><td>3</td><td>39</td><td> 9</td><td>0</td><td>0</td><td>3120</td><td>48</td><td>12</td><td> 6.0897</td><td>28363</td><td>0.6915</td><td> 7</td><td> 7</td><td>11.0</td><td>1</td><td>12</td><td>28.363</td></tr>\n",
       "</tbody>\n",
       "</table>\n"
      ],
      "text/latex": [
       "A data.frame: 5 × 20\n",
       "\\begin{tabular}{r|llllllllllllllllllll}\n",
       "  & inlf & hours & kidslt6 & kidsge6 & age & educ & wage & repwage & hushrs & husage & huseduc & huswage & faminc & mtr & motheduc & fatheduc & unem & city & exper & nwifeinc\\\\\n",
       "  & <int> & <int> & <int> & <int> & <int> & <int> & <dbl> & <dbl> & <int> & <int> & <int> & <dbl> & <int> & <dbl> & <int> & <int> & <dbl> & <int> & <int> & <dbl>\\\\\n",
       "\\hline\n",
       "\t749 & 0 & 0 & 0 & 2 & 40 & 13 & 0 & 0 & 3020 & 43 & 16 &  9.2715 & 28200 & 0.6215 & 10 & 10 &  9.5 & 1 &  5 & 28.200\\\\\n",
       "\t750 & 0 & 0 & 2 & 3 & 31 & 12 & 0 & 0 & 2056 & 33 & 12 &  4.8638 & 10000 & 0.7715 & 12 & 12 &  7.5 & 0 & 14 & 10.000\\\\\n",
       "\t751 & 0 & 0 & 0 & 0 & 43 & 12 & 0 & 0 & 2383 & 43 & 12 &  1.0898 &  9952 & 0.7515 & 10 &  3 &  7.5 & 0 &  4 &  9.952\\\\\n",
       "\t752 & 0 & 0 & 0 & 0 & 60 & 12 & 0 & 0 & 1705 & 55 &  8 & 12.4400 & 24984 & 0.6215 & 12 & 12 & 14.0 & 1 & 15 & 24.984\\\\\n",
       "\t753 & 0 & 0 & 0 & 3 & 39 &  9 & 0 & 0 & 3120 & 48 & 12 &  6.0897 & 28363 & 0.6915 &  7 &  7 & 11.0 & 1 & 12 & 28.363\\\\\n",
       "\\end{tabular}\n"
      ],
      "text/markdown": [
       "\n",
       "A data.frame: 5 × 20\n",
       "\n",
       "| <!--/--> | inlf &lt;int&gt; | hours &lt;int&gt; | kidslt6 &lt;int&gt; | kidsge6 &lt;int&gt; | age &lt;int&gt; | educ &lt;int&gt; | wage &lt;dbl&gt; | repwage &lt;dbl&gt; | hushrs &lt;int&gt; | husage &lt;int&gt; | huseduc &lt;int&gt; | huswage &lt;dbl&gt; | faminc &lt;int&gt; | mtr &lt;dbl&gt; | motheduc &lt;int&gt; | fatheduc &lt;int&gt; | unem &lt;dbl&gt; | city &lt;int&gt; | exper &lt;int&gt; | nwifeinc &lt;dbl&gt; |\n",
       "|---|---|---|---|---|---|---|---|---|---|---|---|---|---|---|---|---|---|---|---|---|\n",
       "| 749 | 0 | 0 | 0 | 2 | 40 | 13 | 0 | 0 | 3020 | 43 | 16 |  9.2715 | 28200 | 0.6215 | 10 | 10 |  9.5 | 1 |  5 | 28.200 |\n",
       "| 750 | 0 | 0 | 2 | 3 | 31 | 12 | 0 | 0 | 2056 | 33 | 12 |  4.8638 | 10000 | 0.7715 | 12 | 12 |  7.5 | 0 | 14 | 10.000 |\n",
       "| 751 | 0 | 0 | 0 | 0 | 43 | 12 | 0 | 0 | 2383 | 43 | 12 |  1.0898 |  9952 | 0.7515 | 10 |  3 |  7.5 | 0 |  4 |  9.952 |\n",
       "| 752 | 0 | 0 | 0 | 0 | 60 | 12 | 0 | 0 | 1705 | 55 |  8 | 12.4400 | 24984 | 0.6215 | 12 | 12 | 14.0 | 1 | 15 | 24.984 |\n",
       "| 753 | 0 | 0 | 0 | 3 | 39 |  9 | 0 | 0 | 3120 | 48 | 12 |  6.0897 | 28363 | 0.6915 |  7 |  7 | 11.0 | 1 | 12 | 28.363 |\n",
       "\n"
      ],
      "text/plain": [
       "    inlf hours kidslt6 kidsge6 age educ wage repwage hushrs husage huseduc\n",
       "749 0    0     0       2       40  13   0    0       3020   43     16     \n",
       "750 0    0     2       3       31  12   0    0       2056   33     12     \n",
       "751 0    0     0       0       43  12   0    0       2383   43     12     \n",
       "752 0    0     0       0       60  12   0    0       1705   55      8     \n",
       "753 0    0     0       3       39   9   0    0       3120   48     12     \n",
       "    huswage faminc mtr    motheduc fatheduc unem city exper nwifeinc\n",
       "749  9.2715 28200  0.6215 10       10        9.5 1     5    28.200  \n",
       "750  4.8638 10000  0.7715 12       12        7.5 0    14    10.000  \n",
       "751  1.0898  9952  0.7515 10        3        7.5 0     4     9.952  \n",
       "752 12.4400 24984  0.6215 12       12       14.0 1    15    24.984  \n",
       "753  6.0897 28363  0.6915  7        7       11.0 1    12    28.363  "
      ]
     },
     "metadata": {},
     "output_type": "display_data"
    }
   ],
   "source": [
    "rm(list = ls())\n",
    "\n",
    "datasetmroz <- read.csv('mroz.csv', header = TRUE)\n",
    "str(datasetmroz)\n",
    "sapply(datasetmroz, function(x) sum(is.na(x)))\n",
    "       \n",
    "head(datasetmroz,5)\n",
    "tail(datasetmroz,5)"
   ]
  },
  {
   "cell_type": "markdown",
   "metadata": {},
   "source": [
    "Variable name | Descriptive label\n",
    "--------------|--------------\n",
    "inlf          | =1 if in labor force, 1975\n",
    "hours         | hours worked, 1975\n",
    "kidslt6       | # kids < 6 years\n",
    "kidsge6       | # kids 6-18\n",
    "age           | woman's age in yrs\n",
    "educ          | years of schooling\n",
    "wage          | estimated wage from earns., USD per hour\n",
    "repwage       | reported wage at interview in 1976, USD per hour\n",
    "hushrs        | hours worked by husband, 1975\n",
    "husage        | husband's age\n",
    "huseduc       | husband's years of schooling\n",
    "huswage       | husband's hourly wage, 1975\n",
    "faminc        | family income, 1975\n",
    "mtr           | fed. marginal tax rate facing woman\n",
    "motheduc      | mother's years of schooling\n",
    "fatheduc      | father's years of schooling\n",
    "unem          | unem. rate in county of resid.\n",
    "city          | =1 if live in SMSA\n",
    "exper         | actual labor mkt exper\n",
    "nwifeinc      | (faminc - wage*hours)/1000"
   ]
  },
  {
   "cell_type": "code",
   "execution_count": 22,
   "metadata": {},
   "outputs": [
    {
     "data": {
      "text/plain": [
       "      inlf            hours           kidslt6          kidsge6     \n",
       " Min.   :0.0000   Min.   :   0.0   Min.   :0.0000   Min.   :0.000  \n",
       " 1st Qu.:0.0000   1st Qu.:   0.0   1st Qu.:0.0000   1st Qu.:0.000  \n",
       " Median :1.0000   Median : 288.0   Median :0.0000   Median :1.000  \n",
       " Mean   :0.5684   Mean   : 740.6   Mean   :0.2377   Mean   :1.353  \n",
       " 3rd Qu.:1.0000   3rd Qu.:1516.0   3rd Qu.:0.0000   3rd Qu.:2.000  \n",
       " Max.   :1.0000   Max.   :4950.0   Max.   :3.0000   Max.   :8.000  \n",
       "      age             educ            wage           repwage         hushrs    \n",
       " Min.   :30.00   Min.   : 5.00   Min.   : 0.000   Min.   :0.00   Min.   : 175  \n",
       " 1st Qu.:36.00   1st Qu.:12.00   1st Qu.: 0.000   1st Qu.:0.00   1st Qu.:1928  \n",
       " Median :43.00   Median :12.00   Median : 1.625   Median :0.00   Median :2164  \n",
       " Mean   :42.54   Mean   :12.29   Mean   : 2.375   Mean   :1.85   Mean   :2267  \n",
       " 3rd Qu.:49.00   3rd Qu.:13.00   3rd Qu.: 3.788   3rd Qu.:3.58   3rd Qu.:2553  \n",
       " Max.   :60.00   Max.   :17.00   Max.   :25.000   Max.   :9.98   Max.   :5010  \n",
       "     husage         huseduc         huswage            faminc     \n",
       " Min.   :30.00   Min.   : 3.00   Min.   : 0.4121   Min.   : 1500  \n",
       " 1st Qu.:38.00   1st Qu.:11.00   1st Qu.: 4.7883   1st Qu.:15428  \n",
       " Median :46.00   Median :12.00   Median : 6.9758   Median :20880  \n",
       " Mean   :45.12   Mean   :12.49   Mean   : 7.4822   Mean   :23081  \n",
       " 3rd Qu.:52.00   3rd Qu.:15.00   3rd Qu.: 9.1667   3rd Qu.:28200  \n",
       " Max.   :60.00   Max.   :17.00   Max.   :40.5090   Max.   :96000  \n",
       "      mtr            motheduc         fatheduc           unem       \n",
       " Min.   :0.4415   Min.   : 0.000   Min.   : 0.000   Min.   : 3.000  \n",
       " 1st Qu.:0.6215   1st Qu.: 7.000   1st Qu.: 7.000   1st Qu.: 7.500  \n",
       " Median :0.6915   Median :10.000   Median : 7.000   Median : 7.500  \n",
       " Mean   :0.6789   Mean   : 9.251   Mean   : 8.809   Mean   : 8.624  \n",
       " 3rd Qu.:0.7215   3rd Qu.:12.000   3rd Qu.:12.000   3rd Qu.:11.000  \n",
       " Max.   :0.9415   Max.   :17.000   Max.   :17.000   Max.   :14.000  \n",
       "      city            exper          nwifeinc       \n",
       " Min.   :0.0000   Min.   : 0.00   Min.   :-0.02906  \n",
       " 1st Qu.:0.0000   1st Qu.: 4.00   1st Qu.:13.02504  \n",
       " Median :1.0000   Median : 9.00   Median :17.70000  \n",
       " Mean   :0.6428   Mean   :10.63   Mean   :20.12896  \n",
       " 3rd Qu.:1.0000   3rd Qu.:15.00   3rd Qu.:24.46600  \n",
       " Max.   :1.0000   Max.   :45.00   Max.   :96.00000  "
      ]
     },
     "metadata": {},
     "output_type": "display_data"
    },
    {
     "data": {
      "text/html": [
       "428"
      ],
      "text/latex": [
       "428"
      ],
      "text/markdown": [
       "428"
      ],
      "text/plain": [
       "[1] 428"
      ]
     },
     "metadata": {},
     "output_type": "display_data"
    },
    {
     "data": {
      "text/html": [
       "325"
      ],
      "text/latex": [
       "325"
      ],
      "text/markdown": [
       "325"
      ],
      "text/plain": [
       "[1] 325"
      ]
     },
     "metadata": {},
     "output_type": "display_data"
    }
   ],
   "source": [
    "summary(datasetmroz)\n",
    "\n",
    "sum(datasetmroz$wage>0)\n",
    "sum(datasetmroz$wage==0)"
   ]
  },
  {
   "cell_type": "code",
   "execution_count": 23,
   "metadata": {},
   "outputs": [
    {
     "name": "stdout",
     "output_type": "stream",
     "text": [
      "'data.frame':\t428 obs. of  20 variables:\n",
      " $ inlf    : int  1 1 1 1 1 1 1 1 1 1 ...\n",
      " $ hours   : int  1610 1656 1980 456 1568 2032 1440 1020 1458 1600 ...\n",
      " $ kidslt6 : int  1 0 1 0 1 0 0 0 0 0 ...\n",
      " $ kidsge6 : int  0 2 3 3 2 0 2 0 2 2 ...\n",
      " $ age     : int  32 30 35 34 31 54 37 54 48 39 ...\n",
      " $ educ    : int  12 12 12 12 14 12 16 12 12 12 ...\n",
      " $ wage    : num  3.35 1.39 4.55 1.1 4.59 ...\n",
      " $ repwage : num  2.65 2.65 4.04 3.25 3.6 4.7 5.95 9.98 0 4.15 ...\n",
      " $ hushrs  : int  2708 2310 3072 1920 2000 1040 2670 4120 1995 2100 ...\n",
      " $ husage  : int  34 30 40 53 32 57 37 53 52 43 ...\n",
      " $ huseduc : int  12 9 12 10 12 11 12 8 4 12 ...\n",
      " $ huswage : num  4.03 8.44 3.58 3.54 10 ...\n",
      " $ faminc  : int  16310 21800 21040 7300 27300 19495 21152 18900 20405 20425 ...\n",
      " $ mtr     : num  0.722 0.661 0.692 0.781 0.622 ...\n",
      " $ motheduc: int  12 7 12 7 12 14 14 3 7 7 ...\n",
      " $ fatheduc: int  7 7 7 7 14 7 7 3 7 7 ...\n",
      " $ unem    : num  5 11 5 5 9.5 7.5 5 5 3 5 ...\n",
      " $ city    : int  0 1 0 0 1 1 0 0 0 0 ...\n",
      " $ exper   : int  14 5 15 6 7 33 11 35 24 21 ...\n",
      " $ nwifeinc: num  10.9 19.5 12 6.8 20.1 ...\n"
     ]
    },
    {
     "data": {
      "text/html": [
       "<table class=\"dataframe\">\n",
       "<caption>A matrix: 3 × 3 of type dbl</caption>\n",
       "<thead>\n",
       "\t<tr><th></th><th scope=col>educ</th><th scope=col>motheduc</th><th scope=col>fatheduc</th></tr>\n",
       "</thead>\n",
       "<tbody>\n",
       "\t<tr><th scope=row>educ</th><td>1.0000000</td><td>0.3870198</td><td>0.4154030</td></tr>\n",
       "\t<tr><th scope=row>motheduc</th><td>0.3870198</td><td>1.0000000</td><td>0.5540632</td></tr>\n",
       "\t<tr><th scope=row>fatheduc</th><td>0.4154030</td><td>0.5540632</td><td>1.0000000</td></tr>\n",
       "</tbody>\n",
       "</table>\n"
      ],
      "text/latex": [
       "A matrix: 3 × 3 of type dbl\n",
       "\\begin{tabular}{r|lll}\n",
       "  & educ & motheduc & fatheduc\\\\\n",
       "\\hline\n",
       "\teduc & 1.0000000 & 0.3870198 & 0.4154030\\\\\n",
       "\tmotheduc & 0.3870198 & 1.0000000 & 0.5540632\\\\\n",
       "\tfatheduc & 0.4154030 & 0.5540632 & 1.0000000\\\\\n",
       "\\end{tabular}\n"
      ],
      "text/markdown": [
       "\n",
       "A matrix: 3 × 3 of type dbl\n",
       "\n",
       "| <!--/--> | educ | motheduc | fatheduc |\n",
       "|---|---|---|---|\n",
       "| educ | 1.0000000 | 0.3870198 | 0.4154030 |\n",
       "| motheduc | 0.3870198 | 1.0000000 | 0.5540632 |\n",
       "| fatheduc | 0.4154030 | 0.5540632 | 1.0000000 |\n",
       "\n"
      ],
      "text/plain": [
       "         educ      motheduc  fatheduc \n",
       "educ     1.0000000 0.3870198 0.4154030\n",
       "motheduc 0.3870198 1.0000000 0.5540632\n",
       "fatheduc 0.4154030 0.5540632 1.0000000"
      ]
     },
     "metadata": {},
     "output_type": "display_data"
    }
   ],
   "source": [
    "datasetmroz2 <- datasetmroz[datasetmroz$wage > 0,]\n",
    "str(datasetmroz2)\n",
    "\n",
    "cor(datasetmroz2[,c(6,15,16)])"
   ]
  },
  {
   "cell_type": "code",
   "execution_count": 24,
   "metadata": {},
   "outputs": [
    {
     "data": {
      "text/plain": [
       "\n",
       "Call:\n",
       "lm(formula = log(wage) ~ educ + exper + I(exper^2), data = datasetmroz2)\n",
       "\n",
       "Residuals:\n",
       "     Min       1Q   Median       3Q      Max \n",
       "-3.08404 -0.30627  0.04952  0.37498  2.37115 \n",
       "\n",
       "Coefficients:\n",
       "              Estimate Std. Error t value Pr(>|t|)    \n",
       "(Intercept) -0.5220406  0.1986321  -2.628  0.00890 ** \n",
       "educ         0.1074896  0.0141465   7.598 1.94e-13 ***\n",
       "exper        0.0415665  0.0131752   3.155  0.00172 ** \n",
       "I(exper^2)  -0.0008112  0.0003932  -2.063  0.03974 *  \n",
       "---\n",
       "Signif. codes:  0 '***' 0.001 '**' 0.01 '*' 0.05 '.' 0.1 ' ' 1\n",
       "\n",
       "Residual standard error: 0.6664 on 424 degrees of freedom\n",
       "Multiple R-squared:  0.1568,\tAdjusted R-squared:  0.1509 \n",
       "F-statistic: 26.29 on 3 and 424 DF,  p-value: 1.302e-15\n"
      ]
     },
     "metadata": {},
     "output_type": "display_data"
    }
   ],
   "source": [
    "model.OLS.wage <- lm(log(wage) ~ educ + exper + I(exper^2), data = datasetmroz2)\n",
    "summary(model.OLS.wage)"
   ]
  },
  {
   "cell_type": "code",
   "execution_count": 25,
   "metadata": {},
   "outputs": [
    {
     "data": {
      "text/plain": [
       "\n",
       "Call:\n",
       "ivreg(formula = log(wage) ~ educ + exper + I(exper^2) | exper + \n",
       "    I(exper^2) + motheduc, data = datasetmroz2)\n",
       "\n",
       "Residuals:\n",
       "     Min       1Q   Median       3Q      Max \n",
       "-3.10804 -0.32633  0.06024  0.36772  2.34351 \n",
       "\n",
       "Coefficients:\n",
       "              Estimate Std. Error t value Pr(>|t|)   \n",
       "(Intercept)  0.1981861  0.4728772   0.419  0.67535   \n",
       "educ         0.0492630  0.0374360   1.316  0.18891   \n",
       "exper        0.0448558  0.0135768   3.304  0.00103 **\n",
       "I(exper^2)  -0.0009221  0.0004064  -2.269  0.02377 * \n",
       "\n",
       "Diagnostic tests:\n",
       "                 df1 df2 statistic p-value    \n",
       "Weak instruments   1 424    73.946  <2e-16 ***\n",
       "Wu-Hausman         1 423     2.968  0.0856 .  \n",
       "Sargan             0  NA        NA      NA    \n",
       "---\n",
       "Signif. codes:  0 '***' 0.001 '**' 0.01 '*' 0.05 '.' 0.1 ' ' 1\n",
       "\n",
       "Residual standard error: 0.6796 on 424 degrees of freedom\n",
       "Multiple R-Squared: 0.1231,\tAdjusted R-squared: 0.1169 \n",
       "Wald test: 7.348 on 3 and 424 DF,  p-value: 8.228e-05 \n"
      ]
     },
     "metadata": {},
     "output_type": "display_data"
    }
   ],
   "source": [
    "model.2SLS.M <- ivreg(log(wage) ~ educ + exper + I(exper^2) | exper + I(exper^2) + motheduc, data = datasetmroz2)\n",
    "summary(model.2SLS.M, diagnostics = TRUE)"
   ]
  },
  {
   "cell_type": "code",
   "execution_count": 26,
   "metadata": {},
   "outputs": [
    {
     "data": {
      "text/plain": [
       "\n",
       "Call:\n",
       "ivreg(formula = log(wage) ~ educ + exper + I(exper^2) | exper + \n",
       "    I(exper^2) + motheduc + fatheduc, data = datasetmroz2)\n",
       "\n",
       "Residuals:\n",
       "    Min      1Q  Median      3Q     Max \n",
       "-3.0986 -0.3196  0.0551  0.3689  2.3493 \n",
       "\n",
       "Coefficients:\n",
       "              Estimate Std. Error t value Pr(>|t|)   \n",
       "(Intercept)  0.0481003  0.4003281   0.120  0.90442   \n",
       "educ         0.0613966  0.0314367   1.953  0.05147 . \n",
       "exper        0.0441704  0.0134325   3.288  0.00109 **\n",
       "I(exper^2)  -0.0008990  0.0004017  -2.238  0.02574 * \n",
       "\n",
       "Diagnostic tests:\n",
       "                 df1 df2 statistic p-value    \n",
       "Weak instruments   2 423    55.400  <2e-16 ***\n",
       "Wu-Hausman         1 423     2.793  0.0954 .  \n",
       "Sargan             1  NA     0.378  0.5386    \n",
       "---\n",
       "Signif. codes:  0 '***' 0.001 '**' 0.01 '*' 0.05 '.' 0.1 ' ' 1\n",
       "\n",
       "Residual standard error: 0.6747 on 424 degrees of freedom\n",
       "Multiple R-Squared: 0.1357,\tAdjusted R-squared: 0.1296 \n",
       "Wald test: 8.141 on 3 and 424 DF,  p-value: 2.787e-05 \n"
      ]
     },
     "metadata": {},
     "output_type": "display_data"
    }
   ],
   "source": [
    "model.2SLS.MF <- ivreg(log(wage) ~ educ + exper + I(exper^2) | exper + I(exper^2) + motheduc + fatheduc, data = datasetmroz2)\n",
    "summary(model.2SLS.MF, diagnostics = TRUE)"
   ]
  },
  {
   "cell_type": "code",
   "execution_count": null,
   "metadata": {},
   "outputs": [],
   "source": []
  },
  {
   "cell_type": "code",
   "execution_count": null,
   "metadata": {},
   "outputs": [],
   "source": []
  },
  {
   "cell_type": "code",
   "execution_count": null,
   "metadata": {},
   "outputs": [],
   "source": []
  }
 ],
 "metadata": {
  "kernelspec": {
   "display_name": "R",
   "language": "R",
   "name": "ir"
  },
  "language_info": {
   "codemirror_mode": "r",
   "file_extension": ".r",
   "mimetype": "text/x-r-source",
   "name": "R",
   "pygments_lexer": "r",
   "version": "4.3.1"
  }
 },
 "nbformat": 4,
 "nbformat_minor": 4
}
