{
 "cells": [
  {
   "cell_type": "markdown",
   "metadata": {},
   "source": [
    "# Seminar III: ARIMA modelling\n",
    "=======================================\n",
    "##### Lenka Nechvátalová (`lenka.nechvatalova@fsv.cuni.cz`)"
   ]
  },
  {
   "cell_type": "markdown",
   "metadata": {},
   "source": [
    "## Contents\n",
    "<a id='Contents'></a> \n",
    "\n",
    "- [ARIMA processes](#ARIMAprocesses)\n",
    "- [1. Building ARMA models: the Box–Jenkins approach](#FittingARIMAmodels)\n",
    "    - [1.1 Autoregressive AR(p) process](#AutoregressiveAR(p)process)\n",
    "    - [1.2 Moving average MA(q) process](#MovingaverageMA(q)process)\n",
    "    - [1.3 Mixed ARMA(p,q) process](#MixedARMA(p,q)process)\n",
    "- [2. Fitting ARIMA model: Empirical example](#FittingARIMAmodelEmpiricalexample)\n",
    "- [3. Fitting ARMA model - ARIMA example, overfit example](#FittingARMAmodel)\n",
    "- [4. Exercise](#exercise)\n",
    "- [5. ARFIMA processes](#ARFIMAprocesses)\n",
    "- [Appendix](#Appendix)\n",
    "    "
   ]
  },
  {
   "cell_type": "markdown",
   "metadata": {},
   "source": [
    "Reading --  [Brooks](https://drive.google.com/file/d/1fJ3O5rf-NFjwiJ0ptk1h91MKbCUb24xo/view?usp=sharing), Chapter 5\n"
   ]
  },
  {
   "cell_type": "code",
   "execution_count": 31,
   "metadata": {
    "vscode": {
     "languageId": "r"
    }
   },
   "outputs": [],
   "source": [
    "rm(list = ls())\n",
    "\n",
    "#install.packages(c(\"tseries\", \"forecast\", \"fracdiff\"))\n",
    "\n",
    "suppressPackageStartupMessages({\n",
    "    library('tseries')    #Time Series Analysis and Computational Finance \n",
    "    library('forecast')  #Forecasting Functions for Time Series and Linear Models \n",
    "    library('fracdiff')    #Fractionally Differenced ARIMA aka ARFIMA(P,d,q) Models\n",
    "    library('repr')        #Serializable Representations \n",
    "})\n",
    "options(repr.plot.width=8, repr.plot.height=3) # set the plotting parameters   "
   ]
  },
  {
   "cell_type": "code",
   "execution_count": null,
   "metadata": {
    "vscode": {
     "languageId": "r"
    }
   },
   "outputs": [],
   "source": []
  },
  {
   "cell_type": "markdown",
   "metadata": {
    "heading_collapsed": "true"
   },
   "source": [
    "# Autoregressive integrated moving average (ARIMA) processes:\n",
    "<a id='ARIMAprocesses'></a> \n",
    "\n",
    "Source: [Brooks](https://drive.google.com/file/d/1fJ3O5rf-NFjwiJ0ptk1h91MKbCUb24xo/view?usp=sharing)\n",
    "(5.6 ARMA processes, page 223 - 225)\n",
    "\n"
   ]
  },
  {
   "cell_type": "markdown",
   "metadata": {},
   "source": [
    "________________________________________________________________________\n",
    "________________________________________________________________________\n",
    "\n",
    "By combining the $AR(p)$ and $MA(q)$ models, an $ARMA(p, q)$ model is obtained. Such a model states that the current value of some series $y$ depends linearly on its own previous values plus a combination of current and previous values of a **white noise error term**. The model could be written\n",
    "\n",
    "$$ \\phi(L)y_t = μ + \\theta(L)u_t $$\n",
    "\n",
    "where\n",
    "\n",
    "\n",
    "$$\\phi(L) = 1 - \\phi_1 L - \\phi_2 L^2 - ... - \\phi_p L^p $$ and \n",
    "\n",
    "$$\\theta(L) = 1 + \\theta_1 L + \\theta_2 L^2 + ... + \\theta_p L^p $$\n",
    "or\n",
    "\n",
    "$$ y_t = \\mu + \\phi_1 y_{t-1} + \\phi_2 y_{t-2} + ... + \\phi_p y_{t-p} + \\theta_1 u_{t-1}+ \\theta_2 u_{t-2}+ .... + \\theta_q u_{t-q} + u_t$$\n",
    "\n",
    "with\n",
    "\n",
    "$$E(u_t) = 0;  E(u^2_t) = \\sigma^2; E(u_t, u_s) = 0, t \\neq s $$ \n",
    "\n",
    "The characteristics of an $ARMA$ process will be a combination of those from the autoregressive ($AR$) and moving average ($MA$) parts. Note that the $pacf$ is particularly useful in this context. The $acf$ alone can distinguish between a pure autoregressive and a pure moving average process. However, an  $ARMA$ process will have a geometrically declining $ac$f, as will a pure $AR$ process. So, the $pacf$ is useful for distinguishing between an $AR(p)$ process and an $ARMA(p, q)$ process -- the former will have a geometrically declining autocorrelation function, but a partial autocorrelation function which cuts off to zero after $p$ lags, while the latter will have both autocorrelation and partial autocorrelation functions which decline geometrically.\n",
    "\n",
    "________________________________________________________________________\n",
    "________________________________________________________________________\n",
    "\n",
    "**We can now summarise the defining characteristics of AR, MA and ARMA processes.**\n",
    "\n",
    "An autoregressive process has:\n",
    "- a geometrically decaying acf\n",
    "- a number of non-zero points of pacf = AR order.\n",
    "\n",
    "A moving average process has:\n",
    "- number of non-zero points of acf = MA order\n",
    "- a geometrically decaying pacf.\n",
    "\n",
    "A combination autoregressive moving average process has:\n",
    "- a geometrically decaying acf\n",
    "- a geometrically decaying pacf.\n",
    "\n",
    "________________________________________________________________________\n",
    "________________________________________________________________________\n",
    "\n",
    "**Main topic for today:**\n",
    "- Fitting ARMA process\n",
    "\n",
    "\n",
    "**ARIMA models applications:**\n",
    "- Fitting a mean equation of a time series; GARCH models are built using residuals from the ARIMA models\n",
    "- Benchmarks for more complicated models\n",
    "- Specific uses:\n",
    "    - Bridge equation to forecast GDP\n",
    "    - Measures of inflation persistance, etc."
   ]
  },
  {
   "cell_type": "markdown",
   "metadata": {},
   "source": [
    "# 1. Building ARMA models: the Box–Jenkins approach\n",
    "<a id='FittingARIMAmodels'></a> \n",
    "Source: [Brooks](https://drive.google.com/file/d/1fJ3O5rf-NFjwiJ0ptk1h91MKbCUb24xo/view?usp=sharing)\n",
    "(5.7 Building ARMA models: the Box–Jenkins approach, page 230 - 233)"
   ]
  },
  {
   "cell_type": "markdown",
   "metadata": {},
   "source": [
    "### Summary: \n",
    "\n",
    "- __Identification__ \n",
    "    - Plot the time series\n",
    "    - Check stationarity\n",
    "    - Transform the series if needed to obtain stationary series (e.g., take log, log difference, difference,..)\n",
    "    - Plot sample ACF and PACF\n",
    "    - Assess the order of AR and MA process\n",
    "\n",
    "- __Estimation__ \n",
    "    - Typically by maximum likelihood\n",
    "  \n",
    "- __Model validation__ \n",
    "    - Estimate the best model based on:\n",
    "        - Parsimony (Parsimonious models explain data with a minimum number of parameters)\n",
    "        - Goodness of fit (based on the information criteria)\n",
    "            - Tools for model selection\n",
    "            - Take into account model fit as well as parsimony\n",
    "            - Akaike information criterion (AIC), AIC with correction for small sample size (AICc), (Schwarz) Bayes information criterion (BIC/SBIC/SC), Hannan-Quinn information criterion\n",
    "    - Residuals from ARMA model should be white noise (no autocorrelation in the residuals left)    \n",
    "        - Check ACF and PACF of residuals\n",
    "        - Ljung-Box Q test to check for residual autocorrelation\n",
    "        - plotting the histogram of the residuals\n",
    "        - Jarque Bera normality test\n",
    "    - Check squared residuals and their ACF and PACF - the residuals should be homoskedastic with no significant autocorrelations. If there are significant correlations in squared residuals, consider the ARMA-GARCH model (next seminar)\n",
    "- __Forecasting__\n",
    "    - Long-term forecasts from ARMA converge to a constant\n",
    "    - Depending on the order of ARMA, short-term forecasts depend on a few previous realizations\n",
    "    - we can evaluate the forecast performance using RMSE, MAE, MAPE or other metrics.\n",
    "    "
   ]
  },
  {
   "cell_type": "code",
   "execution_count": null,
   "metadata": {
    "vscode": {
     "languageId": "r"
    }
   },
   "outputs": [],
   "source": []
  },
  {
   "cell_type": "markdown",
   "metadata": {},
   "source": [
    "**Beware of overfitting**\n",
    "- textbook by Brooks (section on Building ARMA models: the Box–Jenkins approach) discusses the problems that arise when we overfit and how it can give rise to common factors\n",
    "\n",
    "- example showing this using simulated data : [3. Fitting ARMA model - example](#FittingARMAmodel) and in the following seminar materials.\n",
    "\n",
    "\n",
    "> Examining whether the residuals are free from autocorrelation is much more\n",
    "commonly used than overfitting, and this may partly have arisen since for ARMA\n",
    "models, it can give rise to common factors in the overfitted model that make\n",
    "estimation of this model difficult and the statistical tests ill behaved. For example,\n",
    "if the true model is an ARMA(1,1) and we deliberately then fit an ARMA(2,2)\n",
    "there will be a common factor so that not all of the parameters in the latter model\n",
    "can be identified. This problem does not arise with pure AR or MA models, only\n",
    "with mixed processes.\n",
    "\n"
   ]
  },
  {
   "cell_type": "markdown",
   "metadata": {},
   "source": [
    "**Information criteria**\n",
    "\n",
    "- AIC (Akaike information criterion)\n",
    "    - $AIC = 2k - 2ln(L)$\n",
    "- AICc (Akaike information criterion with correction for small sample size)\n",
    "- BIC (Schwarz Bayesian information criterion, also SC, SBIC)\n",
    "    - $BIC = kln(n) - 2ln(L)$\n",
    "- HQC (Hannan–Quinn information criterion)\n",
    "\n",
    "AIC and AICc tend to select models with a higher number of parameters. BIC and HQC have penalties for the number of parameters, therefore they usually select more parsimonious models."
   ]
  },
  {
   "cell_type": "markdown",
   "metadata": {},
   "source": [
    "**The Ljung-Box test is used to check if there exists autocorrelation in a time series.** \n",
    "\n",
    "The null hypothesis of the Box Ljung Test, $H_0$, is that our model does not show lack of fit (or in simple terms—the model is just fine). The alternate hypothesis, $H_a$, is just that the model does show a lack of fit. A significant $p$-value$ in this test rejects the null hypothesis that the time series isn't autocorrelated.\n",
    "\n",
    "$H_0:$ no residual autocorrelation - model does **not** show lack of fit \n",
    "\n",
    "$H_a$: there is residual autocorrelation - model **does** show a lack of fit"
   ]
  },
  {
   "cell_type": "markdown",
   "metadata": {},
   "source": [
    "**Jarque-Bera test**\n",
    "\n",
    "\n",
    "\n",
    "The Jarque-Bera test is a goodness-of-fit test that determines whether or not sample data have skewness and kurtosis that matches a normal distribution. It tests the null of **normality** for $y$ using the Jarque-Bera test statistic. (H0: standardized residuals have skewness of 0 and kurtosis of 3)\n",
    "\n",
    "Under the null hypothesis of normality, JB  ~ $X^2(2)$"
   ]
  },
  {
   "cell_type": "markdown",
   "metadata": {},
   "source": [
    "**Forecasting using ARMA processes**\n",
    "<a id='ForecastingusingARMAprocesses'></a>   \n",
    "\n",
    " - for the forecasting purposses, we use expected value of a given fitted model - the smallest mean squared forecasting error;\n",
    " - long-term forecasts from ARMA converge to a constant - mean of the series;\n",
    " - depending on the order of ARMA, short-term forecasts depend on a few previous realizations;\n",
    " - variances of forecast errors converge to the variance of the series as the forecast horizon increases.\n",
    "\n",
    "Example:\n",
    "\n",
    "AR(1) process: $$y_t = \\mu + \\phi_1 y_{t-1} + u_t $$\n",
    "\n",
    "- 1-step ahead forecast: $ \\mathbb{E}_t (y_{t+1}) = \\mu + \\phi_1 y_t $\n",
    "- $k$-step ahead forecast: $ \\mathbb{E}_t (y_{t+k}) = \\mu (1 + \\phi_1 + \\ldots + \\phi_1^{k-1}) + \\phi_1^k y_t $"
   ]
  },
  {
   "cell_type": "markdown",
   "metadata": {
    "heading_collapsed": "true"
   },
   "source": [
    "### 1.1 Autoregressive AR(p) process\n",
    "<a id='AutoregressiveAR(p)process'></a>  \n"
   ]
  },
  {
   "cell_type": "markdown",
   "metadata": {},
   "source": [
    "\n",
    "$$\n",
    "y_t = \\mu + \\phi_1 y_{t-1} + \\ldots + \\phi_p y_{t-p} + u_t\n",
    "$$\n",
    "\n",
    "$$\n",
    "y_t = \\mu + \\sum_{i=1}^{p} \\phi_i y_{t-i} + u_t\n",
    "$$\n",
    "\n",
    "or using the lag operator, as\n",
    "\n",
    "$$\n",
    "y_t = \\mu + \\sum_{i=1}^{p} \\phi_i L^i y_{t} + u_t\n",
    "$$\n",
    "\n",
    "or \n",
    "\n",
    "$$\n",
    "\\phi(L) y_t = \\mu + u_t\n",
    "$$\n",
    "\n",
    "where $\\phi(L) = (1 - \\phi_1 L  - \\phi_2 L^2 - ... -  - \\phi_p L^p)$  and  $u_t$ is a residual $iid$ term. \n",
    "\n",
    "\n",
    "**The stationarity condition for an AR(p) model**: \n",
    "\n",
    "Setting $\\mu$ to zero for a zero mean $AR(p)$ process, $y_t$, given by\n",
    "\n",
    "AR process can be rewritten using the backshift operator as\n",
    "\n",
    "$$\n",
    "\\phi(L) y_t =  u_t\n",
    "$$\n",
    "\n",
    "it would be stated that the process is stationary if it is possible to write\n",
    "\n",
    "\n",
    "$$\n",
    " y_t =  \\phi(L) ^{-1} u_t\n",
    "$$\n",
    "\n",
    "with $\\phi(L) ^{-1}$ converging to zero. This means that the autocorrelations will decline eventually as the lag length is increased. When the expansion $\\phi(L) ^{-1}$ is calculated, it will contain an infinite number of terms, and can be written as an $MA(∞)$, e.g. $a_1u_{t-1} + a_2u_{t-2}  + a_3u_{t-3} + ... + u_t$. If the process is stationary, the coefficients in the $MA(∞)$ representation will decline eventually with lag length. On the other hand, if the process is non-stationary, the coefficients in the $MA(∞)$ representation would not converge to zero as the lag length increases.\n",
    "\n",
    "The condition for testing for the stationarity of a general AR(p) model is that the roots of the ‘characteristic equation’: \n",
    "$$\n",
    "1 - \\phi_1 z  - \\phi_2 z^2 - ... -  - \\phi_p z^p = 0\n",
    "$$\n",
    "\n",
    "all lie outside the unit circle. The notion of a characteristic equation is so-called because its roots determine the characteristics of the process $y_t$ -- for example, the acf for an AR process will depend on the roots of this characteristic equation, which is a polynomial in $z$.\n",
    "\n",
    "--------------------------------\n",
    "\n"
   ]
  },
  {
   "cell_type": "markdown",
   "metadata": {},
   "source": [
    "**ACF/PACF plots of different AR processes:**"
   ]
  },
  {
   "cell_type": "code",
   "execution_count": null,
   "metadata": {
    "vscode": {
     "languageId": "r"
    }
   },
   "outputs": [],
   "source": []
  },
  {
   "cell_type": "code",
   "execution_count": 2,
   "metadata": {
    "vscode": {
     "languageId": "r"
    }
   },
   "outputs": [
    {
     "data": {
      "image/png": "[encoded data removed]",
      "text/plain": [
       "Plot with title \"AR(1) 0.9 |PACF\""
      ]
     },
     "metadata": {},
     "output_type": "display_data"
    },
    {
     "data": {
      "image/png": "[encoded data removed]",
      "text/plain": [
       "Plot with title \"AR(1) -0.9 |PACF\""
      ]
     },
     "metadata": {},
     "output_type": "display_data"
    },
    {
     "data": {
      "image/png": "[encoded data removed]",
      "text/plain": [
       "Plot with title \"AR(2) 0.7,0.25 |PACF\""
      ]
     },
     "metadata": {},
     "output_type": "display_data"
    },
    {
     "data": {
      "image/png": "[encoded data removed]",
      "text/plain": [
       "Plot with title \"AR(2) -0.7,-0.25 |PACF\""
      ]
     },
     "metadata": {},
     "output_type": "display_data"
    }
   ],
   "source": [
    "rm(list = ls())\n",
    "set.seed(123)\n",
    "\n",
    "# simulate time series\n",
    "AR1   <- arima.sim(model = list(ar = c(0.9)), n = 600)\n",
    "AR1_ <- arima.sim(model = list(ar = c(-0.9)), n = 600)\n",
    "\n",
    "AR2 <- arima.sim(model = list(ar = c(0.7, 0.25)), n = 600)\n",
    "AR2_ <- arima.sim(model = list(ar = c(-0.7, -0.25)), n = 600)\n",
    "\n",
    "\n",
    "par(mfrow = c(1, 3))\n",
    "ts.plot( AR1,  main='AR(1) 0.9')\n",
    "Acf(AR1, lag.max = 12, main = \"AR(1) 0.9 |ACF\")\n",
    "Pacf(AR1, lag.max = 12, main = \"AR(1) 0.9 |PACF\")\n",
    "\n",
    "ts.plot(AR1_,  main='AR(1) -0.9')\n",
    "Acf(AR1_, lag.max = 12, main = \"AR(1) -0.9 |ACF\")\n",
    "Pacf(AR1_, lag.max = 12, main = \"AR(1) -0.9 |PACF\")\n",
    "\n",
    "ts.plot(AR2 ,  main='AR(2) 0.7,0.25')\n",
    "Acf(AR2, lag.max = 12, main = \"AR(2) 0.7,0.25 |ACF\")\n",
    "Pacf(AR2, lag.max = 12, main = \"AR(2) 0.7,0.25 |PACF\")\n",
    "\n",
    "ts.plot(AR2_ ,  main='AR(2) -0.7,-0.25')\n",
    "Acf(AR2_, lag.max = 12, main = \"AR(2) -0.7,-0.25 |ACF\")\n",
    "Pacf(AR2_, lag.max = 12, main = \"AR(2) -0.7,-0.25 |PACF\")\n"
   ]
  },
  {
   "cell_type": "markdown",
   "metadata": {
    "heading_collapsed": "true"
   },
   "source": [
    "### 1.2 Moving average MA(q) process\n",
    "<a id='MovingaverageMA(q)process'></a>  "
   ]
  },
  {
   "cell_type": "markdown",
   "metadata": {
    "heading_collapsed": "true"
   },
   "source": [
    " \n",
    "Let $\\{ x_t \\}$ be a covarinace stationary process,\n",
    "\n",
    "$$\n",
    "y_t = \\mu + u_t + \\theta_1 u_{t-1} + \\ldots + \\theta_q u_{t-q}\n",
    "$$\n",
    "\n",
    "where $u_t$ is a residual $iid$ term. \n",
    "\n",
    "MA models are always weakly stationary because they are finite linear combinations of a white noise sequence for which the first two moments are time invariant. MA(1) process is invertible if $|\\theta_1| < 1$. (for $MA(q)$ see 5.5.1 The invertibility condition pg.223) \n",
    "\n",
    "**Let’s simulate different MA processes and check their ACF and PACF**"
   ]
  },
  {
   "cell_type": "code",
   "execution_count": 3,
   "metadata": {
    "vscode": {
     "languageId": "r"
    }
   },
   "outputs": [
    {
     "data": {
      "image/png": "[encoded data removed]",
      "text/plain": [
       "Plot with title \"PACF of MA(1) 0.75\""
      ]
     },
     "metadata": {},
     "output_type": "display_data"
    },
    {
     "data": {
      "image/png": "[encoded data removed]",
      "text/plain": [
       "Plot with title \"PACF of MA(1) -0.75\""
      ]
     },
     "metadata": {},
     "output_type": "display_data"
    },
    {
     "data": {
      "image/png": "[encoded data removed]",
      "text/plain": [
       "Plot with title \"PACF of MA(2) 0.75, 0.25\""
      ]
     },
     "metadata": {},
     "output_type": "display_data"
    }
   ],
   "source": [
    "set.seed(123)\n",
    "#Series\n",
    "    MA1 <- arima.sim(model = list(ma = c(0.75)), n = 1000)\n",
    "    MA1_ <-arima.sim(model = list(ma = c(-0.75)), n = 1000)\n",
    "    MA2 <- arima.sim(model = list(ma = c(0.75, 0.25)), n = 1000)\n",
    "\n",
    "par(mfrow = c(1, 3))\n",
    "\n",
    "ts.plot(MA1 , main ='MA(1) 0.75')\n",
    "    Acf(MA1, lag.max = 12, main = \"ACF of MA(1) 0.75\")\n",
    "    Pacf(MA1, lag.max = 12, main = \"PACF of MA(1) 0.75\")\n",
    "\n",
    "ts.plot(MA1_ , main ='MA(1) -0.75 ')\n",
    "    Acf(MA1_, lag.max = 12, main = \"ACF of MA(1) -0.75\")\n",
    "    Pacf(MA1_, lag.max = 12, main = \"PACF of MA(1) -0.75\")\n",
    "\n",
    "ts.plot(MA2 , main ='MA(2) 0.75, 0.25')\n",
    "    Acf(MA2, lag.max = 12, main = \"ACF of MA(2) 0.75, 0.25\")\n",
    "    Pacf(MA2, lag.max = 12, main = \"PACF of MA(2) 0.75, 0.25\")"
   ]
  },
  {
   "cell_type": "markdown",
   "metadata": {},
   "source": [
    "\n",
    "__Summary.__ A brief summary of AR and MA models is in order. We have discussed the following properties:\n",
    "\n",
    "\n",
    "- for MA models, ACF is useful in specifying the order because ACF cuts off at lag q for an MA(q) series;\n",
    "- for AR models, PACF is useful in order determination because PACF cuts off at lag p for an AR(p) process;\n",
    "- an MA series is always stationary, but for an AR series to be stationary, all of its characteristic roots must be less than 1 in modulus;"
   ]
  },
  {
   "cell_type": "markdown",
   "metadata": {
    "heading_collapsed": "true"
   },
   "source": [
    "### 1.3 Mixed ARMA(p,q) process\n",
    "<a id='MixedARMA(p,q)process'></a>   "
   ]
  },
  {
   "cell_type": "markdown",
   "metadata": {},
   "source": [
    "\n",
    "Let $\\{ x_t \\}$ be a covarinace stationary process,\n",
    "\n",
    "$$ y_t = \\mu + \\phi_1 y_{t-1} + \\phi_2 y_{t-2} + ... + \\phi_p y_{t-p} + \\theta_1 u_{t-1}+ \\theta_2 u_{t-2}+ .... + \\theta_q u_{t-q} + u_t$$\n",
    "\n",
    "\n",
    "where $u_t$ is a residual $iid$ term. Using the backshift operator, the model can be rewritten as\n",
    "\n",
    "$$\n",
    "(1 - \\phi_1 L - \\phi_2 L^2 - ... - \\phi_p L^p ) y_t = (1 + \\theta_1 L + \\theta_2 L^2 + ... + \\theta_q L^q) u_t\n",
    "$$\n",
    "otherwise\n",
    "$$\n",
    "\\phi(L) y_t = \\theta(L) u_t\n",
    "$$\n",
    "\n",
    "For the ARMA(p,q) process given by $\\phi(L) y_t = \\theta(L) u_t$ $y_t$ t is stationary if only if the roots of $\\phi(L) = 0$ have all modulus greater than 1 or all the reciprocal roots have a modulus less than one (see https://math.unm.edu/~ghuerta/tseries/week4_1.pdf and stationarity condition for AR(p) ).\n",
    "\n",
    "\n",
    "-------------------------"
   ]
  },
  {
   "cell_type": "markdown",
   "metadata": {},
   "source": [
    "**Let’s simulate ARIMA(2,2) with different parameters:**"
   ]
  },
  {
   "cell_type": "code",
   "execution_count": 4,
   "metadata": {
    "vscode": {
     "languageId": "r"
    }
   },
   "outputs": [
    {
     "data": {
      "image/png": "[encoded data removed]",
      "text/plain": [
       "plot without title"
      ]
     },
     "metadata": {},
     "output_type": "display_data"
    },
    {
     "data": {
      "image/png": "[encoded data removed]",
      "text/plain": [
       "Plot with title \"PACF|  ARMA(2,2)\""
      ]
     },
     "metadata": {},
     "output_type": "display_data"
    }
   ],
   "source": [
    "rm(list = ls())\n",
    "set.seed(123)\n",
    "#Series\n",
    "    y3 <- arima.sim(model = list(ar = c(0.7, -0.4),  ma = c(0.6, -0.15)), n = 1000)\n",
    "#Plot\n",
    "    ts.plot(y3,ylab='')\n",
    "#ACF/PACF\n",
    "    par(mfrow=c(1,2))\n",
    "    Acf(y3, lag.max = 12, main=\"ACF|  ARMA(2,2)\")\n",
    "    Pacf(y3, lag.max = 12, main=\"PACF|  ARMA(2,2)\")"
   ]
  },
  {
   "cell_type": "markdown",
   "metadata": {},
   "source": [
    "## -> we cannot estimate ARMA using OLS, but AR we can... the ARMA we cannot since there is an error from the previous period and we do not have means to obtain it or so..."
   ]
  },
  {
   "cell_type": "markdown",
   "metadata": {
    "heading_collapsed": "true"
   },
   "source": [
    "# 2. Fitting ARIMA model: Empirical example with CZK/EUR exchange rate\n",
    "<a id='FittingARIMAmodelEmpiricalexample'></a>  \n",
    "\n",
    "Let’s work with real data now, and estimate an ARIMA model.\n",
    "\n",
    "We will try to model CZK/EUR exchange rate which we investigated during the previous seminar"
   ]
  },
  {
   "cell_type": "code",
   "execution_count": 5,
   "metadata": {
    "vscode": {
     "languageId": "r"
    }
   },
   "outputs": [
    {
     "data": {
      "text/plain": [
       "\n",
       "\tAugmented Dickey-Fuller Test\n",
       "\n",
       "data:  data\n",
       "Dickey-Fuller = -1.8056, Lag order = 1, p-value = 0.6581\n",
       "alternative hypothesis: stationary\n"
      ]
     },
     "metadata": {},
     "output_type": "display_data"
    },
    {
     "data": {
      "image/png": "[encoded data removed]",
      "text/plain": [
       "Plot with title \"CZK/EUR exchange rate\""
      ]
     },
     "metadata": {},
     "output_type": "display_data"
    }
   ],
   "source": [
    "rm(list = ls())\n",
    "options(repr.plot.width=8, repr.plot.height=3)\n",
    "#Import Data\n",
    "    data <- read.table(\"CZK_EUR_2008.txt\")$V1\n",
    "#Plot\n",
    "    plot.ts(data, main='CZK/EUR exchange rate')\n",
    "#Dickey-Fuller test for stationarity \n",
    "    adf.test(data, k = 1)"
   ]
  },
  {
   "cell_type": "markdown",
   "metadata": {},
   "source": [
    "According to the ADF test, data are not stationary. As it is common in finance applications, let's compute the log returns"
   ]
  },
  {
   "cell_type": "code",
   "execution_count": 6,
   "metadata": {
    "vscode": {
     "languageId": "r"
    }
   },
   "outputs": [
    {
     "name": "stderr",
     "output_type": "stream",
     "text": [
      "Warning message in adf.test(returns, k = 1):\n",
      "\"p-value smaller than printed p-value\""
     ]
    },
    {
     "data": {
      "text/plain": [
       "\n",
       "\tAugmented Dickey-Fuller Test\n",
       "\n",
       "data:  returns\n",
       "Dickey-Fuller = -11.627, Lag order = 1, p-value = 0.01\n",
       "alternative hypothesis: stationary\n"
      ]
     },
     "metadata": {},
     "output_type": "display_data"
    },
    {
     "data": {
      "image/png": "[encoded data removed]",
      "text/plain": [
       "Plot with title \"Log returns from CZK/EUR exchange rate\""
      ]
     },
     "metadata": {},
     "output_type": "display_data"
    },
    {
     "data": {
      "image/png": "[encoded data removed]",
      "text/plain": [
       "Plot with title \"PACF\""
      ]
     },
     "metadata": {},
     "output_type": "display_data"
    }
   ],
   "source": [
    "#Stationarize Data     \n",
    "    returns <- diff(log(data))\n",
    "#Plot\n",
    "    plot.ts(returns, main='Log returns from CZK/EUR exchange rate')\n",
    "#Dickey-Fuller test for stationarity \n",
    "    adf.test(returns, k = 1)\n",
    "#ACF/PACF \n",
    "par(mfrow=c(1,2))\n",
    "    Acf(returns, lag.max = 12, main=\"ACF\")\n",
    "    Pacf(returns, lag.max = 12, main=\"PACF\")"
   ]
  },
  {
   "cell_type": "markdown",
   "metadata": {},
   "source": [
    "**Which model to choose?**\n",
    "**According to the ACF and PACF plots, the data look like an AR(1) process.**\n",
    "- auto.arima selects the model with lowest criteria and can help us decide on the best model for our data. \n"
   ]
  },
  {
   "cell_type": "code",
   "execution_count": 7,
   "metadata": {
    "vscode": {
     "languageId": "r"
    }
   },
   "outputs": [
    {
     "data": {
      "text/plain": [
       "Series: returns \n",
       "ARIMA(1,0,0) with non-zero mean \n",
       "\n",
       "Coefficients:\n",
       "         ar1    mean\n",
       "      0.1383  -3e-04\n",
       "s.e.  0.0580   2e-04\n",
       "\n",
       "sigma^2 estimated as 8.5e-06:  log likelihood=1286.86\n",
       "AIC=-2567.71   AICc=-2567.63   BIC=-2556.69"
      ]
     },
     "metadata": {},
     "output_type": "display_data"
    }
   ],
   "source": [
    "#Model fitting  - automatic selection of lags (here using AICc criterion)\n",
    "    (fit.auto <- auto.arima(returns, seasonal = FALSE, stationary = TRUE, ic = 'aicc', stepwise = FALSE))"
   ]
  },
  {
   "cell_type": "code",
   "execution_count": null,
   "metadata": {
    "vscode": {
     "languageId": "r"
    }
   },
   "outputs": [],
   "source": []
  },
  {
   "cell_type": "markdown",
   "metadata": {},
   "source": [
    "**Let's check the residuals. Let's investigate whether there is some dependency left in them:**"
   ]
  },
  {
   "cell_type": "code",
   "execution_count": 8,
   "metadata": {
    "vscode": {
     "languageId": "r"
    }
   },
   "outputs": [
    {
     "data": {
      "text/html": [
       "<dl class=dl-horizontal>\n",
       "\t<dt>ar1</dt>\n",
       "\t\t<dd>0.0171482735759863</dd>\n",
       "\t<dt>intercept</dt>\n",
       "\t\t<dd>0.114096666425633</dd>\n",
       "</dl>\n"
      ],
      "text/latex": [
       "\\begin{description*}\n",
       "\\item[ar1] 0.0171482735759863\n",
       "\\item[intercept] 0.114096666425633\n",
       "\\end{description*}\n"
      ],
      "text/markdown": [
       "ar1\n",
       ":   0.0171482735759863intercept\n",
       ":   0.114096666425633\n",
       "\n"
      ],
      "text/plain": [
       "       ar1  intercept \n",
       "0.01714827 0.11409667 "
      ]
     },
     "metadata": {},
     "output_type": "display_data"
    },
    {
     "data": {
      "image/png": "[encoded data removed]",
      "text/plain": [
       "Plot with title \"PACF of residuals\""
      ]
     },
     "metadata": {},
     "output_type": "display_data"
    }
   ],
   "source": [
    "# manual fit (of the same model as selected by auto arima)\n",
    "fit.manual <- arima(returns, order = c(1, 0, 0))\n",
    "(1-pnorm(abs(fit.manual$coef)/sqrt(diag(fit.manual$var.coef))))*2 # calculate p-values for estimates\n",
    "\n",
    "# check acf and pacf of residuals\n",
    "par(mfrow = c(1,2))\n",
    "    Acf(fit.manual$residuals, main = \"ACF of residuals\")\n",
    "    Pacf(fit.manual$residuals, main = \"PACF of residuals\")"
   ]
  },
  {
   "cell_type": "markdown",
   "metadata": {},
   "source": [
    "**The Ljung-Box test is used to check if there exists autocorrelation in a time series.** \n",
    "\n",
    "The null hypothesis of the Box Ljung Test, $H_0$, is that our model does not show lack of fit (or in simple terms—the model is just fine). The alternate hypothesis, $H_a$, is just that the model does show a lack of fit. A significant $p$-value$ in this test rejects the null hypothesis that the time series isn't autocorrelated.\n",
    "\n",
    "$H_0:$ no residual autocorrelation - model sufficiently explains the autocorrelation in the time series, model does **not** show lack of fit \n",
    "\n",
    "$H_a$: there is residual autocorrelation - consider different model with more lags (or if there is heteroskedasticity consider GARCH model)"
   ]
  },
  {
   "cell_type": "code",
   "execution_count": 9,
   "metadata": {
    "vscode": {
     "languageId": "r"
    }
   },
   "outputs": [
    {
     "data": {
      "text/plain": [
       "\n",
       "\tBox-Ljung test\n",
       "\n",
       "data:  fit.manual$residuals\n",
       "X-squared = 17.182, df = 20, p-value = 0.6411\n"
      ]
     },
     "metadata": {},
     "output_type": "display_data"
    }
   ],
   "source": [
    "#The Ljung-Box test\n",
    "    Box.test(fit.manual$residuals,  lag = 20, type = c(\"Ljung-Box\"))"
   ]
  },
  {
   "cell_type": "markdown",
   "metadata": {},
   "source": [
    "**Looks like there is nothing left. Residuals should be thus Gaussian white noise. Let's check the Gaussianity assumption.**"
   ]
  },
  {
   "cell_type": "code",
   "execution_count": 10,
   "metadata": {
    "vscode": {
     "languageId": "r"
    }
   },
   "outputs": [
    {
     "data": {
      "image/png": "[encoded data removed]",
      "text/plain": [
       "Plot with title \"Histogram\""
      ]
     },
     "metadata": {},
     "output_type": "display_data"
    }
   ],
   "source": [
    "#store residuals in a vector\n",
    "    residuals <- fit.manual$residuals\n",
    "#normalize residuals \n",
    "    residuals.norm <- residuals/sqrt(fit.manual$sigma2)\n",
    "#Plot the histogram\n",
    "    hist(residuals.norm, prob = TRUE, breaks=40, xlab = \"Normalized residuals\", main=\"Histogram\")\n",
    "    curve(dnorm(x, mean = 0, sd = 1), col=\"blue\", lwd=1, add=TRUE)"
   ]
  },
  {
   "cell_type": "markdown",
   "metadata": {},
   "source": [
    "**Let's check formally using Jarque-Bera test**\n",
    "\n",
    "\n",
    "\n",
    "The Jarque-Bera test is a goodness-of-fit test that determines whether or not sample data have skewness and kurtosis that matches a normal distribution. IT tests the null of **normality** for $y$ using the Jarque-Bera test statistic. (H0: standardized residuals have skewness of 0 and kurtosis of 3)\n",
    "\n",
    "Under the null hypothesis of normality, JB  ~ $X^2(2)$"
   ]
  },
  {
   "cell_type": "code",
   "execution_count": 11,
   "metadata": {
    "vscode": {
     "languageId": "r"
    }
   },
   "outputs": [
    {
     "data": {
      "text/plain": [
       "\n",
       "\tJarque Bera Test\n",
       "\n",
       "data:  residuals\n",
       "X-squared = 120.84, df = 2, p-value < 2.2e-16\n"
      ]
     },
     "metadata": {},
     "output_type": "display_data"
    }
   ],
   "source": [
    "jarque.bera.test(residuals)"
   ]
  },
  {
   "cell_type": "markdown",
   "metadata": {},
   "source": [
    "**Jarque-Bera test - we reject the null hypothesis of normality.**\n",
    "\n",
    "--------------------------------------------------\n",
    "\n",
    "**It may be useful to model the second moment?**"
   ]
  },
  {
   "cell_type": "code",
   "execution_count": 12,
   "metadata": {
    "vscode": {
     "languageId": "r"
    }
   },
   "outputs": [
    {
     "data": {
      "image/png": "[encoded data removed]",
      "text/plain": [
       "plot without title"
      ]
     },
     "metadata": {},
     "output_type": "display_data"
    },
    {
     "data": {
      "image/png": "[encoded data removed]",
      "text/plain": [
       "Plot with title \"PACF residuals.sqrd\""
      ]
     },
     "metadata": {},
     "output_type": "display_data"
    }
   ],
   "source": [
    "    residuals.sqrd <- residuals^2\n",
    "    plot.ts(residuals.sqrd, ylab = \"Squared residuals\")\n",
    "\n",
    "par(mfrow=c(1,2))\n",
    "    Acf(residuals.sqrd, lag.max = 12, main=\"ACF residuals.sqrd\")\n",
    "    Pacf(residuals.sqrd, lag.max = 12, main=\"PACF residuals.sqrd\")"
   ]
  },
  {
   "cell_type": "markdown",
   "metadata": {},
   "source": [
    "Dependence in the squared residuals suggests that there is some serial structure in the second moment of the series. Solution: **volatility models (GARCH type of models, etc.)**, which will be covered in the next seminar."
   ]
  },
  {
   "cell_type": "markdown",
   "metadata": {},
   "source": [
    "**Let's compare the precision of our model**"
   ]
  },
  {
   "cell_type": "code",
   "execution_count": 13,
   "metadata": {
    "vscode": {
     "languageId": "r"
    }
   },
   "outputs": [
    {
     "data": {
      "image/png": "[encoded data removed]",
      "text/plain": [
       "plot without title"
      ]
     },
     "metadata": {},
     "output_type": "display_data"
    }
   ],
   "source": [
    "# returns vs fitted values\n",
    "    plot.ts(returns)\n",
    "    lines(fitted(fit.manual), col = \"red\")"
   ]
  },
  {
   "cell_type": "markdown",
   "metadata": {},
   "source": [
    "**Let's try to forecast the future values using our model**"
   ]
  },
  {
   "cell_type": "code",
   "execution_count": 14,
   "metadata": {
    "vscode": {
     "languageId": "r"
    }
   },
   "outputs": [
    {
     "data": {
      "text/plain": [
       "    Point Forecast        Lo 80       Hi 80        Lo 95       Hi 95\n",
       "292  -0.0001424450 -0.003865954 0.003581064 -0.005837061 0.005552171\n",
       "293  -0.0003002595 -0.004059207 0.003458688 -0.006049074 0.005448555\n",
       "294  -0.0003220844 -0.004081707 0.003437538 -0.006071930 0.005427761\n",
       "295  -0.0003251027 -0.004084738 0.003434532 -0.006074968 0.005424763\n",
       "296  -0.0003255201 -0.004085155 0.003434115 -0.006075386 0.005424346"
      ]
     },
     "metadata": {},
     "output_type": "display_data"
    }
   ],
   "source": [
    "forecast(fit.manual, h=5)\n",
    "# because we have ar(1) model, only the previous observation + estimated coefficients are used to calculate the forecast\n",
    "# forecast quickly gets to the mean of the time series"
   ]
  },
  {
   "cell_type": "code",
   "execution_count": 15,
   "metadata": {
    "vscode": {
     "languageId": "r"
    }
   },
   "outputs": [
    {
     "data": {
      "image/png": "[encoded data removed]",
      "text/plain": [
       "Plot with title \"Forecasts from ARIMA(1,0,0) with non-zero mean\""
      ]
     },
     "metadata": {},
     "output_type": "display_data"
    }
   ],
   "source": [
    "fcast <- forecast(fit.manual, h=10)\n",
    "plot(fcast)"
   ]
  },
  {
   "cell_type": "markdown",
   "metadata": {},
   "source": [
    "# 3. Fitting ARMA model  - simulated example with non-stationary data + example of overfitting\n",
    "<a id='FittingARMAmodel'></a>   \n"
   ]
  },
  {
   "cell_type": "markdown",
   "metadata": {
    "heading_collapsed": "true"
   },
   "source": [
    "#### 3.1. ARIMA(p,d,q) - order of integration selection\n",
    "\n",
    "- if we know our series is stationary, we can restrict auto.arima by setting stationary=TRUE\n",
    "- we can use auto.arima even if our data is not stationary and it will difference data as needed. However, if we want to work with log returns we have to transform the data before estimation.\n",
    "\n"
   ]
  },
  {
   "cell_type": "code",
   "execution_count": 16,
   "metadata": {
    "vscode": {
     "languageId": "r"
    }
   },
   "outputs": [
    {
     "data": {
      "text/plain": [
       "\n",
       "\tAugmented Dickey-Fuller Test\n",
       "\n",
       "data:  r\n",
       "Dickey-Fuller = -2.4571, Lag order = 5, p-value = 0.3846\n",
       "alternative hypothesis: stationary\n"
      ]
     },
     "metadata": {},
     "output_type": "display_data"
    },
    {
     "data": {
      "text/plain": [
       "Series: r \n",
       "ARIMA(1,1,0) \n",
       "\n",
       "Coefficients:\n",
       "         ar1\n",
       "      0.7723\n",
       "s.e.  0.0454\n",
       "\n",
       "sigma^2 estimated as 1.081:  log likelihood=-291.57\n",
       "AIC=587.13   AICc=587.2   BIC=593.73"
      ]
     },
     "metadata": {},
     "output_type": "display_data"
    }
   ],
   "source": [
    "set.seed(111)\n",
    "r <- arima.sim(list(order = c(1,1,0), ar = 0.7), n = 200) #generate nonstationary process, after differencing it is ar(1)\n",
    "tseries::adf.test(r)\n",
    "auto.arima(r, ic='bic')"
   ]
  },
  {
   "cell_type": "markdown",
   "metadata": {
    "heading_collapsed": "true"
   },
   "source": [
    "#### 3.2. Overfitting example:\n",
    "\n",
    "- if we fit ARMA(p,q) with too high p,q\n",
    "- In some cases, the information criteria can suggest an overfitted model (can be because of heteroskedasticity, but not necessarily).\n",
    "- Usually, this happens more often with AIC than with BIC criterion"
   ]
  },
  {
   "cell_type": "code",
   "execution_count": 17,
   "metadata": {
    "vscode": {
     "languageId": "r"
    }
   },
   "outputs": [
    {
     "data": {
      "image/png": "[encoded data removed]",
      "text/plain": [
       "plot without title"
      ]
     },
     "metadata": {},
     "output_type": "display_data"
    },
    {
     "data": {
      "image/png": "[encoded data removed]",
      "text/plain": [
       "Plot with title \"PACF\""
      ]
     },
     "metadata": {},
     "output_type": "display_data"
    }
   ],
   "source": [
    "rm(list = ls())\n",
    "set.seed(345)\n",
    "#Series\n",
    "    y0 <- arima.sim(model = list(ar = c(0.25)), n = 1000)\n",
    "#Plot\n",
    "    ts.plot(y0,ylab='')\n",
    "#ACF/PACF\n",
    "par(mfrow=c(1,2))\n",
    "    Acf(y0, lag.max = 12, main=\"ACF\")\n",
    "    Pacf(y0, lag.max = 12, main=\"PACF\")"
   ]
  },
  {
   "cell_type": "code",
   "execution_count": 18,
   "metadata": {
    "vscode": {
     "languageId": "r"
    }
   },
   "outputs": [
    {
     "data": {
      "text/plain": [
       "Series: y0 \n",
       "ARIMA(2,0,1) with zero mean \n",
       "\n",
       "Coefficients:\n",
       "         ar1      ar2      ma1\n",
       "      0.5385  -0.1086  -0.3021\n",
       "s.e.  0.4364   0.0990   0.4374\n",
       "\n",
       "sigma^2 estimated as 1.048:  log likelihood=-1441.04\n",
       "AIC=2890.08   AICc=2890.12   BIC=2909.71"
      ]
     },
     "metadata": {},
     "output_type": "display_data"
    }
   ],
   "source": [
    "# automatic selection of orders based on information criteria using AIC (same model selected for AICc)\n",
    "# only the ar1 coefficient is statistically significant. Coefficients cancel each other, the ar1 coefficient is substantially higher than the true value.\n",
    "auto.arima(y0, ic='aic')"
   ]
  },
  {
   "cell_type": "code",
   "execution_count": 19,
   "metadata": {
    "vscode": {
     "languageId": "r"
    }
   },
   "outputs": [
    {
     "data": {
      "text/plain": [
       "Series: y0 \n",
       "ARIMA(5,0,0) with zero mean \n",
       "\n",
       "Coefficients:\n",
       "         ar1      ar2      ar3     ar4     ar5\n",
       "      0.2349  -0.0269  -0.0378  0.0162  0.0312\n",
       "s.e.  0.0316   0.0325   0.0326  0.0326  0.0319\n",
       "\n",
       "sigma^2 estimated as 1.048:  log likelihood=-1439.95\n",
       "AIC=2891.91   AICc=2891.99   BIC=2921.36"
      ]
     },
     "metadata": {},
     "output_type": "display_data"
    }
   ],
   "source": [
    "# Depending on parameters used in auto.arima function, we can get even more overfitted models:\n",
    "# here we include stepwise=FALSE, which allows searching through more models + AIC criterion. \n",
    "# According to the automatized procedure, the ARMA(5,0) model is the best fit. However, if you look at the estimated coefficients, only the first lag is significant. \n",
    "auto.arima(y0, seasonal = FALSE, ic = 'aic', stationary = TRUE, stepwise=FALSE) # you can use stepwise = false -- searching over more possible models, slower"
   ]
  },
  {
   "cell_type": "code",
   "execution_count": 20,
   "metadata": {
    "vscode": {
     "languageId": "r"
    }
   },
   "outputs": [
    {
     "data": {
      "text/plain": [
       "Series: y0 \n",
       "ARIMA(1,0,0) with zero mean \n",
       "\n",
       "Coefficients:\n",
       "         ar1\n",
       "      0.2277\n",
       "s.e.  0.0308\n",
       "\n",
       "sigma^2 estimated as 1.048:  log likelihood=-1441.91\n",
       "AIC=2887.83   AICc=2887.84   BIC=2897.64"
      ]
     },
     "metadata": {},
     "output_type": "display_data"
    }
   ],
   "source": [
    "# using BIC instead of AIC: (higher penalty for more parameters)\n",
    "# AR(1) selected, compare the coefficient from this model to models above.\n",
    "auto.arima(y0, seasonal = FALSE, ic = 'bic', stationary = TRUE, stepwise=FALSE) # you can use stepwise = false -- searching over more possible models, slower"
   ]
  },
  {
   "cell_type": "code",
   "execution_count": 21,
   "metadata": {
    "vscode": {
     "languageId": "r"
    }
   },
   "outputs": [
    {
     "data": {
      "text/plain": [
       "\n",
       "Call:\n",
       "arima(x = y0, order = c(1, 0, 0))\n",
       "\n",
       "Coefficients:\n",
       "         ar1  intercept\n",
       "      0.2276     0.0047\n",
       "s.e.  0.0308     0.0419\n",
       "\n",
       "sigma^2 estimated as 1.047:  log likelihood = -1441.91,  aic = 2889.81"
      ]
     },
     "metadata": {},
     "output_type": "display_data"
    },
    {
     "data": {
      "text/plain": [
       "\n",
       "Call:\n",
       "arima(x = y0, order = c(2, 0, 0))\n",
       "\n",
       "Coefficients:\n",
       "         ar1      ar2  intercept\n",
       "      0.2360  -0.0365     0.0047\n",
       "s.e.  0.0316   0.0317     0.0404\n",
       "\n",
       "sigma^2 estimated as 1.046:  log likelihood = -1441.24,  aic = 2890.49"
      ]
     },
     "metadata": {},
     "output_type": "display_data"
    },
    {
     "name": "stderr",
     "output_type": "stream",
     "text": [
      "Warning message in arima(y0, order = c(2, 0, 1)):\n",
      "\"possible convergence problem: optim gave code = 1\""
     ]
    },
    {
     "data": {
      "text/plain": [
       "\n",
       "Call:\n",
       "arima(x = y0, order = c(2, 0, 1))\n",
       "\n",
       "Coefficients:\n",
       "         ar1      ar2      ma1  intercept\n",
       "      0.6091  -0.1234  -0.3716     0.0061\n",
       "s.e.  0.5197   0.1107   0.5226     0.0395\n",
       "\n",
       "sigma^2 estimated as 1.045:  log likelihood = -1441.05,  aic = 2892.1"
      ]
     },
     "metadata": {},
     "output_type": "display_data"
    }
   ],
   "source": [
    "#Model fitting - manually\n",
    "arima(y0, order = c(1, 0, 0))\n",
    "\n",
    "arima(y0, order = c(2, 0, 0))\n",
    "arima(y0, order = c(2, 0, 1)) # convergence problem - this model should not be used\n",
    "\n",
    "\n",
    "#(1-pnorm(abs(model$coef)/sqrt(diag(model$var.coef))))*2 # calculate p value for estimates"
   ]
  },
  {
   "cell_type": "code",
   "execution_count": null,
   "metadata": {
    "vscode": {
     "languageId": "r"
    }
   },
   "outputs": [],
   "source": []
  },
  {
   "cell_type": "code",
   "execution_count": 22,
   "metadata": {
    "vscode": {
     "languageId": "r"
    }
   },
   "outputs": [
    {
     "name": "stderr",
     "output_type": "stream",
     "text": [
      "Warning message in arima(y0, order = c(2, 0, 1)):\n",
      "\"possible convergence problem: optim gave code = 1\""
     ]
    },
    {
     "data": {
      "text/html": [
       "1.71371081099642"
      ],
      "text/latex": [
       "1.71371081099642"
      ],
      "text/markdown": [
       "1.71371081099642"
      ],
      "text/plain": [
       "[1] 1.713711"
      ]
     },
     "metadata": {},
     "output_type": "display_data"
    },
    {
     "data": {
      "text/html": [
       "0.424494849883699"
      ],
      "text/latex": [
       "0.424494849883699"
      ],
      "text/markdown": [
       "0.424494849883699"
      ],
      "text/plain": [
       "[1] 0.4244948"
      ]
     },
     "metadata": {},
     "output_type": "display_data"
    }
   ],
   "source": [
    "# if we want to compare two NESTED models, we can also use likelihood ratio test - LR test\n",
    "# this allows formally testing, while with information criteria we can only compare numbers and select the highest\n",
    "\n",
    "# using log likelihood to calculate LR:\n",
    "#h0: restrictions hold - restricted model is better\n",
    "#h1: unrestricted model better\n",
    "\n",
    "restricted_model = arima(y0, order = c(1, 0, 0))\n",
    "unrestricted_model = arima(y0, order = c(2, 0, 1))\n",
    "df = 2 # number of restrictions in the restricted model compared to unrestricted one\n",
    "\n",
    "lrstat <- 2*(unrestricted_model$loglik - restricted_model$loglik)\n",
    "lrstat\n",
    "# getting p-value \n",
    "pchisq(lrstat, df = df, lower.tail = F) \n",
    "\n",
    "# alternatively using lrtest function\n",
    "#library(lmtest)\n",
    "#lrtest(unrestricted_model, restricted_model)\n",
    "\n",
    "# conclusion - p-value of 0.42 -> we cannot reject the null that restriction is valid (restricted model is better)"
   ]
  },
  {
   "cell_type": "markdown",
   "metadata": {},
   "source": [
    "# 4. Exercise\n",
    "<a id='exercise'></a>  \n",
    "- you are provided with a simulated dataset (`ARMA_data.csv`). \n",
    "- apply Box-Jenkins approach and estimate the ARMA model\n",
    "  - identify\n",
    "  - estimate\n",
    "  - validate"
   ]
  },
  {
   "cell_type": "code",
   "execution_count": 23,
   "metadata": {
    "vscode": {
     "languageId": "r"
    }
   },
   "outputs": [
    {
     "data": {
      "text/html": [
       "<ol class=list-inline>\n",
       "\t<li>-0.741114531290767</li>\n",
       "\t<li>0.867437263419707</li>\n",
       "\t<li>1.07915607914733</li>\n",
       "\t<li>2.17387087251596</li>\n",
       "\t<li>1.94938736315351</li>\n",
       "\t<li>-1.56069325785155</li>\n",
       "</ol>\n"
      ],
      "text/latex": [
       "\\begin{enumerate*}\n",
       "\\item -0.741114531290767\n",
       "\\item 0.867437263419707\n",
       "\\item 1.07915607914733\n",
       "\\item 2.17387087251596\n",
       "\\item 1.94938736315351\n",
       "\\item -1.56069325785155\n",
       "\\end{enumerate*}\n"
      ],
      "text/markdown": [
       "1. -0.741114531290767\n",
       "2. 0.867437263419707\n",
       "3. 1.07915607914733\n",
       "4. 2.17387087251596\n",
       "5. 1.94938736315351\n",
       "6. -1.56069325785155\n",
       "\n",
       "\n"
      ],
      "text/plain": [
       "[1] -0.7411145  0.8674373  1.0791561  2.1738709  1.9493874 -1.5606933"
      ]
     },
     "metadata": {},
     "output_type": "display_data"
    }
   ],
   "source": [
    "library('tseries')   #Time Series Analysis and Computational Finance \n",
    "library('forecast') #Forecasting Functions for Time Series and Linear Models \n",
    "library('repr') #Serializable Representations \n",
    "\n",
    "md = read.table(\n",
    "    'ARMA_data.csv', # relative path to csv file.\n",
    "    header = TRUE, sep = ',', skip=0)\n",
    "series = md[['x']]\n",
    "head(series)"
   ]
  },
  {
   "cell_type": "code",
   "execution_count": null,
   "metadata": {
    "vscode": {
     "languageId": "r"
    }
   },
   "outputs": [],
   "source": []
  },
  {
   "cell_type": "code",
   "execution_count": null,
   "metadata": {
    "vscode": {
     "languageId": "r"
    }
   },
   "outputs": [],
   "source": []
  },
  {
   "cell_type": "code",
   "execution_count": null,
   "metadata": {
    "vscode": {
     "languageId": "r"
    }
   },
   "outputs": [],
   "source": []
  },
  {
   "cell_type": "code",
   "execution_count": null,
   "metadata": {
    "vscode": {
     "languageId": "r"
    }
   },
   "outputs": [],
   "source": []
  },
  {
   "cell_type": "code",
   "execution_count": null,
   "metadata": {
    "vscode": {
     "languageId": "r"
    }
   },
   "outputs": [],
   "source": []
  },
  {
   "cell_type": "code",
   "execution_count": null,
   "metadata": {
    "vscode": {
     "languageId": "r"
    }
   },
   "outputs": [],
   "source": []
  },
  {
   "cell_type": "markdown",
   "metadata": {
    "heading_collapsed": "true"
   },
   "source": [
    "# 5. Autoregressive fractionally integrated moving average (ARFIMA) processes\n",
    "<a id='ARFIMAprocesses'></a>  \n",
    "\n"
   ]
  },
  {
   "cell_type": "markdown",
   "metadata": {},
   "source": [
    "- In estimating an ARIMA model, the researcher chooses the integer order of differencing $d$ to ensure that the resulting series $(1 - L)^d y_t$ is a stationary process.\n",
    "\n",
    "- As unit root tests often lack the power to distinguish between a truly nonstationary ($I(1)$) series and a stationary series embodying a structural break or shift, time series are often first-differenced if they do not receive a clean bill of health from unit root testing.\n",
    "\n",
    "- Many time series exhibit too much _long-range dependence_ to be classified as I(0) but are not I(1). **The ARFIMA model is designed to represent these series.**\n",
    "\n",
    "-------------------------\n",
    "\n",
    "Series is said to be $ARIMA(p,1,q)$, when the process $y_t−y_{t−1}=(1−B)^1 y_t$ follows a stationary and invertible $ARMA(p,q)$. Parameter $d$ is equal to 1 which means that $ARMA(p,q)$ series is differenced once. $ARFIMA$ generalizes $ARIMA$ by allowing $d$ to assume any real value.\n",
    "\n",
    "----------------\n",
    "**Definition**: Let $y_t$ be a stationary process such that\n",
    "\n",
    "$$\n",
    "(1 - L)^d y_t\n",
    "$$\n",
    "\n",
    "follows $ARMA(p,q)$ for some $−1/2<d<1/2$. Then $y_t$ is called a fractional $ARIMA(p,d,q)$ process.\n",
    "\n",
    "-----------------\n",
    "\n",
    "Let’s look at the fractional element of the model:\n",
    "\n",
    "$$\n",
    "(1 - L)^d = \\sum_{k=0}^{\\infty} \\binom{d}{k} (-1)^k L^k,\n",
    "$$\n",
    "\n",
    "and\n",
    "\n",
    "$$\n",
    "\\binom{d}{k} = \\frac{d!}{k!(d-k)!} = \\frac{\\Gamma (d+1)}{\\Gamma (k+1) \\Gamma (d-k+1)}\n",
    "$$\n",
    "\n",
    "where $\\Gamma$ is the gamma function.\n",
    "\n",
    "**ARFIMA process is stationary and invertible if $d$ is from interval (0, 0.5).**\n",
    "\n",
    "additional info, explanation: https://github.com/diffent/fracdiff/blob/master/freqrespfracdiff.pdf"
   ]
  },
  {
   "cell_type": "code",
   "execution_count": 24,
   "metadata": {
    "vscode": {
     "languageId": "r"
    }
   },
   "outputs": [
    {
     "data": {
      "image/png": "[encoded data removed]",
      "text/plain": [
       "Plot with title \"Autocorrelations of short memory\""
      ]
     },
     "metadata": {},
     "output_type": "display_data"
    }
   ],
   "source": [
    "rm(list = ls())\n",
    "options(repr.plot.width=8, repr.plot.height=5)\n",
    "# ARFIMA(0.5,0.4,0.0)\n",
    "    psi <- 0.5\n",
    "    dd <- 0.4\n",
    "# ARFIMA with coefficient psi and difference dd \n",
    "    y1 <- fracdiff.sim(n = 1000, ar = psi, ma = 0.0, d=0.4) \n",
    "# ARIMA(1,0,0) with coefficient psi \n",
    "    y2 <- arima.sim(model = list(ar = psi), n = 1000) \n",
    "# Graphics\n",
    "par(mfrow = c(2,2))\n",
    "    plot.ts(y1$series, main='Time series plot of long memory', ylab='')\n",
    "    Acf(y1$series, lag.max = 50, main='Autocorrelations of long memory')\n",
    "    plot.ts(y2, main='Time series plot of short memory', ylab='')\n",
    "    Acf(y2, lag.max = 50, main='Autocorrelations of short memory')"
   ]
  },
  {
   "cell_type": "code",
   "execution_count": 25,
   "metadata": {
    "vscode": {
     "languageId": "r"
    }
   },
   "outputs": [
    {
     "data": {
      "text/plain": [
       "\n",
       "Call:\n",
       "  fracdiff(x = y1$series, nar = 1) \n",
       "\n",
       "Coefficients:\n",
       "   Estimate Std. Error z value Pr(>|z|)    \n",
       "d  0.310338   0.009073   34.21   <2e-16 ***\n",
       "ar 0.560463   0.027625   20.29   <2e-16 ***\n",
       "---\n",
       "Signif. codes:  0 '***' 0.001 '**' 0.01 '*' 0.05 '.' 0.1 ' ' 1\n",
       "sigma[eps] = 0.9561559 \n",
       "[d.tol = 0.0001221, M = 100, h = 1.449e-05]\n",
       "Log likelihood: -1374 ==> AIC = 2754.904 [3 deg.freedom]"
      ]
     },
     "metadata": {},
     "output_type": "display_data"
    }
   ],
   "source": [
    "#estimating ARFIMA series simulated above: \n",
    "    summary(fracdiff(y1$series, nar = 1))"
   ]
  },
  {
   "cell_type": "markdown",
   "metadata": {},
   "source": [
    "# Appendix \n",
    "<a id='Appendix'></a>"
   ]
  },
  {
   "cell_type": "markdown",
   "metadata": {},
   "source": [
    "<a id='BuildingARMAmodels'></a>\n",
    "\n",
    "*Optional Read -- part from the book, for more please refer to the textbook:* \n",
    "## Building ARMA models: the Box–Jenkins approach\n",
    "\n",
    "Although the existence of ARMA models predates them, Box and Jenkins (1976) were the first to approach the task of estimating an ARMA model in a systematic manner. Their approach was a practical and pragmatic one, involving three steps:\n",
    "\n",
    "1. Identification \n",
    "2. Estimation\n",
    "3. Diagnostic checking\n",
    "\n",
    "These steps are now explained in greater detail.\n",
    "\n",
    "###### Step 1\n",
    "\n",
    "This involves determining the order of the model required to capture the dynamic features of the data. Graphical procedures are used (plotting the data over time and plotting the acf and pacf) to determine the most appropriate specification.\n",
    "\n",
    "###### Step 2\n",
    "\n",
    "This involves estimation of the parameters of the model specified in step 1. This can be done using least squares or another technique, known as maximum likelihood, depending on the model.\n",
    "\n",
    "###### Step 3\n",
    "\n",
    "This involves model checking -- i.e. determining whether the model specified and estimated is adequate. Box and Jenkins suggest two methods: **overfitting** and **residual** diagnostics. \n",
    "- Overfitting involves deliberately fitting a larger model than that required to capture the dynamics of the data as identified in stage 1. If the model specified at step 1 is adequate, any extra terms added to the ARMA model would be insignificant. \n",
    "   \n",
    "- Residual diagnostics imply checking the residuals for evidence of linear dependence which, if present, would suggest that the model originally specified was inadequate to capture the features of the data. The acf, pacf or Ljung--Box tests could be used.\n",
    "\n",
    "**Overfittion vs residual diagnostics:** \n",
    "\n",
    "It is worth noting that ‘diagnostic testing’ in the Box--Jenkins world essentially involves only autocorrelation tests rather than the whole barrage of tests outlined in chapter 4. Also, such approaches to determining the adequacy of the model could only reveal a model that is underparameterised (‘too small’) and would not reveal a model that is overparameterised (‘too big’).\n",
    "\n",
    "Examining whether the residuals are free from autocorrelation is much more commonly used than overfitting, and this may partly have arisen since for ARMA models, it can give rise to common factors in the overfitted model that make estimation of this model difficult and the statistical tests ill behaved. For example, if the true model is an ARMA(1,1) and we deliberately then fit an ARMA(2,2) there will be a common factor so that not all of the parameters in the latter model can be identified. This problem does not arise with pure AR or MA models, only with mixed processes.\n",
    "\n",
    "**Parsimonious model$^1$:**\n",
    "\n",
    "It is usually the objective to form a parsimonious model, which is one that describes all of the features of data of interest using as few parameters (i.e. as simple a model) as possible. A parsimonious model is desirable because:\n",
    "\n",
    "- The *residual sum of squares* is inversely proportional to the number of *degrees of freedom*. A model which contains irrelevant lags of the variable or of the error term (and therefore unnecessary parameters) will usually lead to increased *coefficient standard errors*, implying that it will be more difficult to find significant relationships in the data. Whether an increase in the number of variables (i.e. a reduction in the number of degrees of freedom) will actually cause the estimated parameter standard errors to rise or fall will obviously depend on how much the $RSS$ falls, and on the relative sizes of $T$ and $k$. If $T$ is very large relative to $k$, then the decrease in $RSS$ is likely to outweigh the reduction in $T − k$ so that the standard errors fall. Hence ‘large’ models with many parameters are more often chosen when the sample size is large.\n",
    "\n",
    "- Models that are profligate might be inclined to fit to data specific features, which would not be replicated out-of-sample. This means that the models may appear to fit the data very well, with perhaps a high value of $R^2$, but would give very inaccurate forecasts. Another interpretation of this concept, borrowed from physics, is that of the distinction between ‘signal’ and ‘noise’. The idea is to fit a model which captures the signal (the important features of the data, or the underlying trends or patterns), but which does not try to fit a spurious model to the noise (the completely random aspect of the series).\n",
    "\n",
    "#### 5.7.1 Information criteria for ARMA model selection\n",
    "\n",
    "The identification stage would now typically not be done using graphical plots of the acf and pacf. The reason is that when ‘messy’ real data is used, it unfortunately rarely exhibits the simple patterns of figures 5.2--5.8. This makes the acf and pacf very hard to interpret, and thus it is difficult to specify a model for the data. Another technique, which removes some of the subjectivity involved in interpreting the acf and pacf, is to use what are known as information criteria. Information criteria embody two factors: a term which is a function of the residual sum of squares (RSS), and some penalty for the loss of degrees of freedom from adding extra parameters. So, adding a new variable or an additional lag to a model will have two competing effects on the information criteria: the residual sum of squares will fall but the value of the penalty term will increase.\n",
    "\n",
    "The object is to choose the number of parameters which minimises the value of the information criteria. So, adding an extra term will reduce the value of the criteria only if the fall in the residual sum of squares is sufficient to more than outweigh the increased value of the penalty term. There are several different criteria, which vary according to how stiff the penalty term is. The three most popular information criteria are Akaike’s (1974) information criterion (**AIC**), Schwarz’s (1978) Bayesian information criterion (**SBIC**), and the Hannan--Quinn criterion (**HQIC**).\n",
    "\n",
    "It is worth noting that **SBIC** embodies a much stiffer penalty term than **AIC**, while **HQIC** is somewhere in between. The adjusted $R^2$ measure can also be viewed as an information criterion, although it is a very soft one, which would typically select the largest models of all.\n",
    "\n",
    "\n",
    "#### 5.7.2 Which criterion should be preferred if they suggest different model orders?\n",
    "\n",
    "**SBIC** is strongly consistent (but inefficient) and **AIC** is not consistent, but is generally more efficient. In other words, **SBIC** will asymptotically deliver the correct model order, while **AIC** will deliver on average too large a model, even with an infinite amount of data. On the other hand, the average variation in selected model orders from different samples within a given population will be greater in the context of **SBIC** than **AIC**. Overall, then, no criterion is definitely superior to others.\n",
    "\n",
    "============================================================================================== \n",
    "\n",
    "1. *Parsimonious models* -- https://www.statology.org/parsimonious-model/"
   ]
  },
  {
   "cell_type": "markdown",
   "metadata": {},
   "source": [
    "______________________________________\n",
    "______________________________________\n",
    "______________________________________"
   ]
  },
  {
   "cell_type": "markdown",
   "metadata": {},
   "source": [
    "**Short Time Series:**"
   ]
  },
  {
   "cell_type": "code",
   "execution_count": 26,
   "metadata": {
    "vscode": {
     "languageId": "r"
    }
   },
   "outputs": [
    {
     "data": {
      "text/html": [
       "24.3333333333333"
      ],
      "text/latex": [
       "24.3333333333333"
      ],
      "text/markdown": [
       "24.3333333333333"
      ],
      "text/plain": [
       "[1] 24.33333"
      ]
     },
     "metadata": {},
     "output_type": "display_data"
    }
   ],
   "source": [
    "data <- read.table(\"CZK_EUR_2008.txt\")$V1\n",
    "length(data)/12 "
   ]
  },
  {
   "cell_type": "code",
   "execution_count": 27,
   "metadata": {
    "vscode": {
     "languageId": "r"
    }
   },
   "outputs": [
    {
     "data": {
      "text/html": [
       "292"
      ],
      "text/latex": [
       "292"
      ],
      "text/markdown": [
       "292"
      ],
      "text/plain": [
       "[1] 292"
      ]
     },
     "metadata": {},
     "output_type": "display_data"
    }
   ],
   "source": [
    "length(data)\n"
   ]
  },
  {
   "cell_type": "code",
   "execution_count": 28,
   "metadata": {
    "vscode": {
     "languageId": "r"
    }
   },
   "outputs": [
    {
     "data": {
      "text/plain": [
       "\n",
       "\tAugmented Dickey-Fuller Test\n",
       "\n",
       "data:  data\n",
       "Dickey-Fuller = -1.8056, Lag order = 1, p-value = 0.6581\n",
       "alternative hypothesis: stationary\n"
      ]
     },
     "metadata": {},
     "output_type": "display_data"
    },
    {
     "data": {
      "image/png": "[encoded data removed]",
      "text/plain": [
       "plot without title"
      ]
     },
     "metadata": {},
     "output_type": "display_data"
    },
    {
     "data": {
      "text/plain": [
       "\n",
       "\tAugmented Dickey-Fuller Test\n",
       "\n",
       "data:  returns\n",
       "Dickey-Fuller = -3.5698, Lag order = 1, p-value = 0.03649\n",
       "alternative hypothesis: stationary\n"
      ]
     },
     "metadata": {},
     "output_type": "display_data"
    },
    {
     "data": {
      "image/png": "[encoded data removed]",
      "text/plain": [
       "plot without title"
      ]
     },
     "metadata": {},
     "output_type": "display_data"
    },
    {
     "data": {
      "text/plain": [
       "Series: returns \n",
       "ARIMA(1,0,4) with non-zero mean \n",
       "\n",
       "Coefficients:\n",
       "         ar1     ma1     ma2      ma3      ma4     mean\n",
       "      0.9751  0.1570  0.0435  -0.0263  -0.1744  -0.0087\n",
       "s.e.  0.0183  0.0653  0.0681   0.0647   0.0694   0.0085\n",
       "\n",
       "sigma^2 estimated as 1.578e-05:  log likelihood=1098.64\n",
       "AIC=-2183.27   AICc=-2182.84   BIC=-2158.16"
      ]
     },
     "metadata": {},
     "output_type": "display_data"
    },
    {
     "data": {
      "text/plain": [
       "\n",
       "Call:\n",
       "arima(x = returns, order = c(2, 0, 0))\n",
       "\n",
       "Coefficients:\n",
       "         ar1      ar2  intercept\n",
       "      1.1580  -0.1922    -0.0085\n",
       "s.e.  0.0602   0.0613     0.0066\n",
       "\n",
       "sigma^2 estimated as 1.581e-05:  log likelihood = 1095.46,  aic = -2182.91"
      ]
     },
     "metadata": {},
     "output_type": "display_data"
    },
    {
     "data": {
      "image/png": "[encoded data removed]",
      "text/plain": [
       "Plot with title \"PACF returns\""
      ]
     },
     "metadata": {},
     "output_type": "display_data"
    },
    {
     "data": {
      "text/plain": [
       "\n",
       "\tBox-Ljung test\n",
       "\n",
       "data:  fit.manual$residuals\n",
       "X-squared = 25.615, df = 20, p-value = 0.1789\n"
      ]
     },
     "metadata": {},
     "output_type": "display_data"
    },
    {
     "data": {
      "text/plain": [
       "\n",
       "\tJarque Bera Test\n",
       "\n",
       "data:  residuals\n",
       "X-squared = 15.062, df = 2, p-value = 0.0005361\n"
      ]
     },
     "metadata": {},
     "output_type": "display_data"
    },
    {
     "data": {
      "image/png": "[encoded data removed]",
      "text/plain": [
       "Plot with title \"PACF residuals\""
      ]
     },
     "metadata": {},
     "output_type": "display_data"
    },
    {
     "data": {
      "image/png": "[encoded data removed]",
      "text/plain": [
       "Plot with title \"Histogram\""
      ]
     },
     "metadata": {},
     "output_type": "display_data"
    },
    {
     "data": {
      "image/png": "[encoded data removed]",
      "text/plain": [
       "Plot with title \"PACF residuals.sqrd\""
      ]
     },
     "metadata": {},
     "output_type": "display_data"
    },
    {
     "data": {
      "image/png": "[encoded data removed]",
      "text/plain": [
       "Plot with title \"Forecasts from ARIMA(2,0,0) with non-zero mean\""
      ]
     },
     "metadata": {},
     "output_type": "display_data"
    }
   ],
   "source": [
    "rm(list = ls())\n",
    "options(repr.plot.width=8, repr.plot.height=3)\n",
    "\n",
    "data <- read.table(\"CZK_EUR_2008.txt\")$V1\n",
    "    plot.ts(data)\n",
    "    adf.test(data, k = 1)\n",
    "returns <- diff(log(data), lag =25) #monthly\n",
    "    plot.ts(returns)\n",
    "    adf.test(returns, k = 1)\n",
    "par(mfrow=c(1,2))\n",
    "    Acf(returns, lag.max = 12, main=\"ACF returns\")\n",
    "    Pacf(returns, lag.max = 12, main=\"PACF returns\")\n",
    "\n",
    "    (fit.auto <- auto.arima(returns, seasonal = FALSE, stationary = TRUE, ic = 'aicc', stepwise = FALSE))\n",
    "    (fit.manual <- arima(returns, order = c(2, 0, 0)))\n",
    "\n",
    "par(mfrow = c(1,2))\n",
    "    Acf(fit.auto$residuals, main = \"ACF residuals\")\n",
    "    Pacf(fit.auto$residuals, main = \"PACF residuals\")\n",
    "\n",
    "    Box.test(fit.manual$residuals,  lag = 20, type = c(\"Ljung-Box\"))\n",
    "\n",
    "    residuals <- fit.manual$residuals\n",
    "    residuals.norm <- residuals/sqrt(fit.manual$sigma2)\n",
    "    hist(residuals.norm, prob = TRUE, breaks=40, xlab = \"Normalized residuals\", main=\"Histogram\")\n",
    "    curve(dnorm(x, mean = 0, sd = 1), col=\"blue\", lwd=1, add=TRUE)\n",
    "\n",
    "    jarque.bera.test(residuals)\n",
    "\n",
    "    residuals.sqrd <- residuals^2\n",
    "    plot.ts(residuals.sqrd, ylab = \"Squared returns\")\n",
    "\n",
    "par(mfrow=c(1,2))\n",
    "    Acf(residuals.sqrd, lag.max = 12, main=\"ACF residuals.sqrd\")\n",
    "    Pacf(residuals.sqrd, lag.max = 12, main=\"PACF residuals.sqrd\")\n",
    "\n",
    "plot.ts(returns)\n",
    "    lines(fitted(fit.manual), col = \"red\")\n",
    "\n",
    "    fcast <- forecast(fit.manual, h=10)\n",
    "    plot(fcast)"
   ]
  },
  {
   "cell_type": "markdown",
   "metadata": {},
   "source": [
    "**Long Time Series:**"
   ]
  },
  {
   "cell_type": "code",
   "execution_count": 29,
   "metadata": {
    "vscode": {
     "languageId": "r"
    }
   },
   "outputs": [
    {
     "data": {
      "text/html": [
       "365"
      ],
      "text/latex": [
       "365"
      ],
      "text/markdown": [
       "365"
      ],
      "text/plain": [
       "[1] 365"
      ]
     },
     "metadata": {},
     "output_type": "display_data"
    }
   ],
   "source": [
    "data <- read.table(\"CZK_EUR_2017-20.txt\")$V1\n",
    "length(data)/4 # we have four years of daily data - it includes non trading days (padded with previous value)"
   ]
  },
  {
   "cell_type": "code",
   "execution_count": 30,
   "metadata": {
    "vscode": {
     "languageId": "r"
    }
   },
   "outputs": [
    {
     "name": "stdout",
     "output_type": "stream",
     "text": [
      "[1] \"Now lets try to model exchange rate for longer period\"\n"
     ]
    },
    {
     "data": {
      "text/plain": [
       "\n",
       "\tAugmented Dickey-Fuller Test\n",
       "\n",
       "data:  data\n",
       "Dickey-Fuller = -2.5793, Lag order = 1, p-value = 0.3331\n",
       "alternative hypothesis: stationary\n"
      ]
     },
     "metadata": {},
     "output_type": "display_data"
    },
    {
     "name": "stdout",
     "output_type": "stream",
     "text": [
      "[1] \"According to the ADF test, data are not stationary. We have to stationarize them. As it is common in finance applications, let's compute the log returns\"\n"
     ]
    },
    {
     "name": "stderr",
     "output_type": "stream",
     "text": [
      "Warning message in adf.test(returns, k = 1):\n",
      "\"p-value smaller than printed p-value\""
     ]
    },
    {
     "data": {
      "text/plain": [
       "\n",
       "\tAugmented Dickey-Fuller Test\n",
       "\n",
       "data:  returns\n",
       "Dickey-Fuller = -4.6256, Lag order = 1, p-value = 0.01\n",
       "alternative hypothesis: stationary\n"
      ]
     },
     "metadata": {},
     "output_type": "display_data"
    },
    {
     "data": {
      "image/png": "[encoded data removed]",
      "text/plain": [
       "plot without title"
      ]
     },
     "metadata": {},
     "output_type": "display_data"
    },
    {
     "name": "stdout",
     "output_type": "stream",
     "text": [
      "[1] \"Which model to choose?\"\n"
     ]
    },
    {
     "data": {
      "image/png": "[encoded data removed]",
      "text/plain": [
       "plot without title"
      ]
     },
     "metadata": {},
     "output_type": "display_data"
    },
    {
     "name": "stdout",
     "output_type": "stream",
     "text": [
      "[1] \"autofit\"\n"
     ]
    },
    {
     "data": {
      "text/plain": [
       "Series: returns \n",
       "ARIMA(2,0,2) with zero mean \n",
       "\n",
       "Coefficients:\n",
       "         ar1     ar2     ma1      ma2\n",
       "      0.1232  0.8242  0.8293  -0.0814\n",
       "s.e.  0.0335  0.0318  0.0412   0.0282\n",
       "\n",
       "sigma^2 estimated as 1.625e-05:  log likelihood=5851.86\n",
       "AIC=-11693.72   AICc=-11693.68   BIC=-11667.4"
      ]
     },
     "metadata": {},
     "output_type": "display_data"
    },
    {
     "data": {
      "text/plain": [
       "\n",
       "Call:\n",
       "arima(x = returns, order = c(1, 0, 0))\n",
       "\n",
       "Coefficients:\n",
       "         ar1  intercept\n",
       "      0.9677    -0.0006\n",
       "s.e.  0.0065     0.0033\n",
       "\n",
       "sigma^2 estimated as 1.646e-05:  log likelihood = 5840.78,  aic = -11675.56"
      ]
     },
     "metadata": {},
     "output_type": "display_data"
    },
    {
     "data": {
      "image/png": "[encoded data removed]",
      "text/plain": [
       "Plot with title \"PACF returns\""
      ]
     },
     "metadata": {},
     "output_type": "display_data"
    },
    {
     "name": "stdout",
     "output_type": "stream",
     "text": [
      "[1] \"Ljung-Box test\"\n"
     ]
    },
    {
     "data": {
      "text/plain": [
       "\n",
       "\tBox-Ljung test\n",
       "\n",
       "data:  fit.manual$residuals\n",
       "X-squared = 157.15, df = 20, p-value < 2.2e-16\n"
      ]
     },
     "metadata": {},
     "output_type": "display_data"
    },
    {
     "name": "stdout",
     "output_type": "stream",
     "text": [
      "[1] \"Let's check the residuals for manual fit. Let's investigate whether there is some dependency left in them\"\n"
     ]
    },
    {
     "data": {
      "text/plain": [
       "\n",
       "\tJarque Bera Test\n",
       "\n",
       "data:  residuals\n",
       "X-squared = 22210, df = 2, p-value < 2.2e-16\n"
      ]
     },
     "metadata": {},
     "output_type": "display_data"
    },
    {
     "data": {
      "image/png": "[encoded data removed]",
      "text/plain": [
       "Plot with title \"PACF fit.auto\""
      ]
     },
     "metadata": {},
     "output_type": "display_data"
    },
    {
     "data": {
      "image/png": "[encoded data removed]",
      "text/plain": [
       "Plot with title \"Histogram\""
      ]
     },
     "metadata": {},
     "output_type": "display_data"
    },
    {
     "data": {
      "image/png": "[encoded data removed]",
      "text/plain": [
       "Plot with title \"PACF residuals.sqrd\""
      ]
     },
     "metadata": {},
     "output_type": "display_data"
    },
    {
     "name": "stdout",
     "output_type": "stream",
     "text": [
      "[1] \"Let's try to forecast the future values using our model\"\n"
     ]
    },
    {
     "data": {
      "image/png": "[encoded data removed]",
      "text/plain": [
       "plot without title"
      ]
     },
     "metadata": {},
     "output_type": "display_data"
    },
    {
     "data": {
      "image/png": "[encoded data removed]",
      "text/plain": [
       "Plot with title \"Forecasts from ARIMA(1,0,0) with non-zero mean\""
      ]
     },
     "metadata": {},
     "output_type": "display_data"
    }
   ],
   "source": [
    "rm(list = ls())\n",
    "options(repr.plot.width=8, repr.plot.height=3) \n",
    "data <- read.table(\"CZK_EUR_2017-20.txt\")$V1\n",
    "\n",
    "print(\"Now lets try to model exchange rate for longer period\")\n",
    "\n",
    "plot.ts(data)\n",
    "adf.test(data, k = 1)\n",
    "\n",
    "print(\"According to the ADF test, data are not stationary. We have to stationarize them. As it is common in finance applications, let's compute the log returns\")\n",
    "returns <- diff(log(data), lag = 31)\n",
    "adf.test(returns, k = 1)\n",
    "plot.ts(returns)\n",
    "\n",
    "print(\"Which model to choose?\")\n",
    "par(mfrow=c(1,2))\n",
    "Acf(returns, lag.max = 12, main=\"ACF returns\")\n",
    "Pacf(returns, lag.max = 12, main=\"PACF returns\")\n",
    "\n",
    "print(\"autofit\")\n",
    "(fit.auto <- auto.arima(returns, seasonal = FALSE, stationary = TRUE, ic = 'aicc', stepwise = FALSE))\n",
    "(fit.manual <- arima(returns, order = c(1,0,0)))\n",
    "\n",
    "par(mfrow = c(1,2))\n",
    "Acf(fit.auto$residuals, main = \"ACF fit.auto\")\n",
    "Pacf(fit.auto$residuals, main = \"PACF fit.auto\")\n",
    "\n",
    "print(\"Ljung-Box test\")\n",
    "Box.test(fit.manual$residuals,  lag = 20, type = c(\"Ljung-Box\"))\n",
    "\n",
    "print(\"Let's check the residuals for manual fit. Let's investigate whether there is some dependency left in them\")\n",
    "residuals <- fit.manual$residuals\n",
    "residuals.norm <- residuals/sqrt(fit.manual$sigma2)\n",
    "hist(residuals.norm, prob = TRUE, breaks=40, xlab = \"Normalized residuals\", main=\"Histogram\")\n",
    "curve(dnorm(x, mean = 0, sd = 1), col=\"blue\", lwd=1, add=TRUE)\n",
    "\n",
    "jarque.bera.test(residuals)\n",
    "\n",
    "residuals.sqrd <- residuals^2\n",
    "plot.ts(residuals.sqrd, ylab = \"Squared returns\")\n",
    "\n",
    "par(mfrow=c(1,2))\n",
    "Acf(residuals.sqrd, lag.max = 12, main=\"ACF residuals.sqrd\")\n",
    "Pacf(residuals.sqrd, lag.max = 12, main=\"PACF residuals.sqrd\")\n",
    "\n",
    "par(mfrow=c(1,1))\n",
    "plot.ts(returns)\n",
    "lines(fitted(fit.manual), col = \"red\")\n",
    "\n",
    "print(\"Let's try to forecast the future values using our model\")\n",
    "fcast <- forecast(fit.manual, h=5)\n",
    "plot(fcast)"
   ]
  },
  {
   "cell_type": "markdown",
   "metadata": {},
   "source": [
    "**An Introduction to Spatial Econometrics in R** -- http://www.econ.uiuc.edu/~lab/workshop/Spatial_in_R.html"
   ]
  }
 ],
 "metadata": {
  "kernelspec": {
   "display_name": "R [conda env:r_env_testing]",
   "language": "R",
   "name": "conda-env-r_env_testing-r"
  },
  "language_info": {
   "codemirror_mode": "r",
   "file_extension": ".r",
   "mimetype": "text/x-r-source",
   "name": "R",
   "pygments_lexer": "r",
   "version": "3.6.1"
  }
 },
 "nbformat": 4,
 "nbformat_minor": 4
}
