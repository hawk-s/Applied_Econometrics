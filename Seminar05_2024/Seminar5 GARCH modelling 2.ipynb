{
 "cells": [
  {
   "cell_type": "markdown",
   "metadata": {},
   "source": [
    "# Seminar 5: GARCH Models - Extensions\n",
    "### Applied Econometrics, IES FSV UK\n",
    "\n",
    "Lenka Nechvátalová (`lenka.nechvatalova@fsv.cuni.cz`)\n",
    "\n",
    "\n",
    "---\n",
    "## Outline\n",
    "\n",
    "So far, we know the Box-Jenkins methodology for fitting ARMA-GARCH models.\n",
    "\n",
    "**Today:**\n",
    "- We will introduce TGARCH modelling and see how it can improve our results\n",
    "- We will introduce other forms of GARCH \n",
    "    - EGARCH \n",
    "    - IGARCH\n",
    "- We will also estimate the multivariate GARCH model\n",
    "     - DCC GARCH\n",
    "- Exercise"
   ]
  },
  {
   "cell_type": "code",
   "execution_count": 40,
   "metadata": {},
   "outputs": [],
   "source": [
    "rm(list = ls())\n",
    "\n",
    "#install.packages(c(\"rugarch\", \"moments\", \"aTSA\", \"FinTS\", \"rmgarch\"), repos = \"http://cran.us.r-project.org\")\n",
    "\n",
    "library(tseries)\n",
    "library(forecast)\n",
    "library(repr)\n",
    "library(rugarch) # package for GARCH modelling\n",
    "library(moments) # package for kurtosis estimation\n",
    "library(aTSA) # package for ARCH-LM test\n",
    "library(rmgarch) # multivariate garch modelling\n",
    "library(FinTS)\n",
    "library(quantmod) # download data\n",
    "options(repr.plot.width = 8, repr.plot.height = 4) # set the plotting parameters"
   ]
  },
  {
   "cell_type": "markdown",
   "metadata": {},
   "source": [
    "### Selecting our model:\n",
    "\n",
    "Decisions:\n",
    "- suitable order of ARMA-GARCH model\n",
    "- possibly comparing different GARCH model extensions\n",
    "- MLE vs QMLE\n",
    "- assumed distribution of standardized residuals (e.g. normal vs student t distribution)\n",
    "- if exogenous variables are added, do we add them to mean or variance equations? \n",
    "\n",
    "Tools we have:\n",
    "- our judgement, domain knowledge, literature review\n",
    "- information criteria (in sample)\n",
    "- parsimony vs goodness of fit (sufficiently capturing the variation within the time series)\n",
    "- checking for signs of overfitting\n",
    "- residual diagnostics\n",
    "- forecasting accuracy (out of sample)\n",
    "- interpretability\n",
    "\n",
    "- "
   ]
  },
  {
   "cell_type": "markdown",
   "metadata": {},
   "source": [
    "### Links, notes and more resources:\n"
   ]
  },
  {
   "cell_type": "markdown",
   "metadata": {},
   "source": [
    "Weak dependence vs weak stationarity discussed [here](https://people.stfx.ca/tleo/econ370term2lec6.pdf) or more [here](https://economics.stackexchange.com/questions/42848/stationarity-vs-weak-dependence#:~:text=Sufficiently%20fast%20weak%20dependency%20%E2%80%93%20random,drawn%20from%20an%20identical%20distribution.)"
   ]
  },
  {
   "cell_type": "markdown",
   "metadata": {},
   "source": [
    "#### rugarch, rmgarch documentation\n",
    "More information on model specifications in rugarch package:\n",
    "https://cran.r-project.org/web/packages/rugarch/vignettes/Introduction_to_the_rugarch_package.pdf\n",
    "\n",
    "Details for rmgarch - multivariate GARCH package: https://cran.r-project.org/web/packages/rmgarch/vignettes/The_rmgarch_models.pdf"
   ]
  },
  {
   "cell_type": "markdown",
   "metadata": {},
   "source": [
    "# ARIMA-GARCH \n",
    "\n",
    "We will analyze the time series of American Airlines Group Inc (AAL) "
   ]
  },
  {
   "cell_type": "markdown",
   "metadata": {},
   "source": [
    "## Download/Load data, plot, inspect"
   ]
  },
  {
   "cell_type": "code",
   "execution_count": 2,
   "metadata": {},
   "outputs": [],
   "source": [
    "# download data for American Airlines Group Inc\n",
    "#data = getSymbols(Symbols = 'AAL',  from = \"2010-01-01\", to= '2020-12-30', srs = \"yahoo\", return.class='xts', auto.assign=FALSE)\n",
    "\n",
    "#alternatively use dataset provided and load it:\n",
    "load(file= 'AAL_dataset.R')"
   ]
  },
  {
   "cell_type": "code",
   "execution_count": 3,
   "metadata": {},
   "outputs": [
    {
     "data": {
      "text/html": [
       "2767"
      ],
      "text/latex": [
       "2767"
      ],
      "text/markdown": [
       "2767"
      ],
      "text/plain": [
       "[1] 2767"
      ]
     },
     "metadata": {},
     "output_type": "display_data"
    },
    {
     "data": {
      "text/html": [
       "2766"
      ],
      "text/latex": [
       "2766"
      ],
      "text/markdown": [
       "2766"
      ],
      "text/plain": [
       "[1] 2766"
      ]
     },
     "metadata": {},
     "output_type": "display_data"
    }
   ],
   "source": [
    "price = data[,'AAL.Adjusted']\n",
    "log_ret <- diff(log(price)) \n",
    "length(log_ret)\n",
    "# omit NAs\n",
    "log_ret = na.omit(log_ret)\n",
    "length(log_ret)"
   ]
  },
  {
   "cell_type": "code",
   "execution_count": 4,
   "metadata": {},
   "outputs": [
    {
     "data": {
      "text/plain": [
       "           AAL.Open AAL.High AAL.Low AAL.Close AAL.Volume AAL.Adjusted\n",
       "2010-01-04     4.84     4.94    4.66      4.77    9837300     4.496877\n",
       "2010-01-05     4.79     5.37    4.71      5.31   25212000     5.005958\n",
       "2010-01-06     5.19     5.38    5.00      5.09   16597900     4.798554\n",
       "2010-01-07     5.06     5.43    5.05      5.24   14033400     4.939965\n",
       "2010-01-08     5.27     5.43    5.06      5.14   12760000     4.845691\n",
       "2010-01-11     5.13     5.23    4.94      5.04   10952900     4.751417"
      ]
     },
     "metadata": {},
     "output_type": "display_data"
    }
   ],
   "source": [
    "head(data)"
   ]
  },
  {
   "cell_type": "code",
   "execution_count": 5,
   "metadata": {},
   "outputs": [
    {
     "data": {
      "text/plain": [
       "           AAL.Adjusted\n",
       "2010-01-05  0.107245647\n",
       "2010-01-06 -0.042314181\n",
       "2010-01-07  0.029043624\n",
       "2010-01-08 -0.019268390\n",
       "2010-01-11 -0.019646967\n",
       "2010-01-12  0.007905251"
      ]
     },
     "metadata": {},
     "output_type": "display_data"
    }
   ],
   "source": [
    "head(log_ret)"
   ]
  },
  {
   "cell_type": "code",
   "execution_count": 6,
   "metadata": {},
   "outputs": [
    {
     "data": {
      "image/png": "[encoded data removed]",
      "text/plain": [
       "plot without title"
      ]
     },
     "metadata": {},
     "output_type": "display_data"
    }
   ],
   "source": [
    "options(repr.plot.width=10, repr.plot.height=4)\n",
    "par(mfrow = c(1,2))\n",
    "ts.plot(price)\n",
    "ts.plot(log_ret)"
   ]
  },
  {
   "cell_type": "markdown",
   "metadata": {},
   "source": [
    "**Are our data stationary?** \n",
    "\n",
    "Let's plot the ACF and PACF and check formally by Augmented Dickey-Fuller test "
   ]
  },
  {
   "cell_type": "code",
   "execution_count": 7,
   "metadata": {},
   "outputs": [
    {
     "data": {
      "image/png": "[encoded data removed]",
      "text/plain": [
       "Plot with title \"PACF\""
      ]
     },
     "metadata": {},
     "output_type": "display_data"
    }
   ],
   "source": [
    "par(mfrow = c(1,2))\n",
    "Acf(price, lag.max = 50, main = \"ACF\")\n",
    "Pacf(price, lag.max = 50, main = \"PACF\")"
   ]
  },
  {
   "cell_type": "code",
   "execution_count": 8,
   "metadata": {},
   "outputs": [
    {
     "data": {
      "text/plain": [
       "\n",
       "\tAugmented Dickey-Fuller Test\n",
       "\n",
       "data:  price\n",
       "Dickey-Fuller = -0.87988, Lag order = 14, p-value = 0.9545\n",
       "alternative hypothesis: stationary\n"
      ]
     },
     "metadata": {},
     "output_type": "display_data"
    }
   ],
   "source": [
    "tseries::adf.test(price)"
   ]
  },
  {
   "cell_type": "markdown",
   "metadata": {},
   "source": [
    "Our data are definitely not stationary $\\rightarrow$ we create returns by taking logaritmic first differences"
   ]
  },
  {
   "cell_type": "markdown",
   "metadata": {},
   "source": [
    "**Are returns stationary?** \n"
   ]
  },
  {
   "cell_type": "code",
   "execution_count": 9,
   "metadata": {},
   "outputs": [
    {
     "name": "stderr",
     "output_type": "stream",
     "text": [
      "Warning message in tseries::adf.test(log_ret):\n",
      "\"p-value smaller than printed p-value\""
     ]
    },
    {
     "data": {
      "text/plain": [
       "\n",
       "\tAugmented Dickey-Fuller Test\n",
       "\n",
       "data:  log_ret\n",
       "Dickey-Fuller = -13.619, Lag order = 14, p-value = 0.01\n",
       "alternative hypothesis: stationary\n"
      ]
     },
     "metadata": {},
     "output_type": "display_data"
    },
    {
     "name": "stdout",
     "output_type": "stream",
     "text": [
      "KPSS Unit Root Test \n",
      "alternative: nonstationary \n",
      " \n",
      "Type 1: no drift no trend \n",
      " lag stat p.value\n",
      "  12 0.83     0.1\n",
      "----- \n",
      " Type 2: with drift no trend \n",
      " lag  stat p.value\n",
      "  12 0.351  0.0984\n",
      "----- \n",
      " Type 1: with drift and trend \n",
      " lag   stat p.value\n",
      "  12 0.0413     0.1\n",
      "----------- \n",
      "Note: p.value = 0.01 means p.value <= 0.01 \n",
      "    : p.value = 0.10 means p.value >= 0.10 \n"
     ]
    },
    {
     "data": {
      "image/png": "[encoded data removed]",
      "text/plain": [
       "Plot with title \"PACF\""
      ]
     },
     "metadata": {},
     "output_type": "display_data"
    }
   ],
   "source": [
    "# ACF PACF plots\n",
    "par(mfrow = c(1,2))\n",
    "Acf(log_ret, lag.max = 50, main = \"ACF\")\n",
    "Pacf(log_ret, lag.max = 50, main = \"PACF\")\n",
    "\n",
    "#ADF test\n",
    "tseries::adf.test(log_ret)\n",
    "\n",
    "#KPSS test\n",
    "kpss.test(log_ret)"
   ]
  },
  {
   "cell_type": "code",
   "execution_count": 10,
   "metadata": {},
   "outputs": [],
   "source": [
    "#?adf.test\n",
    "#?kpss.test"
   ]
  },
  {
   "cell_type": "markdown",
   "metadata": {},
   "source": [
    "The log returns are stationary so we can use them further in the ARIMA analysis."
   ]
  },
  {
   "cell_type": "markdown",
   "metadata": {},
   "source": [
    "## Select the mean model"
   ]
  },
  {
   "cell_type": "code",
   "execution_count": 11,
   "metadata": {},
   "outputs": [
    {
     "data": {
      "text/plain": [
       "Series: log_ret \n",
       "ARIMA(1,0,0) with zero mean \n",
       "\n",
       "Coefficients:\n",
       "         ar1\n",
       "      0.0653\n",
       "s.e.  0.0190\n",
       "\n",
       "sigma^2 estimated as 0.001092:  log likelihood=5507.22\n",
       "AIC=-11010.44   AICc=-11010.44   BIC=-10998.59"
      ]
     },
     "metadata": {},
     "output_type": "display_data"
    },
    {
     "name": "stdout",
     "output_type": "stream",
     "text": [
      "\n",
      "\tLjung-Box test\n",
      "\n",
      "data:  Residuals from ARIMA(1,0,0) with zero mean\n",
      "Q* = 29.579, df = 9, p-value = 0.0005172\n",
      "\n",
      "Model df: 1.   Total lags used: 10\n",
      "\n"
     ]
    },
    {
     "data": {
      "image/png": "[encoded data removed]",
      "text/plain": [
       "plot without title"
      ]
     },
     "metadata": {},
     "output_type": "display_data"
    }
   ],
   "source": [
    "# choose the best model based on the IC\n",
    "(fit_auto <- auto.arima(log_ret, ic = c(\"bic\"), stationary = TRUE))\n",
    "checkresiduals(fit_auto)\n",
    "# AIC and BIC both select ar(1)"
   ]
  },
  {
   "cell_type": "markdown",
   "metadata": {},
   "source": [
    "We use the Ljung-Box test to verify if the ACF at first 20 lags is jointly equal to zero"
   ]
  },
  {
   "cell_type": "code",
   "execution_count": 12,
   "metadata": {},
   "outputs": [
    {
     "data": {
      "text/plain": [
       "\n",
       "\tBox-Ljung test\n",
       "\n",
       "data:  fit_auto$residuals\n",
       "X-squared = 56.982, df = 20, p-value = 2.065e-05\n"
      ]
     },
     "metadata": {},
     "output_type": "display_data"
    }
   ],
   "source": [
    "Box.test(fit_auto$residuals, lag = 20, type = c(\"Ljung-Box\"))\n",
    "# null is rejected for now - significant autocorrelation present"
   ]
  },
  {
   "cell_type": "code",
   "execution_count": 13,
   "metadata": {},
   "outputs": [],
   "source": [
    "#?Box.test"
   ]
  },
  {
   "cell_type": "code",
   "execution_count": 14,
   "metadata": {},
   "outputs": [
    {
     "data": {
      "image/png": "[encoded data removed]",
      "text/plain": [
       "Plot with title \"PACF\""
      ]
     },
     "metadata": {},
     "output_type": "display_data"
    }
   ],
   "source": [
    "par(mfrow = c(1,2))\n",
    "Acf(fit_auto$residuals, lag.max = 50, main = \"ACF\")\n",
    "Pacf(fit_auto$residuals, lag.max = 50, main = \"PACF\")"
   ]
  },
  {
   "cell_type": "markdown",
   "metadata": {},
   "source": [
    "**Residual diagnostics**\n",
    "- there is visible heteroskedasticity in the residuals (plot of residuals above)\n",
    "- ARIMA(1,0,0) seems like a good candidate for the mean equation. There is still some linear dependency in the residuals but this may be because of the heteroskedasticity.\n",
    "- let's check squared residuals for dependence."
   ]
  },
  {
   "cell_type": "code",
   "execution_count": 15,
   "metadata": {},
   "outputs": [],
   "source": [
    "#str(fit_auto)"
   ]
  },
  {
   "cell_type": "code",
   "execution_count": 16,
   "metadata": {},
   "outputs": [],
   "source": [
    "resid <- fit_auto$residuals\n",
    "resid_sqrd <- resid^2 # create squared residuals"
   ]
  },
  {
   "cell_type": "markdown",
   "metadata": {},
   "source": [
    "First we check ACF and PACF of the squared residuals and we check for any dependence"
   ]
  },
  {
   "cell_type": "code",
   "execution_count": 17,
   "metadata": {},
   "outputs": [
    {
     "data": {
      "image/png": "[encoded data removed]",
      "text/plain": [
       "Plot with title \"PACF\""
      ]
     },
     "metadata": {},
     "output_type": "display_data"
    }
   ],
   "source": [
    "par(mfrow = c(1,2))\n",
    "Acf(resid_sqrd, lag.max = 50, main = \"ACF\")\n",
    "Pacf(resid_sqrd, lag.max = 50, main = \"PACF\")"
   ]
  },
  {
   "cell_type": "code",
   "execution_count": 18,
   "metadata": {},
   "outputs": [
    {
     "name": "stdout",
     "output_type": "stream",
     "text": [
      "ARCH heteroscedasticity test for residuals \n",
      "alternative: heteroscedastic \n",
      "\n",
      "Portmanteau-Q test: \n",
      "     order   PQ p.value\n",
      "[1,]     4  417       0\n",
      "[2,]     8  716       0\n",
      "[3,]    12  842       0\n",
      "[4,]    16  942       0\n",
      "[5,]    20  997       0\n",
      "[6,]    24 1069       0\n",
      "Lagrange-Multiplier test: \n",
      "     order   LM p.value\n",
      "[1,]     4 5685       0\n",
      "[2,]     8 1154       0\n",
      "[3,]    12  758       0\n",
      "[4,]    16  555       0\n",
      "[5,]    20  440       0\n",
      "[6,]    24  363       0\n"
     ]
    },
    {
     "data": {
      "image/png": "[encoded data removed]",
      "text/plain": [
       "plot without title"
      ]
     },
     "metadata": {},
     "output_type": "display_data"
    }
   ],
   "source": [
    "arch.test(arima(log_ret,order = c(1,0,0))) # for this function, we need to provide fitted arima model (auto.arima not accepted)"
   ]
  },
  {
   "cell_type": "code",
   "execution_count": 19,
   "metadata": {},
   "outputs": [],
   "source": [
    "#?arch.test"
   ]
  },
  {
   "cell_type": "markdown",
   "metadata": {},
   "source": [
    "Let's try other package and check our results"
   ]
  },
  {
   "cell_type": "code",
   "execution_count": 20,
   "metadata": {},
   "outputs": [
    {
     "data": {
      "text/plain": [
       "\n",
       "\tARCH LM-test; Null hypothesis: no ARCH effects\n",
       "\n",
       "data:  resid\n",
       "Chi-squared = 435.41, df = 12, p-value < 2.2e-16\n"
      ]
     },
     "metadata": {},
     "output_type": "display_data"
    }
   ],
   "source": [
    "ArchTest(resid, lags = 12, demean = FALSE) #this function allows us to provide time series instead of fitted arima model"
   ]
  },
  {
   "cell_type": "code",
   "execution_count": 21,
   "metadata": {},
   "outputs": [],
   "source": [
    "#?ArchTest"
   ]
  },
  {
   "cell_type": "markdown",
   "metadata": {},
   "source": [
    "Now we can be sure that there are ARCH/GARCH effects present in our data."
   ]
  },
  {
   "cell_type": "markdown",
   "metadata": {},
   "source": [
    "## GARCH modelling\n",
    "From ACF and PACF of squared residuals from ARIMA(0,0,0) and from ARCH-LM test we can see, that there are further dependencies in the data, thus we will model them by allowing for heteroskedasticity:\n",
    "- ARCH, and GARCH models\n",
    "\n",
    "ARCH and GARCH is able to model all the empirically found properties of stock market returns as:\n",
    "- excess volatility\n",
    "- volatility clusters\n",
    "- fat tails which tells us that there is greater probability of unexpected events\n"
   ]
  },
  {
   "cell_type": "markdown",
   "metadata": {},
   "source": [
    "### ARIMA(1,0,0)-GARCH(1,1)"
   ]
  },
  {
   "cell_type": "code",
   "execution_count": 22,
   "metadata": {},
   "outputs": [
    {
     "data": {
      "text/plain": [
       "\n",
       "*---------------------------------*\n",
       "*          GARCH Model Fit        *\n",
       "*---------------------------------*\n",
       "\n",
       "Conditional Variance Dynamics \t\n",
       "-----------------------------------\n",
       "GARCH Model\t: sGARCH(1,1)\n",
       "Mean Model\t: ARFIMA(1,0,0)\n",
       "Distribution\t: norm \n",
       "\n",
       "Optimal Parameters\n",
       "------------------------------------\n",
       "        Estimate  Std. Error  t value Pr(>|t|)\n",
       "mu      0.000585    0.000509   1.1491 0.250529\n",
       "ar1     0.035142    0.020193   1.7403 0.081811\n",
       "omega   0.000012    0.000002   5.5387 0.000000\n",
       "alpha1  0.050495    0.001319  38.2834 0.000000\n",
       "beta1   0.937108    0.005185 180.7392 0.000000\n",
       "\n",
       "Robust Standard Errors:\n",
       "        Estimate  Std. Error  t value Pr(>|t|)\n",
       "mu      0.000585    0.000565   1.0364 0.300020\n",
       "ar1     0.035142    0.020255   1.7350 0.082746\n",
       "omega   0.000012    0.000008   1.5327 0.125356\n",
       "alpha1  0.050495    0.011515   4.3852 0.000012\n",
       "beta1   0.937108    0.009604  97.5697 0.000000\n",
       "\n",
       "LogLikelihood : 5921.135 \n",
       "\n",
       "Information Criteria\n",
       "------------------------------------\n",
       "                    \n",
       "Akaike       -4.2778\n",
       "Bayes        -4.2670\n",
       "Shibata      -4.2778\n",
       "Hannan-Quinn -4.2739\n",
       "\n",
       "Weighted Ljung-Box Test on Standardized Residuals\n",
       "------------------------------------\n",
       "                        statistic p-value\n",
       "Lag[1]                    0.04748  0.8275\n",
       "Lag[2*(p+q)+(p+q)-1][2]   0.04789  1.0000\n",
       "Lag[4*(p+q)+(p+q)-1][5]   0.55844  0.9909\n",
       "d.o.f=1\n",
       "H0 : No serial correlation\n",
       "\n",
       "Weighted Ljung-Box Test on Standardized Squared Residuals\n",
       "------------------------------------\n",
       "                        statistic p-value\n",
       "Lag[1]                     0.0643  0.7998\n",
       "Lag[2*(p+q)+(p+q)-1][5]    0.8823  0.8857\n",
       "Lag[4*(p+q)+(p+q)-1][9]    1.8543  0.9217\n",
       "d.o.f=2\n",
       "\n",
       "Weighted ARCH LM Tests\n",
       "------------------------------------\n",
       "            Statistic Shape Scale P-Value\n",
       "ARCH Lag[3]     1.002 0.500 2.000  0.3168\n",
       "ARCH Lag[5]     1.444 1.440 1.667  0.6071\n",
       "ARCH Lag[7]     2.208 2.315 1.543  0.6733\n",
       "\n",
       "Nyblom stability test\n",
       "------------------------------------\n",
       "Joint Statistic:  4.7475\n",
       "Individual Statistics:             \n",
       "mu     0.3765\n",
       "ar1    0.1795\n",
       "omega  1.1471\n",
       "alpha1 0.2380\n",
       "beta1  0.2624\n",
       "\n",
       "Asymptotic Critical Values (10% 5% 1%)\n",
       "Joint Statistic:     \t 1.28 1.47 1.88\n",
       "Individual Statistic:\t 0.35 0.47 0.75\n",
       "\n",
       "Sign Bias Test\n",
       "------------------------------------\n",
       "                   t-value   prob sig\n",
       "Sign Bias            1.098 0.2723    \n",
       "Negative Sign Bias   2.054 0.0401  **\n",
       "Positive Sign Bias   1.042 0.2974    \n",
       "Joint Effect         5.609 0.1323    \n",
       "\n",
       "\n",
       "Adjusted Pearson Goodness-of-Fit Test:\n",
       "------------------------------------\n",
       "  group statistic p-value(g-1)\n",
       "1    20     92.24    1.329e-11\n",
       "2    30     98.95    1.442e-09\n",
       "3    40    121.49    2.110e-10\n",
       "4    50    137.65    2.360e-10\n",
       "\n",
       "\n",
       "Elapsed time : 0.3258879 \n"
      ]
     },
     "metadata": {},
     "output_type": "display_data"
    }
   ],
   "source": [
    "# specify the model that we want to estimate\n",
    "model_specification <- ugarchspec(mean.model = list(armaOrder = c(1, 0), include.mean = TRUE), \n",
    "                      variance.model = list(garchOrder = c(1, 1)))\n",
    "\n",
    "# estimate the model\n",
    "fit <- ugarchfit(spec = model_specification, data = log_ret)\n",
    "#infocriteria(fit)\n",
    "\n",
    "# explore the results\n",
    "#coef(fit) # estimated parameters\n",
    "fit\n"
   ]
  },
  {
   "cell_type": "code",
   "execution_count": 23,
   "metadata": {},
   "outputs": [
    {
     "data": {
      "image/png": "[encoded data removed]",
      "text/plain": [
       "plot without title"
      ]
     },
     "metadata": {},
     "output_type": "display_data"
    }
   ],
   "source": [
    "#plot.ts(abs(log_ret))\n",
    "plot.ts(abs(residuals(fit))) # residuals (after fitting arma model) or log_ret in absolute values\n",
    "lines(as.numeric(sigma(fit)),col = \"red\", lwd = 3) \n",
    "# plot of the residuals/log returns in absolute value and of estimated conditional standard deviation (volatility)"
   ]
  },
  {
   "cell_type": "markdown",
   "metadata": {},
   "source": [
    "We can see that we were able to capture dynamics of the returns, but is our model OK?"
   ]
  },
  {
   "cell_type": "markdown",
   "metadata": {},
   "source": [
    "### Simple model checking"
   ]
  },
  {
   "cell_type": "markdown",
   "metadata": {},
   "source": [
    "Ljung-Box Test on Standardized Squared Residuals and ARCH LM Tests (in the output from the fit) "
   ]
  },
  {
   "cell_type": "markdown",
   "metadata": {},
   "source": [
    "And by visual inspection of standardized residuals and squared standardized residuals"
   ]
  },
  {
   "cell_type": "code",
   "execution_count": 24,
   "metadata": {},
   "outputs": [
    {
     "data": {
      "image/png": "[encoded data removed]",
      "text/plain": [
       "Plot with title \"PACF standardized residuals\""
      ]
     },
     "metadata": {},
     "output_type": "display_data"
    },
    {
     "data": {
      "image/png": "[encoded data removed]",
      "text/plain": [
       "Plot with title \"PACF squared standardized residuals\""
      ]
     },
     "metadata": {},
     "output_type": "display_data"
    }
   ],
   "source": [
    "resid_norm <- residuals(fit, standardize = TRUE)\n",
    "resid_sqrd_norm <- resid_norm^2\n",
    "par(mfrow = c(1,2))\n",
    "Acf(resid_norm, lag.max = 20, main=\"ACF standardized residuals\")\n",
    "Pacf(resid_norm, lag.max = 20, main=\"PACF standardized residuals\")\n",
    "\n",
    "par(mfrow = c(1,2))\n",
    "Acf(resid_sqrd_norm, lag.max = 20, main=\"ACF squared standardized residuals\")\n",
    "Pacf(resid_sqrd_norm, lag.max = 20, main=\"PACF squared standardized residuals\")"
   ]
  },
  {
   "cell_type": "code",
   "execution_count": null,
   "metadata": {},
   "outputs": [],
   "source": []
  },
  {
   "cell_type": "code",
   "execution_count": 25,
   "metadata": {},
   "outputs": [
    {
     "data": {
      "text/html": [
       "<ol class=list-inline>\n",
       "\t<li>1</li>\n",
       "\t<li>1</li>\n",
       "</ol>\n"
      ],
      "text/latex": [
       "\\begin{enumerate*}\n",
       "\\item 1\n",
       "\\item 1\n",
       "\\end{enumerate*}\n"
      ],
      "text/markdown": [
       "1. 1\n",
       "2. 1\n",
       "\n",
       "\n"
      ],
      "text/plain": [
       "[1] 1 1"
      ]
     },
     "metadata": {},
     "output_type": "display_data"
    }
   ],
   "source": [
    "# find the best GARCH model based on the AIC/BIC\n",
    "\n",
    "p_max <- 5\n",
    "q_max <- 5\n",
    "aic_min <- Inf\n",
    "best_p <- 0\n",
    "best_q <- 0\n",
    "\n",
    "for (i1 in 1:p_max) {\n",
    "    for (i2 in 1:q_max) {\n",
    "        model_specification <- ugarchspec(mean.model = list(armaOrder = c(1, 0), include.mean = TRUE), \n",
    "                     variance.model = list(garchOrder = c(i1, i2)))\n",
    "        fit <- ugarchfit(spec = model_specification, data = log_ret)\n",
    "        inf_crit <- infocriteria(fit)[2] #1 aic, 2 bic\n",
    "        aic_min <- ifelse(inf_crit < aic_min, inf_crit, aic_min)\n",
    "        \n",
    "        best_p <- ifelse(inf_crit == aic_min, i1, best_p)\n",
    "        best_q <- ifelse(inf_crit == aic_min, i2, best_q)\n",
    "    }\n",
    "}\n",
    "\n",
    "c(best_p, best_q)\n",
    "\n",
    "# specify the model that we want to estimate\n",
    "model_specification <- ugarchspec(mean.model = list(armaOrder = c(1, 0), include.mean = FALSE), \n",
    "                     variance.model = list(garchOrder = c(best_p, best_q)))\n",
    "# estimate the model\n",
    "fit <- ugarchfit(spec = model_specification, data = resid)\n",
    "\n",
    "# Explore the results\n",
    "\n",
    "#show(fit)\n",
    "\n",
    "# aic suggests arma(1,0)-garch(2,3)\n",
    "# bic suggests arma(1,0)-garch(1,1)"
   ]
  },
  {
   "cell_type": "markdown",
   "metadata": {},
   "source": [
    "Results of Sign Bias Test (testing presence of leverage effects) suggest there might be some asymmetries\n",
    "\n",
    "Maybe there are some asymmetries in our data $\\Rightarrow$ **TGARCH**"
   ]
  },
  {
   "cell_type": "markdown",
   "metadata": {},
   "source": [
    "## TGARCH (GJR-GARCH)\n",
    "We will find that certain assymetries might govern the financial time series.\n",
    "\n",
    "**Leverage effect:**\n",
    "- What happends when bad news / good news arrive to the market? - if the effect positive and negative news on volatility the same?\n",
    "- Does it have the same effect? Or it's assymetric?\n",
    "- How does it affect our model?\n",
    "\n",
    "Commonly, returns are asymmetric, and if we do not allow for such asymmetry, we have asymmetric residuals.\n",
    "\n",
    "Following model allows for assymetries in residuals: GJR-GARCH by Glosten, Jagannathan and Runkle (1993)\n",
    "\n",
    "$\\sigma_t^2=\\omega +\\alpha_1\\varepsilon_{t-1}^2 + \\gamma_1\\varepsilon_{t-1}^2I_{(\\varepsilon_{t-1}<0)} + \\beta_1 \\sigma_{t-1}^2$\n",
    "\n",
    "where $I(\\cdot)$ denotes indicator function which is 1 for past innovations with negative effect. \n",
    "\n",
    "TGARCH sometimes refers to the threshold GARCH model by Zakoian (1994) which has different specification."
   ]
  },
  {
   "cell_type": "markdown",
   "metadata": {},
   "source": [
    "### TGARCH"
   ]
  },
  {
   "cell_type": "code",
   "execution_count": 26,
   "metadata": {},
   "outputs": [],
   "source": [
    "#?ugarchspec"
   ]
  },
  {
   "cell_type": "code",
   "execution_count": 27,
   "metadata": {},
   "outputs": [
    {
     "data": {
      "text/plain": [
       "\n",
       "*---------------------------------*\n",
       "*          GARCH Model Fit        *\n",
       "*---------------------------------*\n",
       "\n",
       "Conditional Variance Dynamics \t\n",
       "-----------------------------------\n",
       "GARCH Model\t: gjrGARCH(1,1)\n",
       "Mean Model\t: ARFIMA(1,0,0)\n",
       "Distribution\t: norm \n",
       "\n",
       "Optimal Parameters\n",
       "------------------------------------\n",
       "        Estimate  Std. Error   t value Pr(>|t|)\n",
       "mu      0.000181    0.000436   0.41513 0.678043\n",
       "ar1     0.035739    0.019879   1.79785 0.072200\n",
       "omega   0.000008    0.000005   1.68274 0.092426\n",
       "alpha1  0.018442    0.002339   7.88464 0.000000\n",
       "beta1   0.949600    0.003471 273.57555 0.000000\n",
       "gamma1  0.047015    0.009056   5.19144 0.000000\n",
       "\n",
       "Robust Standard Errors:\n",
       "        Estimate  Std. Error   t value Pr(>|t|)\n",
       "mu      0.000181    0.001922  0.094091 0.925037\n",
       "ar1     0.035739    0.020331  1.757870 0.078770\n",
       "omega   0.000008    0.000035  0.237735 0.812087\n",
       "alpha1  0.018442    0.038477  0.479307 0.631720\n",
       "beta1   0.949600    0.022892 41.482130 0.000000\n",
       "gamma1  0.047015    0.023099  2.035388 0.041812\n",
       "\n",
       "LogLikelihood : 5933.479 \n",
       "\n",
       "Information Criteria\n",
       "------------------------------------\n",
       "                    \n",
       "Akaike       -4.2860\n",
       "Bayes        -4.2731\n",
       "Shibata      -4.2860\n",
       "Hannan-Quinn -4.2813\n",
       "\n",
       "Weighted Ljung-Box Test on Standardized Residuals\n",
       "------------------------------------\n",
       "                        statistic p-value\n",
       "Lag[1]                    0.04886  0.8251\n",
       "Lag[2*(p+q)+(p+q)-1][2]   0.06033  1.0000\n",
       "Lag[4*(p+q)+(p+q)-1][5]   0.40820  0.9968\n",
       "d.o.f=1\n",
       "H0 : No serial correlation\n",
       "\n",
       "Weighted Ljung-Box Test on Standardized Squared Residuals\n",
       "------------------------------------\n",
       "                        statistic p-value\n",
       "Lag[1]                    0.05852  0.8089\n",
       "Lag[2*(p+q)+(p+q)-1][5]   0.84405  0.8939\n",
       "Lag[4*(p+q)+(p+q)-1][9]   1.92996  0.9132\n",
       "d.o.f=2\n",
       "\n",
       "Weighted ARCH LM Tests\n",
       "------------------------------------\n",
       "            Statistic Shape Scale P-Value\n",
       "ARCH Lag[3]     0.893 0.500 2.000  0.3447\n",
       "ARCH Lag[5]     1.413 1.440 1.667  0.6155\n",
       "ARCH Lag[7]     2.228 2.315 1.543  0.6690\n",
       "\n",
       "Nyblom stability test\n",
       "------------------------------------\n",
       "Joint Statistic:  2.7763\n",
       "Individual Statistics:             \n",
       "mu     0.7472\n",
       "ar1    0.1580\n",
       "omega  0.6941\n",
       "alpha1 0.4341\n",
       "beta1  0.4083\n",
       "gamma1 0.3989\n",
       "\n",
       "Asymptotic Critical Values (10% 5% 1%)\n",
       "Joint Statistic:     \t 1.49 1.68 2.12\n",
       "Individual Statistic:\t 0.35 0.47 0.75\n",
       "\n",
       "Sign Bias Test\n",
       "------------------------------------\n",
       "                   t-value   prob sig\n",
       "Sign Bias           0.9016 0.3673    \n",
       "Negative Sign Bias  1.7029 0.0887   *\n",
       "Positive Sign Bias  0.4704 0.6381    \n",
       "Joint Effect        3.1716 0.3659    \n",
       "\n",
       "\n",
       "Adjusted Pearson Goodness-of-Fit Test:\n",
       "------------------------------------\n",
       "  group statistic p-value(g-1)\n",
       "1    20     90.36    2.869e-11\n",
       "2    30     98.14    1.935e-09\n",
       "3    40    119.90    3.683e-10\n",
       "4    50    127.75    6.004e-09\n",
       "\n",
       "\n",
       "Elapsed time : 0.4787869 \n"
      ]
     },
     "metadata": {},
     "output_type": "display_data"
    }
   ],
   "source": [
    "# specify the model that we want to estimate\n",
    "model_specification <- ugarchspec(mean.model = list(armaOrder = c(1, 0), include.mean = TRUE), \n",
    "                      variance.model = list(model = \"gjrGARCH\", garchOrder = c(1, 1)),\n",
    "                      distribution.model = \"norm\")\n",
    "# estimate the model\n",
    "fit <- ugarchfit(spec = model_specification, data = log_ret)\n",
    "\n",
    "# explore the results\n",
    "fit\n",
    "\n",
    "# based on BIC, GJC-GARCH is better than GARCH"
   ]
  },
  {
   "cell_type": "markdown",
   "metadata": {},
   "source": [
    "## Other Extensions of GARCH\n",
    "You can see, that GARCH is just special case of TGARCH, it is TGARCH without assymetries.\n",
    "\n",
    "We also know other models which can deal with different observations in data. Most important extensions to GARCH are following:\n",
    "- EGARCH: Exponential GARCH - leverage effect is exponential\n",
    "- IGARCH: unit-root GARCH, the key is that past squared shocks are persistent\n",
    "- GARCH-M: GARCH in mean, when the returns are dependent directly on their volatility"
   ]
  },
  {
   "cell_type": "markdown",
   "metadata": {
    "heading_collapsed": "true"
   },
   "source": [
    "### EGARCH (Nelson 1991)\n",
    "$$\n",
    "\\log _{e}\\left(\\sigma_{t}^{2}\\right)=\\omega+\\sum_{j=1}^{q}\\left(\\alpha_{j} z_{t-j}+\\gamma_{j}\\left(\\left|z_{t-j}\\right|-E\\left|z_{t-j}\\right|\\right)\\right)+\\sum_{j=1}^{p} \\beta_{j} \\log _{e}\\left(\\sigma_{t-j}^{2}\\right)\n",
    "$$\n",
    "\n",
    "$z_t = \\dfrac{e_t}{\\sqrt{\\sigma^2_t}}$ is the standardized innovation\n",
    "\n",
    "\n",
    "$\\alpha_j$ captures the sign effect and $\\gamma_j$ the size effect\n",
    "\n",
    "\n",
    "On the left side is log of the conditional variance, leverage effect is expected to be exponential, rather\n",
    "than quadratic, and forecasts (of variance) will be nonnegative.\n",
    "\n",
    "the impact will be\n",
    "asymmetric if $\\alpha \\neq 0$."
   ]
  },
  {
   "cell_type": "code",
   "execution_count": 28,
   "metadata": {},
   "outputs": [
    {
     "data": {
      "text/plain": [
       "\n",
       "*---------------------------------*\n",
       "*          GARCH Model Fit        *\n",
       "*---------------------------------*\n",
       "\n",
       "Conditional Variance Dynamics \t\n",
       "-----------------------------------\n",
       "GARCH Model\t: eGARCH(1,1)\n",
       "Mean Model\t: ARFIMA(1,0,0)\n",
       "Distribution\t: norm \n",
       "\n",
       "Optimal Parameters\n",
       "------------------------------------\n",
       "        Estimate  Std. Error    t value Pr(>|t|)\n",
       "mu      0.000064    0.000470    0.13559 0.892146\n",
       "ar1     0.044395    0.020937    2.12037 0.033975\n",
       "omega  -0.045097    0.002733  -16.49934 0.000000\n",
       "alpha1 -0.048319    0.002559  -18.87893 0.000000\n",
       "beta1   0.992957    0.000399 2486.98011 0.000000\n",
       "gamma1  0.087980    0.003494   25.17790 0.000000\n",
       "\n",
       "Robust Standard Errors:\n",
       "        Estimate  Std. Error    t value Pr(>|t|)\n",
       "mu      0.000064    0.000772   0.082462 0.934279\n",
       "ar1     0.044395    0.024476   1.813811 0.069707\n",
       "omega  -0.045097    0.010702  -4.214005 0.000025\n",
       "alpha1 -0.048319    0.017628  -2.741092 0.006124\n",
       "beta1   0.992957    0.001473 674.153018 0.000000\n",
       "gamma1  0.087980    0.021306   4.129338 0.000036\n",
       "\n",
       "LogLikelihood : 5939.53 \n",
       "\n",
       "Information Criteria\n",
       "------------------------------------\n",
       "                    \n",
       "Akaike       -4.2903\n",
       "Bayes        -4.2775\n",
       "Shibata      -4.2903\n",
       "Hannan-Quinn -4.2857\n",
       "\n",
       "Weighted Ljung-Box Test on Standardized Residuals\n",
       "------------------------------------\n",
       "                        statistic p-value\n",
       "Lag[1]                   0.003272  0.9544\n",
       "Lag[2*(p+q)+(p+q)-1][2]  0.009697  1.0000\n",
       "Lag[4*(p+q)+(p+q)-1][5]  0.196341  0.9997\n",
       "d.o.f=1\n",
       "H0 : No serial correlation\n",
       "\n",
       "Weighted Ljung-Box Test on Standardized Squared Residuals\n",
       "------------------------------------\n",
       "                        statistic p-value\n",
       "Lag[1]                     0.1842  0.6678\n",
       "Lag[2*(p+q)+(p+q)-1][5]    1.2252  0.8069\n",
       "Lag[4*(p+q)+(p+q)-1][9]    2.7777  0.7950\n",
       "d.o.f=2\n",
       "\n",
       "Weighted ARCH LM Tests\n",
       "------------------------------------\n",
       "            Statistic Shape Scale P-Value\n",
       "ARCH Lag[3]    0.7249 0.500 2.000  0.3945\n",
       "ARCH Lag[5]    1.6301 1.440 1.667  0.5588\n",
       "ARCH Lag[7]    2.8313 2.315 1.543  0.5460\n",
       "\n",
       "Nyblom stability test\n",
       "------------------------------------\n",
       "Joint Statistic:  1.7256\n",
       "Individual Statistics:             \n",
       "mu     0.5082\n",
       "ar1    0.2337\n",
       "omega  0.1422\n",
       "alpha1 0.1276\n",
       "beta1  0.1412\n",
       "gamma1 0.4345\n",
       "\n",
       "Asymptotic Critical Values (10% 5% 1%)\n",
       "Joint Statistic:     \t 1.49 1.68 2.12\n",
       "Individual Statistic:\t 0.35 0.47 0.75\n",
       "\n",
       "Sign Bias Test\n",
       "------------------------------------\n",
       "                   t-value    prob sig\n",
       "Sign Bias           1.5701 0.11652    \n",
       "Negative Sign Bias  1.9140 0.05573   *\n",
       "Positive Sign Bias  0.5734 0.56640    \n",
       "Joint Effect        4.2149 0.23918    \n",
       "\n",
       "\n",
       "Adjusted Pearson Goodness-of-Fit Test:\n",
       "------------------------------------\n",
       "  group statistic p-value(g-1)\n",
       "1    20     77.17    5.695e-09\n",
       "2    30     95.11    5.844e-09\n",
       "3    40    104.89    5.994e-08\n",
       "4    50    121.27    4.633e-08\n",
       "\n",
       "\n",
       "Elapsed time : 0.4619782 \n"
      ]
     },
     "metadata": {},
     "output_type": "display_data"
    }
   ],
   "source": [
    "# specify the model that we want to estimate\n",
    "model_specification <- ugarchspec(mean.model = list(armaOrder = c(1, 0), include.mean = TRUE), \n",
    "                      variance.model = list(model = \"eGARCH\", garchOrder = c(1, 1)))\n",
    "# estimate the model\n",
    "fit <- ugarchfit(spec = model_specification, data = log_ret)\n",
    "\n",
    "# explore the results\n",
    "fit\n",
    "\n",
    "# BIC lower than for simple garch model"
   ]
  },
  {
   "cell_type": "markdown",
   "metadata": {},
   "source": [
    "### IGARCH\n",
    "IGARCH models are unit-root GARCH models, their key feature is the assumption of the persistence of conditional volatility.\n",
    "\n",
    "IGARCH(1,1) is formalized as\n",
    "$$a_t = \\sigma_t\\epsilon_t,$$\n",
    "$$\\sigma_t^2= \\alpha_0 + \\beta_1\\sigma_{t-1}^2+(1-\\beta_1)a_{t-1}^2$$\n",
    "\n",
    "This model is stationary, however we should **check for omitted structural breaks** before using iGARCH."
   ]
  },
  {
   "cell_type": "code",
   "execution_count": 29,
   "metadata": {},
   "outputs": [
    {
     "data": {
      "text/plain": [
       "\n",
       "*---------------------------------*\n",
       "*          GARCH Model Fit        *\n",
       "*---------------------------------*\n",
       "\n",
       "Conditional Variance Dynamics \t\n",
       "-----------------------------------\n",
       "GARCH Model\t: iGARCH(1,1)\n",
       "Mean Model\t: ARFIMA(1,0,0)\n",
       "Distribution\t: norm \n",
       "\n",
       "Optimal Parameters\n",
       "------------------------------------\n",
       "        Estimate  Std. Error  t value Pr(>|t|)\n",
       "mu      0.000529    0.000513   1.0323 0.301916\n",
       "ar1     0.034904    0.020183   1.7294 0.083738\n",
       "omega   0.000006    0.000002   2.4100 0.015953\n",
       "alpha1  0.056725    0.008565   6.6227 0.000000\n",
       "beta1   0.943275          NA       NA       NA\n",
       "\n",
       "Robust Standard Errors:\n",
       "        Estimate  Std. Error  t value Pr(>|t|)\n",
       "mu      0.000529    0.000521  1.01493 0.310139\n",
       "ar1     0.034904    0.019430  1.79641 0.072430\n",
       "omega   0.000006    0.000007  0.74983 0.453357\n",
       "alpha1  0.056725    0.020776  2.73029 0.006328\n",
       "beta1   0.943275          NA       NA       NA\n",
       "\n",
       "LogLikelihood : 5913.797 \n",
       "\n",
       "Information Criteria\n",
       "------------------------------------\n",
       "                    \n",
       "Akaike       -4.2732\n",
       "Bayes        -4.2646\n",
       "Shibata      -4.2732\n",
       "Hannan-Quinn -4.2701\n",
       "\n",
       "Weighted Ljung-Box Test on Standardized Residuals\n",
       "------------------------------------\n",
       "                        statistic p-value\n",
       "Lag[1]                    0.04896  0.8249\n",
       "Lag[2*(p+q)+(p+q)-1][2]   0.05072  1.0000\n",
       "Lag[4*(p+q)+(p+q)-1][5]   0.56837  0.9904\n",
       "d.o.f=1\n",
       "H0 : No serial correlation\n",
       "\n",
       "Weighted Ljung-Box Test on Standardized Squared Residuals\n",
       "------------------------------------\n",
       "                        statistic p-value\n",
       "Lag[1]                    0.01905  0.8902\n",
       "Lag[2*(p+q)+(p+q)-1][5]   0.86729  0.8889\n",
       "Lag[4*(p+q)+(p+q)-1][9]   1.52601  0.9534\n",
       "d.o.f=2\n",
       "\n",
       "Weighted ARCH LM Tests\n",
       "------------------------------------\n",
       "            Statistic Shape Scale P-Value\n",
       "ARCH Lag[3]     1.318 0.500 2.000  0.2510\n",
       "ARCH Lag[5]     1.378 1.440 1.667  0.6250\n",
       "ARCH Lag[7]     1.833 2.315 1.543  0.7527\n",
       "\n",
       "Nyblom stability test\n",
       "------------------------------------\n",
       "Joint Statistic:  1.9316\n",
       "Individual Statistics:              \n",
       "mu     0.34637\n",
       "ar1    0.20083\n",
       "omega  0.07779\n",
       "alpha1 0.34253\n",
       "\n",
       "Asymptotic Critical Values (10% 5% 1%)\n",
       "Joint Statistic:     \t 1.07 1.24 1.6\n",
       "Individual Statistic:\t 0.35 0.47 0.75\n",
       "\n",
       "Sign Bias Test\n",
       "------------------------------------\n",
       "                   t-value   prob sig\n",
       "Sign Bias            1.103 0.2701    \n",
       "Negative Sign Bias   1.525 0.1275    \n",
       "Positive Sign Bias   1.423 0.1548    \n",
       "Joint Effect         4.531 0.2095    \n",
       "\n",
       "\n",
       "Adjusted Pearson Goodness-of-Fit Test:\n",
       "------------------------------------\n",
       "  group statistic p-value(g-1)\n",
       "1    20     120.4    9.487e-17\n",
       "2    30     132.6    3.373e-15\n",
       "3    40     145.4    3.590e-14\n",
       "4    50     158.7    1.670e-13\n",
       "\n",
       "\n",
       "Elapsed time : 0.420109 \n"
      ]
     },
     "metadata": {},
     "output_type": "display_data"
    }
   ],
   "source": [
    "# specify the model that we want to estimate\n",
    "model_specification <- ugarchspec(mean.model = list(armaOrder = c(1, 0), include.mean = TRUE), \n",
    "                      variance.model = list(model = \"iGARCH\", garchOrder = c(1, 1)))\n",
    "# estimate the model\n",
    "fit <- ugarchfit(spec = model_specification, data = log_ret)\n",
    "fit\n",
    "# Beta is in this case not estimated but calculated - we do not have errors for beta"
   ]
  },
  {
   "cell_type": "markdown",
   "metadata": {},
   "source": [
    "# Multivariate GARCH\n",
    "Generalization of univariate models.\n",
    "\n",
    "Modeling of covariances and correlations - forecasting.\n",
    "\n",
    "We allow covariances and correlations to be time-varying.\n",
    "\n",
    "**Problem?** Very large number of parameters to be estimated $\\Rightarrow$ curse of dimensionality problem.\n",
    "\n",
    "Types of multivariate GARCH models:\n",
    "- VECH - too many parameters, PD of the conditional variance matrix is not ensured\n",
    "- diagonal VECH - less parameters, PD of the conditional variance matrix is not ensured\n",
    "- BEKK - ensures PD of $H_t$\n",
    "- CCC GARCH\n",
    "- DCC GARCH - less computationally complex, non linear combination of univariate GARCH\n",
    "- Asymmetric Generalized DCC\n",
    "- ..."
   ]
  },
  {
   "cell_type": "markdown",
   "metadata": {},
   "source": [
    "### Dynamic Conditional Correlation GARCH\n",
    "The dynamic conditional correlation generalized autoregressive conditional heteroscedasticity (DCC-GARCH) is a widely used multivariate GARCH model in practice. It is a generalization of constant conditional correlation GARCH, with time-varying correlation matrix $R$. The model is defined as\n",
    "\n",
    "\\begin{equation}\n",
    "H_t=D_t R_t D_t ,\n",
    "\\end{equation}\n",
    "\n",
    "where $D_t$ is a diagonal matrix of conditional time varying standard deviations, $D_t=diag\\left(\\sqrt {h_{i,t}}\\right)$, and $h_{i,t}$ are univariate GARCH processes, $h_{i,t}=\\omega_i+\\sum\\limits_ {p=1}^{P_i}\\alpha_{i,p}r_{i,t-p}^2+\\sum\\limits_{q=1}^{Q_i} \\beta_{i,q} h_{i,t-q}$. The dynamics of the correlation matrix are given by transformation: \n",
    "\\begin{equation}\n",
    "R_t=Q_t^{*-1}Q_tQ_t^{*-1} ,\n",
    "\\end{equation}\n",
    "where $Q_t=\\left(1-\\sum\\limits_{m=1}^{M} \\alpha_{m}-\\sum\\limits_{n=1}^{N}\\beta_{n} \\right)\\bar{Q}+\\sum\\limits_{m=1}^{M}A_{m}\\left(\\epsilon_{t-m}\\epsilon_{t-m}^T \\right)+\\sum\\limits_{n=1}^{N}B_{n}Q_{t-n}$ ,$\\bar{Q}$ is the unconditional covariance matrix of the standardized residuals from the univariate GARCH processes and $Q_t^*=diag\\left(\\sqrt{q_{ii,t}}\\right)$."
   ]
  },
  {
   "cell_type": "code",
   "execution_count": 30,
   "metadata": {},
   "outputs": [
    {
     "name": "stdout",
     "output_type": "stream",
     "text": [
      "'data.frame':\t964 obs. of  2 variables:\n",
      " $ V1: num  1162 1137 1168 1169 1161 ...\n",
      " $ V2: num  1970 1980 1998 1989 1985 ...\n",
      " num [1:963, 1:2] -0.021574 0.027066 0.000428 -0.006437 0.013428 ...\n",
      " - attr(*, \"dimnames\")=List of 2\n",
      "  ..$ : NULL\n",
      "  ..$ : chr [1:2] \"V1\" \"V2\"\n"
     ]
    }
   ],
   "source": [
    "data_DCC <- read.table(\"PX_WIG_2005_2009.txt\") # load data Prague stock exchange index and Warsaw index\n",
    "\n",
    "str(data_DCC)\n",
    "#ret_DCC <- cbind(diff(log(data_DCC[,1])),diff(log(data_DCC[,2])))\n",
    "ret_DCC <- apply(data_DCC,2,function(x) diff(log(x), lag = 1))\n",
    "#ret_DCC==ret_DCC_1\n",
    "str(ret_DCC)"
   ]
  },
  {
   "cell_type": "code",
   "execution_count": 31,
   "metadata": {},
   "outputs": [],
   "source": [
    "#?dccspec"
   ]
  },
  {
   "cell_type": "code",
   "execution_count": 32,
   "metadata": {},
   "outputs": [
    {
     "data": {
      "text/plain": [
       "\n",
       "*---------------------------------*\n",
       "*          DCC GARCH Fit          *\n",
       "*---------------------------------*\n",
       "\n",
       "Distribution         :  mvnorm\n",
       "Model                :  DCC(1,1)\n",
       "No. Parameters       :  11\n",
       "[VAR GARCH DCC UncQ] : [0+8+2+1]\n",
       "No. Series           :  2\n",
       "No. Obs.             :  963\n",
       "Log-Likelihood       :  5615.921\n",
       "Av.Log-Likelihood    :  5.83 \n",
       "\n",
       "Optimal Parameters\n",
       "-----------------------------------\n",
       "              Estimate  Std. Error  t value Pr(>|t|)\n",
       "[V1].mu       0.000863    0.000348   2.4795 0.013158\n",
       "[V1].omega    0.000005    0.000004   1.1007 0.271033\n",
       "[V1].alpha1   0.184944    0.029871   6.1914 0.000000\n",
       "[V1].beta1    0.814056    0.022552  36.0973 0.000000\n",
       "[V2].mu       0.000756    0.000477   1.5849 0.112990\n",
       "[V2].omega    0.000005    0.000003   1.4711 0.141268\n",
       "[V2].alpha1   0.086987    0.017269   5.0370 0.000000\n",
       "[V2].beta1    0.902128    0.016711  53.9851 0.000000\n",
       "[Joint]dcca1  0.027135    0.010908   2.4876 0.012860\n",
       "[Joint]dccb1  0.918637    0.033095  27.7579 0.000000\n",
       "\n",
       "Information Criteria\n",
       "---------------------\n",
       "                    \n",
       "Akaike       -11.641\n",
       "Bayes        -11.585\n",
       "Shibata      -11.641\n",
       "Hannan-Quinn -11.619\n",
       "\n",
       "\n",
       "Elapsed time : 0.886024 \n"
      ]
     },
     "metadata": {},
     "output_type": "display_data"
    }
   ],
   "source": [
    "spec <- ugarchspec(mean.model = list(armaOrder = c(0, 0), include.mean = TRUE), \n",
    "                   variance.model = list(model = \"sGARCH\", garchOrder = c(1, 1)))\n",
    "mspec <- multispec(replicate(2, spec)) # using the same specification for both assets\n",
    "\n",
    "spec_dcc <- dccspec(mspec, dccOrder = c(1,1), model = c(\"DCC\"))\n",
    "fit_dcc <- dccfit(spec_dcc, data = ret_DCC)\n",
    "\n",
    "fit_dcc"
   ]
  },
  {
   "cell_type": "code",
   "execution_count": 33,
   "metadata": {},
   "outputs": [
    {
     "name": "stdout",
     "output_type": "stream",
     "text": [
      " num [1:2, 1:2, 1:963] 1 0.628 0.628 1 1 ...\n",
      " - attr(*, \"dimnames\")=List of 3\n",
      "  ..$ : chr [1:2] \"V1\" \"V2\"\n",
      "  ..$ : chr [1:2] \"V1\" \"V2\"\n",
      "  ..$ : chr [1:963] \"1970-01-02 01:00:00\" \"1970-01-03 01:00:00\" \"1970-01-04 01:00:00\" \"1970-01-05 01:00:00\" ...\n"
     ]
    },
    {
     "data": {
      "image/png": "[encoded data removed]",
      "text/plain": [
       "plot without title"
      ]
     },
     "metadata": {},
     "output_type": "display_data"
    }
   ],
   "source": [
    "cor_dcc <- rcor(fit_dcc)\n",
    "str(cor_dcc)\n",
    "plot.ts(cor_dcc[1,2,], ylab = \"Correlation PX - WIG\")"
   ]
  },
  {
   "cell_type": "code",
   "execution_count": 34,
   "metadata": {},
   "outputs": [
    {
     "data": {
      "image/png": "[encoded data removed]",
      "text/plain": [
       "plot without title"
      ]
     },
     "metadata": {},
     "output_type": "display_data"
    }
   ],
   "source": [
    "plot.ts(ret_DCC)"
   ]
  },
  {
   "cell_type": "code",
   "execution_count": 35,
   "metadata": {},
   "outputs": [
    {
     "name": "stdout",
     "output_type": "stream",
     "text": [
      "'data.frame':\t963 obs. of  2 variables:\n",
      " $ V1: num  -1.4962 1.3591 0.0954 -0.3896 0.683 ...\n",
      " $ V2: num  0.7922 0.031 -0.3918 -0.0098 0.1605 ...\n"
     ]
    },
    {
     "data": {
      "image/png": "[encoded data removed]",
      "text/plain": [
       "Plot with title \"WIG\""
      ]
     },
     "metadata": {},
     "output_type": "display_data"
    }
   ],
   "source": [
    "# analysis of residuals: \n",
    "resid_dcc <- fit_dcc@mfit$stdresid  # accessing the standardized residuals from the model\n",
    "resid_dcc = as.data.frame(resid_dcc)\n",
    "str(resid_dcc)\n",
    "par(mfrow = c(2,2))\n",
    "Acf(resid_dcc$V1, lag.max = 50, main = \"PX\")\n",
    "Pacf(resid_dcc$V1, lag.max = 50, main = \"PX\")\n",
    "Acf(resid_dcc$V2, lag.max = 50, main = \"WIG\")\n",
    "Pacf(resid_dcc$V2, lag.max = 50, main = \"WIG\")"
   ]
  },
  {
   "cell_type": "code",
   "execution_count": 36,
   "metadata": {},
   "outputs": [
    {
     "data": {
      "image/png": "[encoded data removed]",
      "text/plain": [
       "Plot with title \"WIG\""
      ]
     },
     "metadata": {},
     "output_type": "display_data"
    }
   ],
   "source": [
    "resid_dcc_sqrd<-resid_dcc^2\n",
    "\n",
    "par(mfrow = c(2,2))\n",
    "Acf(resid_dcc_sqrd$V1, lag.max = 50, main = \"PX\")\n",
    "Pacf(resid_dcc_sqrd$V1, lag.max = 50, main = \"PX\")\n",
    "Acf(resid_dcc_sqrd$V2, lag.max = 50, main = \"WIG\")\n",
    "Pacf(resid_dcc_sqrd$V2, lag.max = 50, main = \"WIG\")"
   ]
  },
  {
   "cell_type": "code",
   "execution_count": 37,
   "metadata": {},
   "outputs": [
    {
     "data": {
      "image/png": "[encoded data removed]",
      "text/plain": [
       "Plot with title \"Histogram of resid_dcc$V1\""
      ]
     },
     "metadata": {},
     "output_type": "display_data"
    }
   ],
   "source": [
    "hist(resid_dcc$V1, breaks=50,freq=FALSE)\n",
    "curve(dnorm(x, mean=0, sd=1), \n",
    "      col=\"darkgreen\", lwd=2, add=TRUE, yaxt=\"n\")"
   ]
  },
  {
   "cell_type": "code",
   "execution_count": 38,
   "metadata": {},
   "outputs": [
    {
     "data": {
      "image/png": "[encoded data removed]",
      "text/plain": [
       "Plot with title \"Histogram of resid_dcc$V2\""
      ]
     },
     "metadata": {},
     "output_type": "display_data"
    }
   ],
   "source": [
    "hist(resid_dcc$V2, breaks=50,freq=FALSE)\n",
    "curve(dnorm(x, mean=0, sd=1), \n",
    "      col=\"darkgreen\", lwd=2, add=TRUE, yaxt=\"n\")"
   ]
  },
  {
   "cell_type": "code",
   "execution_count": null,
   "metadata": {},
   "outputs": [],
   "source": []
  },
  {
   "cell_type": "markdown",
   "metadata": {},
   "source": [
    "# Exercise\n",
    "- following the Box Jenkins methodology, find a suitable ARMA-GARCH model and estimate it.\n",
    "- if there is asymmetry, consider GARCH extensions\n",
    "- interpretation, checking standardized residuals and appropriate tests,..."
   ]
  },
  {
   "cell_type": "code",
   "execution_count": 39,
   "metadata": {},
   "outputs": [],
   "source": [
    "# EUR-USD exchange rate data\n",
    "data <- read.csv(\"EUR=X2.csv\", na.strings = c(\"\", \"null\"))\n",
    "data$Adj.Close <- as.numeric(as.character(data$Adj.Close))\n",
    "data$log_returns <- c(NA, diff(log(data$Adj.Close))) \n",
    "data <- data[!is.na(data$log_returns), ]\n",
    "returns = data['log_returns']"
   ]
  },
  {
   "cell_type": "code",
   "execution_count": null,
   "metadata": {},
   "outputs": [],
   "source": []
  }
 ],
 "metadata": {
  "kernelspec": {
   "display_name": "R [conda env:r_env_testing]",
   "language": "R",
   "name": "conda-env-r_env_testing-r"
  },
  "language_info": {
   "codemirror_mode": "r",
   "file_extension": ".r",
   "mimetype": "text/x-r-source",
   "name": "R",
   "pygments_lexer": "r",
   "version": "3.6.1"
  }
 },
 "nbformat": 4,
 "nbformat_minor": 4
}
