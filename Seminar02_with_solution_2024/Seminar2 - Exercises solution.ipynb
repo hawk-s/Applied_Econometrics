{
 "cells": [
  {
   "cell_type": "markdown",
   "metadata": {},
   "source": [
    "# Solution to exercises in seminar 2"
   ]
  },
  {
   "cell_type": "markdown",
   "metadata": {
    "heading_collapsed": "true"
   },
   "source": [
    "### Exercise - Gaussian white noise\n",
    "<font color='red'>Questions</font>:\n",
    "- How does the ACF and PACF looks like for the white noise process?\n",
    "- Simulate Gaussian white noise and check its ACF and PACF."
   ]
  },
  {
   "cell_type": "markdown",
   "metadata": {},
   "source": [
    "White noise - variables are independent and identically distributed with a mean of zero. It does not contain any information that would help in estimation.\n",
    "$ y_t = e_t, $ where $e_t\\sim N(0,1)$"
   ]
  },
  {
   "cell_type": "code",
   "execution_count": 32,
   "metadata": {},
   "outputs": [],
   "source": [
    "library('tseries')\n",
    "library('forecast') \n",
    "set.seed = 42\n",
    "series = rnorm(100)"
   ]
  },
  {
   "cell_type": "code",
   "execution_count": 7,
   "metadata": {},
   "outputs": [
    {
     "data": {
      "image/png": "[encoded data removed]",
      "text/plain": [
       "plot without title"
      ]
     },
     "metadata": {},
     "output_type": "display_data"
    }
   ],
   "source": [
    "#plotting the time series\n",
    "options(repr.plot.width=8, repr.plot.height=3) # set the plot size\n",
    "ts.plot(series)"
   ]
  },
  {
   "cell_type": "code",
   "execution_count": 8,
   "metadata": {},
   "outputs": [
    {
     "data": {
      "image/png": "[encoded data removed]",
      "text/plain": [
       "Plot with title \"Series  series\""
      ]
     },
     "metadata": {},
     "output_type": "display_data"
    }
   ],
   "source": [
    "options(repr.plot.width=8, repr.plot.height=3) # set the plot size\n",
    "par(mfrow=c(1,2))\n",
    "Acf(series)\n",
    "Pacf(series)"
   ]
  },
  {
   "cell_type": "markdown",
   "metadata": {
    "heading_collapsed": "true"
   },
   "source": [
    "### Exercise - ADF test\n",
    "\n",
    "<font color='red'>Question:</font>\n",
    "- Investigate power of the ADF test. Simulate 1000 times Gaussian white noise process of length 50 and look at the rejection rate at the 5% significance level."
   ]
  },
  {
   "cell_type": "code",
   "execution_count": 9,
   "metadata": {},
   "outputs": [],
   "source": [
    "library(tseries) # needed for the adf.test function"
   ]
  },
  {
   "cell_type": "code",
   "execution_count": 10,
   "metadata": {},
   "outputs": [
    {
     "data": {
      "text/html": [
       "<ol class=list-inline>\n",
       "\t<li>0.54966989312443</li>\n",
       "\t<li>-0.841603744622454</li>\n",
       "\t<li>0.0329979357019235</li>\n",
       "\t<li>0.52414970793641</li>\n",
       "\t<li>-1.72760411179603</li>\n",
       "</ol>\n"
      ],
      "text/latex": [
       "\\begin{enumerate*}\n",
       "\\item 0.54966989312443\n",
       "\\item -0.841603744622454\n",
       "\\item 0.0329979357019235\n",
       "\\item 0.52414970793641\n",
       "\\item -1.72760411179603\n",
       "\\end{enumerate*}\n"
      ],
      "text/markdown": [
       "1. 0.54966989312443\n",
       "2. -0.841603744622454\n",
       "3. 0.0329979357019235\n",
       "4. 0.52414970793641\n",
       "5. -1.72760411179603\n",
       "\n",
       "\n"
      ],
      "text/plain": [
       "[1]  0.54966989 -0.84160374  0.03299794  0.52414971 -1.72760411"
      ]
     },
     "metadata": {},
     "output_type": "display_data"
    }
   ],
   "source": [
    "# generate gaussian white noise once:\n",
    "set.seed(50)\n",
    "series = rnorm(50)\n",
    "\n",
    "#look at first five observations\n",
    "series[0:5] \n"
   ]
  },
  {
   "cell_type": "code",
   "execution_count": 11,
   "metadata": {},
   "outputs": [
    {
     "name": "stderr",
     "output_type": "stream",
     "text": [
      "Warning message in adf.test(series, k = 0):\n",
      "\"p-value smaller than printed p-value\""
     ]
    },
    {
     "data": {
      "text/plain": [
       "\n",
       "\tAugmented Dickey-Fuller Test\n",
       "\n",
       "data:  series\n",
       "Dickey-Fuller = -6.6491, Lag order = 0, p-value = 0.01\n",
       "alternative hypothesis: stationary\n"
      ]
     },
     "metadata": {},
     "output_type": "display_data"
    }
   ],
   "source": [
    "# check adf test for this time series:\n",
    "test_result = adf.test(series, k=0) # specify the AR order, zero for the simplest Dickey Fuller test\n",
    "test_result"
   ]
  },
  {
   "cell_type": "code",
   "execution_count": 12,
   "metadata": {},
   "outputs": [],
   "source": [
    "# if the p value is small we will get a warning\n",
    "# to suppress it, we can use:\n",
    "test_result = suppressWarnings(adf.test(series, k=0))"
   ]
  },
  {
   "cell_type": "code",
   "execution_count": 13,
   "metadata": {},
   "outputs": [
    {
     "data": {
      "text/html": [
       "<dl>\n",
       "\t<dt>$names</dt>\n",
       "\t\t<dd><ol class=list-inline>\n",
       "\t<li>'statistic'</li>\n",
       "\t<li>'parameter'</li>\n",
       "\t<li>'alternative'</li>\n",
       "\t<li>'p.value'</li>\n",
       "\t<li>'method'</li>\n",
       "\t<li>'data.name'</li>\n",
       "</ol>\n",
       "</dd>\n",
       "\t<dt>$class</dt>\n",
       "\t\t<dd>'htest'</dd>\n",
       "</dl>\n"
      ],
      "text/latex": [
       "\\begin{description}\n",
       "\\item[\\$names] \\begin{enumerate*}\n",
       "\\item 'statistic'\n",
       "\\item 'parameter'\n",
       "\\item 'alternative'\n",
       "\\item 'p.value'\n",
       "\\item 'method'\n",
       "\\item 'data.name'\n",
       "\\end{enumerate*}\n",
       "\n",
       "\\item[\\$class] 'htest'\n",
       "\\end{description}\n"
      ],
      "text/markdown": [
       "$names\n",
       ":   1. 'statistic'\n",
       "2. 'parameter'\n",
       "3. 'alternative'\n",
       "4. 'p.value'\n",
       "5. 'method'\n",
       "6. 'data.name'\n",
       "\n",
       "\n",
       "\n",
       "$class\n",
       ":   'htest'\n",
       "\n",
       "\n"
      ],
      "text/plain": [
       "$names\n",
       "[1] \"statistic\"   \"parameter\"   \"alternative\" \"p.value\"     \"method\"     \n",
       "[6] \"data.name\"  \n",
       "\n",
       "$class\n",
       "[1] \"htest\"\n"
      ]
     },
     "metadata": {},
     "output_type": "display_data"
    }
   ],
   "source": [
    "# check what can we find from this test\n",
    "attributes(test_result)"
   ]
  },
  {
   "cell_type": "code",
   "execution_count": 14,
   "metadata": {},
   "outputs": [
    {
     "data": {
      "text/html": [
       "0.01"
      ],
      "text/latex": [
       "0.01"
      ],
      "text/markdown": [
       "0.01"
      ],
      "text/plain": [
       "[1] 0.01"
      ]
     },
     "metadata": {},
     "output_type": "display_data"
    }
   ],
   "source": [
    "# get the p-value from the adf test\n",
    "test_result$p.value"
   ]
  },
  {
   "cell_type": "code",
   "execution_count": 15,
   "metadata": {},
   "outputs": [
    {
     "data": {
      "text/html": [
       "TRUE"
      ],
      "text/latex": [
       "TRUE"
      ],
      "text/markdown": [
       "TRUE"
      ],
      "text/plain": [
       "[1] TRUE"
      ]
     },
     "metadata": {},
     "output_type": "display_data"
    }
   ],
   "source": [
    "# compare to 0.05 and check whether the null hypothesis is rejected:\n",
    "test_result$p.value < 0.05"
   ]
  },
  {
   "cell_type": "code",
   "execution_count": null,
   "metadata": {},
   "outputs": [],
   "source": []
  },
  {
   "cell_type": "code",
   "execution_count": 16,
   "metadata": {},
   "outputs": [],
   "source": [
    "# add all of this into a for loop and collect true/false for each we perform the test on simulated times series\n",
    "TT=1000\n",
    "a=array() # we will add the true or false to this array\n",
    "\n",
    "for (t in 1:TT) {\n",
    "    series = rnorm(50)\n",
    "    test_result = suppressWarnings(adf.test(series, k=0))\n",
    "    a[t] = test_result$p.value<0.05\n",
    "}"
   ]
  },
  {
   "cell_type": "code",
   "execution_count": 17,
   "metadata": {},
   "outputs": [
    {
     "data": {
      "text/html": [
       "1000"
      ],
      "text/latex": [
       "1000"
      ],
      "text/markdown": [
       "1000"
      ],
      "text/plain": [
       "[1] 1000"
      ]
     },
     "metadata": {},
     "output_type": "display_data"
    }
   ],
   "source": [
    "#the null hypothesis (of unit root) was rejected in \n",
    "sum(a)"
   ]
  },
  {
   "cell_type": "code",
   "execution_count": 18,
   "metadata": {},
   "outputs": [
    {
     "data": {
      "text/html": [
       "1000"
      ],
      "text/latex": [
       "1000"
      ],
      "text/markdown": [
       "1000"
      ],
      "text/plain": [
       "[1] 1000"
      ]
     },
     "metadata": {},
     "output_type": "display_data"
    }
   ],
   "source": [
    "# out of \n",
    "length(a)"
   ]
  },
  {
   "cell_type": "code",
   "execution_count": 14,
   "metadata": {},
   "outputs": [],
   "source": [
    "# there is quite a difference in results depending on parameter k"
   ]
  },
  {
   "cell_type": "markdown",
   "metadata": {},
   "source": [
    "### Exercise - time series stationarity\n",
    "<font color='red'>Question:</font> \n",
    "Perform the basic analysis of the series by yourself.\n",
    "\n",
    "- plot the time series, ACF and PACF\n",
    "- stationarity?\n",
    "- transformations?"
   ]
  },
  {
   "cell_type": "code",
   "execution_count": 19,
   "metadata": {},
   "outputs": [
    {
     "data": {
      "image/png": "[encoded data removed]",
      "text/plain": [
       "plot without title"
      ]
     },
     "metadata": {},
     "output_type": "display_data"
    }
   ],
   "source": [
    "library('tseries')   #Time Series Analysis and Computational Finance \n",
    "library('forecast') #Forecasting Functions for Time Series and Linear Models \n",
    "library('repr') #Serializable Representations \n",
    "\n",
    "options(repr.plot.width=8, repr.plot.height=3)\n",
    "rm(list = ls())\n",
    "data <- read.table(\"PX50_2007_2008.txt\")\n",
    "data <- as.matrix(data) \n",
    "plot.ts(data)"
   ]
  },
  {
   "cell_type": "markdown",
   "metadata": {},
   "source": [
    "#### solution:"
   ]
  },
  {
   "cell_type": "code",
   "execution_count": 20,
   "metadata": {},
   "outputs": [
    {
     "data": {
      "text/html": [
       "<table>\n",
       "<thead><tr><th scope=col>V1</th></tr></thead>\n",
       "<tbody>\n",
       "\t<tr><td>1618.3</td></tr>\n",
       "\t<tr><td>1617.9</td></tr>\n",
       "\t<tr><td>1614.2</td></tr>\n",
       "\t<tr><td>1599.9</td></tr>\n",
       "\t<tr><td>1590.9</td></tr>\n",
       "\t<tr><td>1589.3</td></tr>\n",
       "</tbody>\n",
       "</table>\n"
      ],
      "text/latex": [
       "\\begin{tabular}{l}\n",
       " V1\\\\\n",
       "\\hline\n",
       "\t 1618.3\\\\\n",
       "\t 1617.9\\\\\n",
       "\t 1614.2\\\\\n",
       "\t 1599.9\\\\\n",
       "\t 1590.9\\\\\n",
       "\t 1589.3\\\\\n",
       "\\end{tabular}\n"
      ],
      "text/markdown": [
       "\n",
       "| V1 |\n",
       "|---|\n",
       "| 1618.3 |\n",
       "| 1617.9 |\n",
       "| 1614.2 |\n",
       "| 1599.9 |\n",
       "| 1590.9 |\n",
       "| 1589.3 |\n",
       "\n"
      ],
      "text/plain": [
       "     V1    \n",
       "[1,] 1618.3\n",
       "[2,] 1617.9\n",
       "[3,] 1614.2\n",
       "[4,] 1599.9\n",
       "[5,] 1590.9\n",
       "[6,] 1589.3"
      ]
     },
     "metadata": {},
     "output_type": "display_data"
    }
   ],
   "source": [
    "head(data)"
   ]
  },
  {
   "cell_type": "code",
   "execution_count": 21,
   "metadata": {},
   "outputs": [],
   "source": [
    "# looking at the time series of prices:"
   ]
  },
  {
   "cell_type": "code",
   "execution_count": 22,
   "metadata": {},
   "outputs": [
    {
     "data": {
      "text/plain": [
       "       V1      \n",
       " Min.   :1405  \n",
       " 1st Qu.:1672  \n",
       " Median :1771  \n",
       " Mean   :1747  \n",
       " 3rd Qu.:1832  \n",
       " Max.   :1936  "
      ]
     },
     "metadata": {},
     "output_type": "display_data"
    }
   ],
   "source": [
    "# summary statistics\n",
    "summary(data)\n",
    "\n",
    "# there are different functions how to obtain summary statistics\n",
    "# we would probably like to include variance, skewness and kurtosis \n",
    "\n",
    "# library(Hmisc) \n",
    "# describe(data)"
   ]
  },
  {
   "cell_type": "code",
   "execution_count": 24,
   "metadata": {},
   "outputs": [
    {
     "data": {
      "image/png": "[encoded data removed]",
      "text/plain": [
       "Plot with title \"PACF\""
      ]
     },
     "metadata": {},
     "output_type": "display_data"
    }
   ],
   "source": [
    "# ACF and PACF of the time series (price of the index)\n",
    "par(mfrow = c(1,2))\n",
    "Acf(data, main = \"ACF\")\n",
    "Pacf(data, main = \"PACF\")"
   ]
  },
  {
   "cell_type": "code",
   "execution_count": 25,
   "metadata": {},
   "outputs": [],
   "source": [
    "# transformations: log returns\n",
    "returns <- diff(log(data))"
   ]
  },
  {
   "cell_type": "code",
   "execution_count": 26,
   "metadata": {},
   "outputs": [
    {
     "data": {
      "text/html": [
       "<table>\n",
       "<thead><tr><th scope=col>V1</th></tr></thead>\n",
       "<tbody>\n",
       "\t<tr><td>-0.0002472035</td></tr>\n",
       "\t<tr><td>-0.0022895341</td></tr>\n",
       "\t<tr><td>-0.0088983506</td></tr>\n",
       "\t<tr><td>-0.0056412335</td></tr>\n",
       "\t<tr><td>-0.0010062261</td></tr>\n",
       "\t<tr><td>-0.0152161688</td></tr>\n",
       "</tbody>\n",
       "</table>\n"
      ],
      "text/latex": [
       "\\begin{tabular}{l}\n",
       " V1\\\\\n",
       "\\hline\n",
       "\t -0.0002472035\\\\\n",
       "\t -0.0022895341\\\\\n",
       "\t -0.0088983506\\\\\n",
       "\t -0.0056412335\\\\\n",
       "\t -0.0010062261\\\\\n",
       "\t -0.0152161688\\\\\n",
       "\\end{tabular}\n"
      ],
      "text/markdown": [
       "\n",
       "| V1 |\n",
       "|---|\n",
       "| -0.0002472035 |\n",
       "| -0.0022895341 |\n",
       "| -0.0088983506 |\n",
       "| -0.0056412335 |\n",
       "| -0.0010062261 |\n",
       "| -0.0152161688 |\n",
       "\n"
      ],
      "text/plain": [
       "     V1           \n",
       "[1,] -0.0002472035\n",
       "[2,] -0.0022895341\n",
       "[3,] -0.0088983506\n",
       "[4,] -0.0056412335\n",
       "[5,] -0.0010062261\n",
       "[6,] -0.0152161688"
      ]
     },
     "metadata": {},
     "output_type": "display_data"
    }
   ],
   "source": [
    "head(returns)"
   ]
  },
  {
   "cell_type": "code",
   "execution_count": 27,
   "metadata": {},
   "outputs": [
    {
     "data": {
      "text/plain": [
       "       V1            \n",
       " Min.   :-0.0567315  \n",
       " 1st Qu.:-0.0071768  \n",
       " Median : 0.0003281  \n",
       " Mean   :-0.0001109  \n",
       " 3rd Qu.: 0.0078406  \n",
       " Max.   : 0.0808362  "
      ]
     },
     "metadata": {},
     "output_type": "display_data"
    }
   ],
   "source": [
    "summary(returns)"
   ]
  },
  {
   "cell_type": "code",
   "execution_count": 28,
   "metadata": {},
   "outputs": [
    {
     "data": {
      "image/png": "[encoded data removed]",
      "text/plain": [
       "plot without title"
      ]
     },
     "metadata": {},
     "output_type": "display_data"
    }
   ],
   "source": [
    "# plot the returns\n",
    "ts.plot(returns)"
   ]
  },
  {
   "cell_type": "code",
   "execution_count": 29,
   "metadata": {},
   "outputs": [
    {
     "data": {
      "image/png": "[encoded data removed]",
      "text/plain": [
       "Plot with title \"PACF\""
      ]
     },
     "metadata": {},
     "output_type": "display_data"
    }
   ],
   "source": [
    "# ACF PACF\n",
    "par(mfrow = c(1,2))\n",
    "Acf(returns, main = \"ACF\")\n",
    "Pacf(returns, main = \"PACF\")"
   ]
  },
  {
   "cell_type": "code",
   "execution_count": 30,
   "metadata": {},
   "outputs": [
    {
     "data": {
      "text/plain": [
       "\n",
       "\tAugmented Dickey-Fuller Test\n",
       "\n",
       "data:  data\n",
       "Dickey-Fuller = -1.7356, Lag order = 6, p-value = 0.6876\n",
       "alternative hypothesis: stationary\n"
      ]
     },
     "metadata": {},
     "output_type": "display_data"
    },
    {
     "name": "stderr",
     "output_type": "stream",
     "text": [
      "Warning message in adf.test(returns):\n",
      "\"p-value smaller than printed p-value\""
     ]
    },
    {
     "data": {
      "text/plain": [
       "\n",
       "\tAugmented Dickey-Fuller Test\n",
       "\n",
       "data:  returns\n",
       "Dickey-Fuller = -6.5031, Lag order = 6, p-value = 0.01\n",
       "alternative hypothesis: stationary\n"
      ]
     },
     "metadata": {},
     "output_type": "display_data"
    }
   ],
   "source": [
    "# testing stationarity:\n",
    "adf.test(data)\n",
    "adf.test(returns)"
   ]
  },
  {
   "cell_type": "code",
   "execution_count": 31,
   "metadata": {},
   "outputs": [
    {
     "name": "stderr",
     "output_type": "stream",
     "text": [
      "Warning message in kpss.test(data):\n",
      "\"p-value smaller than printed p-value\""
     ]
    },
    {
     "data": {
      "text/plain": [
       "\n",
       "\tKPSS Test for Level Stationarity\n",
       "\n",
       "data:  data\n",
       "KPSS Level = 0.78512, Truncation lag parameter = 5, p-value = 0.01\n"
      ]
     },
     "metadata": {},
     "output_type": "display_data"
    },
    {
     "name": "stderr",
     "output_type": "stream",
     "text": [
      "Warning message in kpss.test(returns):\n",
      "\"p-value greater than printed p-value\""
     ]
    },
    {
     "data": {
      "text/plain": [
       "\n",
       "\tKPSS Test for Level Stationarity\n",
       "\n",
       "data:  returns\n",
       "KPSS Level = 0.27032, Truncation lag parameter = 5, p-value = 0.1\n"
      ]
     },
     "metadata": {},
     "output_type": "display_data"
    }
   ],
   "source": [
    "kpss.test(data)\n",
    "kpss.test(returns)"
   ]
  },
  {
   "cell_type": "code",
   "execution_count": 27,
   "metadata": {},
   "outputs": [],
   "source": [
    "# conclusion - prices are not stationary, log returns are stationary"
   ]
  },
  {
   "cell_type": "code",
   "execution_count": null,
   "metadata": {},
   "outputs": [],
   "source": []
  },
  {
   "cell_type": "code",
   "execution_count": null,
   "metadata": {},
   "outputs": [],
   "source": []
  }
 ],
 "metadata": {
  "kernelspec": {
   "display_name": "R [conda env:r_env_testing]",
   "language": "R",
   "name": "conda-env-r_env_testing-r"
  },
  "language_info": {
   "codemirror_mode": "r",
   "file_extension": ".r",
   "mimetype": "text/x-r-source",
   "name": "R",
   "pygments_lexer": "r",
   "version": "3.6.1"
  }
 },
 "nbformat": 4,
 "nbformat_minor": 4
}
